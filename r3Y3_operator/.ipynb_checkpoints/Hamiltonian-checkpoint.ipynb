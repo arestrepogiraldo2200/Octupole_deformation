{
 "cells": [
  {
   "cell_type": "code",
   "execution_count": 1,
   "id": "6bcddba3",
   "metadata": {},
   "outputs": [],
   "source": [
    "import numpy as np\n",
    "from scipy.optimize import curve_fit\n",
    "import pandas as pd\n",
    "import matplotlib.pyplot as plt\n",
    "from sklearn.metrics import mean_squared_error\n",
    "from sklearn.metrics import r2_score \n",
    "from scipy.optimize import curve_fit\n",
    "from sympy import Matrix, print_latex, Transpose"
   ]
  },
  {
   "cell_type": "markdown",
   "id": "788259c1",
   "metadata": {},
   "source": [
    "# Elliott model\n",
    "\n",
    "Elliott's Hamiltonian is given by\n",
    "\n",
    "$$\n",
    "H= \\hbar\\omega\\hat{n} +\\lambda\\big(4\\mathcal{C}^2(\\lambda, \\mu) -3\\hat{L}^2\\big) -H_{g.s.}\n",
    "$$\n",
    "\n",
    "where the coefficient $\\lambda$ is to be fitted with experimental data."
   ]
  },
  {
   "cell_type": "code",
   "execution_count": 2,
   "id": "17be95c8",
   "metadata": {},
   "outputs": [],
   "source": [
    "# Oscillator frequency\n",
    "def hbar_omega(A):                             \n",
    "    return 45*A**(-1/3) - 25*A**(-2/3) \n",
    "\n",
    "# Operators of the Hamiltonian\n",
    "def C2(l,m):\n",
    "    return (l**2 + m**2 + l*m + 3.0*(l+m))\n",
    "\n",
    "def C3(l,m):\n",
    "    return (l-m)*(l + 2.0*m + 3.0)*(2.0*l + m + 3.0)\n",
    "\n",
    "def L2(L):\n",
    "    return L*(L+1.0)"
   ]
  },
  {
   "cell_type": "code",
   "execution_count": 3,
   "id": "7d9f47bc",
   "metadata": {},
   "outputs": [],
   "source": [
    "Th224 = pd.read_csv(\"224Th.csv\")\n",
    "\n",
    "def Treatment(DATAFRAME, l0, m0, l1, m1):   # Receives a NNDC table dataframe, the h.w. irreps (l0, m0) and (l1,m1) of n = 0,1 respectively \n",
    "    \n",
    "    DATAFRAME = DATAFRAME.drop(['T1/2'],axis=1)                         # Half life column deletion\n",
    "    DATAFRAME.Jπ = DATAFRAME.Jπ.str.extract('(\\d+)')                    # Angular momentum of level extracted\n",
    "    DATAFRAME.Nucleus = DATAFRAME.Nucleus.str.extract('(\\d+)')          # A value extracted\n",
    "    DATAFRAME = DATAFRAME.dropna(axis=0)                                # NaA data deletion\n",
    "    DATAFRAME[\"Energy\"] = DATAFRAME[\"Energy\"].str.split().str[0]        # Experimental error deletion\n",
    "\n",
    "    DATAFRAME.columns = DATAFRAME.columns.str.replace('Nucleus', 'A')   # Columns renamed\n",
    "    DATAFRAME.columns = DATAFRAME.columns.str.replace('Jπ', 'L') \n",
    "    \n",
    "    DATAFRAME['L'] = DATAFRAME['L'].astype(int)                         # Type of entries changed to apropriate numerical values\n",
    "    DATAFRAME['Energy'] = DATAFRAME['Energy'].astype(float)/1000\n",
    "    DATAFRAME['A'] = DATAFRAME['A'].astype(int)\n",
    "    \n",
    "    DATAFRAME = DATAFRAME.sort_values('L', axis=0)                      # Columns sorted by angular momentum values\n",
    "    DATAFRAME = DATAFRAME.reset_index()\n",
    "    DATAFRAME = DATAFRAME.drop(['index'] ,axis=1)\n",
    "        \n",
    "    for i in range(0, len(np.array(DATAFRAME.index))):               # Insertion of parity, theoretical irreps and n to corresponding values of L\n",
    "        \n",
    "        if (int(DATAFRAME.at[i,'L'])%2==0):\n",
    "            DATAFRAME.at[i,'n'] = 0\n",
    "            DATAFRAME.at[i,'P'] = 1\n",
    "            DATAFRAME.at[i,'lambda'] = l0\n",
    "            DATAFRAME.at[i,'mu'] = m0\n",
    "        else:\n",
    "            DATAFRAME.at[i,'n'] = 1\n",
    "            DATAFRAME.at[i,'P'] = -1\n",
    "            DATAFRAME.at[i,'lambda'] = l1\n",
    "            DATAFRAME.at[i,'mu'] = m1\n",
    "\n",
    "        DATAFRAME.at[i,'hbaromega'] = hbar_omega(int(DATAFRAME.at[i,'A']))   # Single particle oscillation amplitude\n",
    "        \n",
    "    DATAFRAME['L2'] = DATAFRAME['L']*(DATAFRAME['L']+1)                      # Insertion of L² eigenvalues\n",
    "    DATAFRAME['C2'] = C2(DATAFRAME['lambda'], DATAFRAME['mu'])               # Insertion of C²[SU(3)] eigenvalues\n",
    "    DATAFRAME['C3'] = C3(DATAFRAME['lambda'], DATAFRAME['mu'])               # Insertion of C³[SU(3)] eigenvalues\n",
    "    \n",
    "\n",
    "    return DATAFRAME\n",
    "\n",
    "# Depurated data\n",
    "Th224 = Treatment(Th224,60,8,65,6)"
   ]
  },
  {
   "cell_type": "code",
   "execution_count": 4,
   "id": "8aabcf7d",
   "metadata": {},
   "outputs": [
    {
     "data": {
      "text/html": [
       "<div>\n",
       "<style scoped>\n",
       "    .dataframe tbody tr th:only-of-type {\n",
       "        vertical-align: middle;\n",
       "    }\n",
       "\n",
       "    .dataframe tbody tr th {\n",
       "        vertical-align: top;\n",
       "    }\n",
       "\n",
       "    .dataframe thead th {\n",
       "        text-align: right;\n",
       "    }\n",
       "</style>\n",
       "<table border=\"1\" class=\"dataframe\">\n",
       "  <thead>\n",
       "    <tr style=\"text-align: right;\">\n",
       "      <th></th>\n",
       "      <th>A</th>\n",
       "      <th>Energy</th>\n",
       "      <th>L</th>\n",
       "      <th>J</th>\n",
       "      <th>n</th>\n",
       "      <th>P</th>\n",
       "      <th>lambda</th>\n",
       "      <th>mu</th>\n",
       "      <th>hbaromega</th>\n",
       "      <th>L2</th>\n",
       "      <th>C2</th>\n",
       "      <th>C3</th>\n",
       "    </tr>\n",
       "  </thead>\n",
       "  <tbody>\n",
       "    <tr>\n",
       "      <th>0</th>\n",
       "      <td>224</td>\n",
       "      <td>0.0000</td>\n",
       "      <td>0</td>\n",
       "      <td>0</td>\n",
       "      <td>0.0</td>\n",
       "      <td>1.0</td>\n",
       "      <td>60.0</td>\n",
       "      <td>8.0</td>\n",
       "      <td>6.73182</td>\n",
       "      <td>0</td>\n",
       "      <td>4348.0</td>\n",
       "      <td>538148.0</td>\n",
       "    </tr>\n",
       "    <tr>\n",
       "      <th>1</th>\n",
       "      <td>224</td>\n",
       "      <td>0.2510</td>\n",
       "      <td>1</td>\n",
       "      <td>1</td>\n",
       "      <td>1.0</td>\n",
       "      <td>-1.0</td>\n",
       "      <td>65.0</td>\n",
       "      <td>6.0</td>\n",
       "      <td>6.73182</td>\n",
       "      <td>2</td>\n",
       "      <td>4864.0</td>\n",
       "      <td>656080.0</td>\n",
       "    </tr>\n",
       "    <tr>\n",
       "      <th>2</th>\n",
       "      <td>224</td>\n",
       "      <td>0.0981</td>\n",
       "      <td>2</td>\n",
       "      <td>2</td>\n",
       "      <td>0.0</td>\n",
       "      <td>1.0</td>\n",
       "      <td>60.0</td>\n",
       "      <td>8.0</td>\n",
       "      <td>6.73182</td>\n",
       "      <td>6</td>\n",
       "      <td>4348.0</td>\n",
       "      <td>538148.0</td>\n",
       "    </tr>\n",
       "    <tr>\n",
       "      <th>3</th>\n",
       "      <td>224</td>\n",
       "      <td>0.3053</td>\n",
       "      <td>3</td>\n",
       "      <td>3</td>\n",
       "      <td>1.0</td>\n",
       "      <td>-1.0</td>\n",
       "      <td>65.0</td>\n",
       "      <td>6.0</td>\n",
       "      <td>6.73182</td>\n",
       "      <td>12</td>\n",
       "      <td>4864.0</td>\n",
       "      <td>656080.0</td>\n",
       "    </tr>\n",
       "    <tr>\n",
       "      <th>4</th>\n",
       "      <td>224</td>\n",
       "      <td>0.2841</td>\n",
       "      <td>4</td>\n",
       "      <td>4</td>\n",
       "      <td>0.0</td>\n",
       "      <td>1.0</td>\n",
       "      <td>60.0</td>\n",
       "      <td>8.0</td>\n",
       "      <td>6.73182</td>\n",
       "      <td>20</td>\n",
       "      <td>4348.0</td>\n",
       "      <td>538148.0</td>\n",
       "    </tr>\n",
       "    <tr>\n",
       "      <th>5</th>\n",
       "      <td>224</td>\n",
       "      <td>0.4645</td>\n",
       "      <td>5</td>\n",
       "      <td>5</td>\n",
       "      <td>1.0</td>\n",
       "      <td>-1.0</td>\n",
       "      <td>65.0</td>\n",
       "      <td>6.0</td>\n",
       "      <td>6.73182</td>\n",
       "      <td>30</td>\n",
       "      <td>4864.0</td>\n",
       "      <td>656080.0</td>\n",
       "    </tr>\n",
       "    <tr>\n",
       "      <th>6</th>\n",
       "      <td>224</td>\n",
       "      <td>0.5347</td>\n",
       "      <td>6</td>\n",
       "      <td>6</td>\n",
       "      <td>0.0</td>\n",
       "      <td>1.0</td>\n",
       "      <td>60.0</td>\n",
       "      <td>8.0</td>\n",
       "      <td>6.73182</td>\n",
       "      <td>42</td>\n",
       "      <td>4348.0</td>\n",
       "      <td>538148.0</td>\n",
       "    </tr>\n",
       "    <tr>\n",
       "      <th>7</th>\n",
       "      <td>224</td>\n",
       "      <td>0.6995</td>\n",
       "      <td>7</td>\n",
       "      <td>7</td>\n",
       "      <td>1.0</td>\n",
       "      <td>-1.0</td>\n",
       "      <td>65.0</td>\n",
       "      <td>6.0</td>\n",
       "      <td>6.73182</td>\n",
       "      <td>56</td>\n",
       "      <td>4864.0</td>\n",
       "      <td>656080.0</td>\n",
       "    </tr>\n",
       "    <tr>\n",
       "      <th>8</th>\n",
       "      <td>224</td>\n",
       "      <td>0.8339</td>\n",
       "      <td>8</td>\n",
       "      <td>8</td>\n",
       "      <td>0.0</td>\n",
       "      <td>1.0</td>\n",
       "      <td>60.0</td>\n",
       "      <td>8.0</td>\n",
       "      <td>6.73182</td>\n",
       "      <td>72</td>\n",
       "      <td>4348.0</td>\n",
       "      <td>538148.0</td>\n",
       "    </tr>\n",
       "    <tr>\n",
       "      <th>9</th>\n",
       "      <td>224</td>\n",
       "      <td>0.9977</td>\n",
       "      <td>9</td>\n",
       "      <td>9</td>\n",
       "      <td>1.0</td>\n",
       "      <td>-1.0</td>\n",
       "      <td>65.0</td>\n",
       "      <td>6.0</td>\n",
       "      <td>6.73182</td>\n",
       "      <td>90</td>\n",
       "      <td>4864.0</td>\n",
       "      <td>656080.0</td>\n",
       "    </tr>\n",
       "    <tr>\n",
       "      <th>10</th>\n",
       "      <td>224</td>\n",
       "      <td>1.1738</td>\n",
       "      <td>10</td>\n",
       "      <td>10</td>\n",
       "      <td>0.0</td>\n",
       "      <td>1.0</td>\n",
       "      <td>60.0</td>\n",
       "      <td>8.0</td>\n",
       "      <td>6.73182</td>\n",
       "      <td>110</td>\n",
       "      <td>4348.0</td>\n",
       "      <td>538148.0</td>\n",
       "    </tr>\n",
       "    <tr>\n",
       "      <th>11</th>\n",
       "      <td>224</td>\n",
       "      <td>1.3473</td>\n",
       "      <td>11</td>\n",
       "      <td>11</td>\n",
       "      <td>1.0</td>\n",
       "      <td>-1.0</td>\n",
       "      <td>65.0</td>\n",
       "      <td>6.0</td>\n",
       "      <td>6.73182</td>\n",
       "      <td>132</td>\n",
       "      <td>4864.0</td>\n",
       "      <td>656080.0</td>\n",
       "    </tr>\n",
       "    <tr>\n",
       "      <th>12</th>\n",
       "      <td>224</td>\n",
       "      <td>1.5498</td>\n",
       "      <td>12</td>\n",
       "      <td>12</td>\n",
       "      <td>0.0</td>\n",
       "      <td>1.0</td>\n",
       "      <td>60.0</td>\n",
       "      <td>8.0</td>\n",
       "      <td>6.73182</td>\n",
       "      <td>156</td>\n",
       "      <td>4348.0</td>\n",
       "      <td>538148.0</td>\n",
       "    </tr>\n",
       "    <tr>\n",
       "      <th>13</th>\n",
       "      <td>224</td>\n",
       "      <td>1.7387</td>\n",
       "      <td>13</td>\n",
       "      <td>13</td>\n",
       "      <td>1.0</td>\n",
       "      <td>-1.0</td>\n",
       "      <td>65.0</td>\n",
       "      <td>6.0</td>\n",
       "      <td>6.73182</td>\n",
       "      <td>182</td>\n",
       "      <td>4864.0</td>\n",
       "      <td>656080.0</td>\n",
       "    </tr>\n",
       "    <tr>\n",
       "      <th>14</th>\n",
       "      <td>224</td>\n",
       "      <td>1.9589</td>\n",
       "      <td>14</td>\n",
       "      <td>14</td>\n",
       "      <td>0.0</td>\n",
       "      <td>1.0</td>\n",
       "      <td>60.0</td>\n",
       "      <td>8.0</td>\n",
       "      <td>6.73182</td>\n",
       "      <td>210</td>\n",
       "      <td>4348.0</td>\n",
       "      <td>538148.0</td>\n",
       "    </tr>\n",
       "    <tr>\n",
       "      <th>15</th>\n",
       "      <td>224</td>\n",
       "      <td>2.1647</td>\n",
       "      <td>15</td>\n",
       "      <td>15</td>\n",
       "      <td>1.0</td>\n",
       "      <td>-1.0</td>\n",
       "      <td>65.0</td>\n",
       "      <td>6.0</td>\n",
       "      <td>6.73182</td>\n",
       "      <td>240</td>\n",
       "      <td>4864.0</td>\n",
       "      <td>656080.0</td>\n",
       "    </tr>\n",
       "    <tr>\n",
       "      <th>16</th>\n",
       "      <td>224</td>\n",
       "      <td>2.3980</td>\n",
       "      <td>16</td>\n",
       "      <td>16</td>\n",
       "      <td>0.0</td>\n",
       "      <td>1.0</td>\n",
       "      <td>60.0</td>\n",
       "      <td>8.0</td>\n",
       "      <td>6.73182</td>\n",
       "      <td>272</td>\n",
       "      <td>4348.0</td>\n",
       "      <td>538148.0</td>\n",
       "    </tr>\n",
       "    <tr>\n",
       "      <th>17</th>\n",
       "      <td>224</td>\n",
       "      <td>2.6202</td>\n",
       "      <td>17</td>\n",
       "      <td>17</td>\n",
       "      <td>1.0</td>\n",
       "      <td>-1.0</td>\n",
       "      <td>65.0</td>\n",
       "      <td>6.0</td>\n",
       "      <td>6.73182</td>\n",
       "      <td>306</td>\n",
       "      <td>4864.0</td>\n",
       "      <td>656080.0</td>\n",
       "    </tr>\n",
       "    <tr>\n",
       "      <th>18</th>\n",
       "      <td>224</td>\n",
       "      <td>2.8640</td>\n",
       "      <td>18</td>\n",
       "      <td>18</td>\n",
       "      <td>0.0</td>\n",
       "      <td>1.0</td>\n",
       "      <td>60.0</td>\n",
       "      <td>8.0</td>\n",
       "      <td>6.73182</td>\n",
       "      <td>342</td>\n",
       "      <td>4348.0</td>\n",
       "      <td>538148.0</td>\n",
       "    </tr>\n",
       "  </tbody>\n",
       "</table>\n",
       "</div>"
      ],
      "text/plain": [
       "      A  Energy   L   J    n    P  lambda   mu  hbaromega   L2      C2  \\\n",
       "0   224  0.0000   0   0  0.0  1.0    60.0  8.0    6.73182    0  4348.0   \n",
       "1   224  0.2510   1   1  1.0 -1.0    65.0  6.0    6.73182    2  4864.0   \n",
       "2   224  0.0981   2  2   0.0  1.0    60.0  8.0    6.73182    6  4348.0   \n",
       "3   224  0.3053   3   3  1.0 -1.0    65.0  6.0    6.73182   12  4864.0   \n",
       "4   224  0.2841   4   4  0.0  1.0    60.0  8.0    6.73182   20  4348.0   \n",
       "5   224  0.4645   5   5  1.0 -1.0    65.0  6.0    6.73182   30  4864.0   \n",
       "6   224  0.5347   6   6  0.0  1.0    60.0  8.0    6.73182   42  4348.0   \n",
       "7   224  0.6995   7   7  1.0 -1.0    65.0  6.0    6.73182   56  4864.0   \n",
       "8   224  0.8339   8   8  0.0  1.0    60.0  8.0    6.73182   72  4348.0   \n",
       "9   224  0.9977   9   9  1.0 -1.0    65.0  6.0    6.73182   90  4864.0   \n",
       "10  224  1.1738  10  10  0.0  1.0    60.0  8.0    6.73182  110  4348.0   \n",
       "11  224  1.3473  11  11  1.0 -1.0    65.0  6.0    6.73182  132  4864.0   \n",
       "12  224  1.5498  12  12  0.0  1.0    60.0  8.0    6.73182  156  4348.0   \n",
       "13  224  1.7387  13  13  1.0 -1.0    65.0  6.0    6.73182  182  4864.0   \n",
       "14  224  1.9589  14  14  0.0  1.0    60.0  8.0    6.73182  210  4348.0   \n",
       "15  224  2.1647  15  15  1.0 -1.0    65.0  6.0    6.73182  240  4864.0   \n",
       "16  224  2.3980  16  16  0.0  1.0    60.0  8.0    6.73182  272  4348.0   \n",
       "17  224  2.6202  17  17  1.0 -1.0    65.0  6.0    6.73182  306  4864.0   \n",
       "18  224  2.8640  18  18  0.0  1.0    60.0  8.0    6.73182  342  4348.0   \n",
       "\n",
       "          C3  \n",
       "0   538148.0  \n",
       "1   656080.0  \n",
       "2   538148.0  \n",
       "3   656080.0  \n",
       "4   538148.0  \n",
       "5   656080.0  \n",
       "6   538148.0  \n",
       "7   656080.0  \n",
       "8   538148.0  \n",
       "9   656080.0  \n",
       "10  538148.0  \n",
       "11  656080.0  \n",
       "12  538148.0  \n",
       "13  656080.0  \n",
       "14  538148.0  \n",
       "15  656080.0  \n",
       "16  538148.0  \n",
       "17  656080.0  \n",
       "18  538148.0  "
      ]
     },
     "execution_count": 4,
     "metadata": {},
     "output_type": "execute_result"
    }
   ],
   "source": [
    "Th224"
   ]
  },
  {
   "cell_type": "code",
   "execution_count": 142,
   "id": "ac889068",
   "metadata": {},
   "outputs": [],
   "source": [
    "# Extracting data into arrays\n",
    "Th224data = Th224[['hbaromega', 'n', 'C2', 'C3', 'L2']].to_numpy()\n",
    "ETh = Th224['Energy'].to_numpy()\n",
    "LTh = Th224['L'].to_numpy()\n",
    "\n",
    "# Hamiltonian for Thorium 224\n",
    "\n",
    "def Th_H(THDATA, lam):\n",
    "    \n",
    "    hbaromega = THDATA[0]\n",
    "    n = THDATA[1]\n",
    "    Cas2 = THDATA[2]\n",
    "    Lsq = THDATA[4]\n",
    "    \n",
    "    return hbaromega*n + lam*(4*Cas2 - 3*Lsq) - lam*(4*C2(60,8))"
   ]
  },
  {
   "cell_type": "code",
   "execution_count": 143,
   "id": "01e98cd2",
   "metadata": {},
   "outputs": [
    {
     "name": "stdout",
     "output_type": "stream",
     "text": [
      "Parameters: \n",
      " [-0.00320365]\n",
      "\n",
      "Covariance: \n",
      " [[1.11225633e-09]]\n"
     ]
    }
   ],
   "source": [
    "# Parameters\n",
    "poptTh, pcovTh = curve_fit(Th_H, Th224data.transpose(), ETh)\n",
    "print(\"Parameters: \\n\", poptTh)\n",
    "print(\"\\nCovariance: \\n\", pcovTh)"
   ]
  },
  {
   "cell_type": "code",
   "execution_count": 144,
   "id": "73168d54",
   "metadata": {},
   "outputs": [
    {
     "name": "stdout",
     "output_type": "stream",
     "text": [
      "L    Eth        Eexp\n",
      "0    0.0    0.0\n",
      "1    0.1387    0.251\n",
      "2    0.05767    0.0981\n",
      "3    0.23481    0.3053\n",
      "4    0.19222    0.2841\n",
      "5    0.40781    0.4645\n",
      "6    0.40366    0.5347\n",
      "7    0.65769    0.6995\n",
      "8    0.69199    0.8339\n",
      "9    0.98447    0.9977\n",
      "10    1.05721    1.1738\n",
      "11    1.38813    1.3473\n",
      "12    1.49931    1.5498\n",
      "13    1.86867    1.7387\n",
      "14    2.0183    1.9589\n",
      "15    2.42611    2.1647\n",
      "16    2.61418    2.398\n",
      "17    3.06043    2.6202\n",
      "18    3.28695    2.864\n"
     ]
    },
    {
     "data": {
      "image/png": "[encoded data removed]",
      "text/plain": [
       "<Figure size 720x720 with 1 Axes>"
      ]
     },
     "metadata": {
      "needs_background": "light"
     },
     "output_type": "display_data"
    },
    {
     "data": {
      "image/png": "[encoded data removed]",
      "text/plain": [
       "<Figure size 1080x360 with 1 Axes>"
      ]
     },
     "metadata": {
      "needs_background": "light"
     },
     "output_type": "display_data"
    },
    {
     "name": "stdout",
     "output_type": "stream",
     "text": [
      "MSE:  0.17712551679503177\n",
      "R²:  0.9595915842562901\n"
     ]
    }
   ],
   "source": [
    "# Predictions of the model\n",
    "FITTh = []\n",
    "\n",
    "print(\"L    Eth        Eexp\")\n",
    "\n",
    "for i, j, k in zip(Th224data, LTh, ETh):\n",
    "    Epred = Th_H(i, poptTh[0])\n",
    "    FITTh.append(Epred)\n",
    "    print(j, \"  \", round(Epred, 5), \"  \", round(k, 5))\n",
    "\n",
    "# Plot ===================================================================\n",
    "fig = plt.figure(figsize=(10,10))\n",
    "p = 0\n",
    "\n",
    "for i in range(len(FITTh)): \n",
    "    \n",
    "    p1 = 0.8\n",
    "\n",
    "    if i%2==0:\n",
    "        \n",
    "        plt.hlines(Th224[\"Energy\"][i], p, p+0.7, colors = \"C0\")\n",
    "        plt.text(p-0.4, Th224[\"Energy\"][i], str(i)+\"+\", fontsize = 15)\n",
    "\n",
    "        plt.hlines(FITTh[i], p+3, p+3+0.7, colors = \"C1\")\n",
    "        plt.text(p-0.2+2.8, FITTh[i], str(i)+\"+\", fontsize = 15)\n",
    "\n",
    "    else:\n",
    "        plt.hlines(Th224[\"Energy\"][i], p1, p1+0.7, colors = \"C0\")\n",
    "        plt.text(p1+0.7+0.2, Th224[\"Energy\"][i], str(i)+\"-\", fontsize = 15)\n",
    "        \n",
    "        plt.hlines(FITTh[i], p1+3, p1+3+0.7, colors = \"C1\")\n",
    "        plt.text(p1+0.7+0.2+3, FITTh[i], str(i)+\"-\", fontsize = 15)\n",
    "\n",
    "    xs = [[p+0.7, p1],[p+0.7, p1],[p+0.7, p1], [p+0.7, p1], [p1, p+0.7], [p+0.7, p1], [p1, p+0.7], [p+0.7, p1],\n",
    "      [p1, p+0.7], [p+0.7, p1], [p1, p+0.7], [p+0.7, p1], [p1, p+0.7], [p+0.7, p1], [p1, p+0.7], [p+0.7, p1],\n",
    "     [p1, p+0.7]]\n",
    "\n",
    "plt.yticks(fontsize=15)\n",
    "plt.xlim(left=-0.8, right=5.2)\n",
    "plt.tick_params(axis='x', which='both', bottom=False, top=False, labelbottom=False)\n",
    "plt.ylabel('$E$ [keV]', size=20)\n",
    "\n",
    "\n",
    "# Plot of energy levels\n",
    "fig = plt.figure(figsize=(15,5))\n",
    "plt.plot(LTh, ETh, '*', label='Exp')\n",
    "plt.plot(LTh, FITTh,'*', label='Elliott')\n",
    "plt.xticks(np.arange(0,19,1))\n",
    "plt.xlabel('L')\n",
    "plt.ylabel('E')\n",
    "plt.legend()\n",
    "plt.show()\n",
    "\n",
    "\n",
    "# RMS\n",
    "EE = Th224[\"Energy\"].to_numpy()\n",
    "ET = np.array(FITTh)\n",
    "mse = mean_squared_error(EE, ET, squared=False)\n",
    "r2 = r2_score(EE, ET)\n",
    "\n",
    "print(\"MSE: \", mse)\n",
    "print(\"R²: \", r2)"
   ]
  },
  {
   "cell_type": "markdown",
   "id": "cd3377b7",
   "metadata": {},
   "source": [
    "# J. Cseh model"
   ]
  },
  {
   "cell_type": "markdown",
   "id": "4ee68166",
   "metadata": {},
   "source": [
    "The Hamiltonian that considers a quadrupole interaction is given by \n",
    "\n",
    "$$H = \\hbar\\omega\\hat{n} + a\\big(\\hat{C}^2_{SU(3)}(\\lambda, \\mu) -0.004 \\hat{C}^3_{SU(3)}(\\lambda, \\mu)\\big) + c\\hat{L}^2 -H_{g.s.}$$\n",
    "\n",
    "where the coefficients $a$ and $c$ are to be fitted with experimental data.\n"
   ]
  },
  {
   "cell_type": "code",
   "execution_count": 149,
   "id": "91f1c33a",
   "metadata": {},
   "outputs": [],
   "source": [
    "# Extracting data into arrays\n",
    "Th224data = Th224[['hbaromega', 'n', 'C2', 'C3', 'L2']].to_numpy()\n",
    "ETh = Th224['Energy'].to_numpy()\n",
    "LTh = Th224['L'].to_numpy()\n",
    "\n",
    "# Hamiltonian for Thorium 224\n",
    "\n",
    "def Th_H_Cseh(THDATA, a,  c):\n",
    "    \n",
    "    hbaromega = THDATA[0]\n",
    "    n = THDATA[1]\n",
    "    Cas2 = THDATA[2]\n",
    "    Cas3 = THDATA[3]\n",
    "    Lsq = THDATA[4]\n",
    "    \n",
    "    return hbaromega*n + a*(Cas2 -0.004*Cas3) + c*Lsq - a*(C2(60,8) - 0.004*C3(60,8))"
   ]
  },
  {
   "cell_type": "code",
   "execution_count": 150,
   "id": "7e7e145a",
   "metadata": {},
   "outputs": [
    {
     "name": "stdout",
     "output_type": "stream",
     "text": [
      "Parameters: \n",
      " [-0.1484587   0.00871961]\n",
      "\n",
      "Covariance: \n",
      " [[ 1.17446312e-06 -1.10755962e-07]\n",
      " [-1.10755962e-07  4.20290551e-08]]\n"
     ]
    }
   ],
   "source": [
    "# Parameters\n",
    "poptThCseh, pcovThCseh = curve_fit(Th_H_Cseh, Th224data.transpose(), ETh)\n",
    "print(\"Parameters: \\n\", poptThCseh)\n",
    "print(\"\\nCovariance: \\n\", pcovThCseh)"
   ]
  },
  {
   "cell_type": "code",
   "execution_count": 10,
   "id": "9359dec4",
   "metadata": {},
   "outputs": [
    {
     "name": "stdout",
     "output_type": "stream",
     "text": [
      "L    Eth        Eexp\n",
      "0    0.0    0.0\n",
      "1    0.1767    0.251\n",
      "2    0.05232    0.0981\n",
      "3    0.26389    0.3053\n",
      "4    0.17439    0.2841\n",
      "5    0.42084    0.4645\n",
      "6    0.36622    0.5347\n",
      "7    0.64755    0.6995\n",
      "8    0.62781    0.8339\n",
      "9    0.94402    0.9977\n",
      "10    0.95916    1.1738\n",
      "11    1.31025    1.3473\n",
      "12    1.36026    1.5498\n",
      "13    1.74623    1.7387\n",
      "14    1.83112    1.9589\n",
      "15    2.25196    2.1647\n",
      "16    2.37173    2.398\n",
      "17    2.82746    2.6202\n",
      "18    2.98211    2.864\n"
     ]
    },
    {
     "data": {
      "image/png": "[encoded data removed]",
      "text/plain": [
       "<Figure size 720x720 with 1 Axes>"
      ]
     },
     "metadata": {
      "needs_background": "light"
     },
     "output_type": "display_data"
    },
    {
     "data": {
      "image/png": "[encoded data removed]",
      "text/plain": [
       "<Figure size 1080x360 with 1 Axes>"
      ]
     },
     "metadata": {
      "needs_background": "light"
     },
     "output_type": "display_data"
    },
    {
     "name": "stdout",
     "output_type": "stream",
     "text": [
      "MSE:  0.11802638196209422\n",
      "R²:  0.9820581281037594\n"
     ]
    }
   ],
   "source": [
    "# Predictions of the model\n",
    "FITThCseh = []\n",
    "\n",
    "print(\"L    Eth        Eexp\")\n",
    "for i, j, k in zip(Th224data, LTh, ETh):\n",
    "    Epred = Th_H_Cseh(i, poptThCseh[0], poptThCseh[1])\n",
    "    FITThCseh.append(Epred)\n",
    "    print(j, \"  \", round(Epred, 5), \"  \", round(k, 5))\n",
    "\n",
    "# Plot\n",
    "fig = plt.figure(figsize=(10,10))\n",
    "\n",
    "p = 0\n",
    "\n",
    "for i in range(len(FITThCseh)): \n",
    "    \n",
    "    p1 = 0.8\n",
    "\n",
    "    if i%2==0:\n",
    "        \n",
    "        plt.hlines(Th224[\"Energy\"][i], p, p+0.7, colors = \"C0\")\n",
    "        plt.text(p-0.4, Th224[\"Energy\"][i], str(i)+\"+\", fontsize = 15)\n",
    "\n",
    "        plt.hlines(FITThCseh[i], p+3, p+3+0.7, colors = \"C1\")\n",
    "        plt.text(p-0.2+2.8, FITThCseh[i], str(i)+\"+\", fontsize = 15)\n",
    "\n",
    "    else:\n",
    "        plt.hlines(Th224[\"Energy\"][i], p1, p1+0.7, colors = \"C0\")\n",
    "        plt.text(p1+0.7+0.2, Th224[\"Energy\"][i], str(i)+\"-\", fontsize = 15)\n",
    "        \n",
    "        plt.hlines(FITThCseh[i], p1+3, p1+3+0.7, colors = \"C1\")\n",
    "        plt.text(p1+0.7+0.2+3, FITThCseh[i], str(i)+\"-\", fontsize = 15)\n",
    "\n",
    "    xs = [[p+0.7, p1],[p+0.7, p1],[p+0.7, p1], [p+0.7, p1], [p1, p+0.7], [p+0.7, p1], [p1, p+0.7], [p+0.7, p1],\n",
    "      [p1, p+0.7], [p+0.7, p1], [p1, p+0.7], [p+0.7, p1], [p1, p+0.7], [p+0.7, p1], [p1, p+0.7], [p+0.7, p1],\n",
    "     [p1, p+0.7]]\n",
    "\n",
    "plt.yticks(fontsize=15)\n",
    "plt.xlim(left=-0.8, right=5.2)\n",
    "plt.tick_params(axis='x', which='both', bottom=False, top=False, labelbottom=False)\n",
    "plt.ylabel('$E$ [keV]', size=20)\n",
    "\n",
    "\n",
    "# Plot of energy levels\n",
    "fig = plt.figure(figsize=(15,5))\n",
    "plt.plot(LTh, ETh, '*', label='Exp')\n",
    "plt.plot(LTh, FITThCseh,'*', label='Cseh')\n",
    "plt.xticks(np.arange(0,19,1))\n",
    "plt.xlabel('L')\n",
    "plt.ylabel('E')\n",
    "plt.legend()\n",
    "plt.show()\n",
    "\n",
    "\n",
    "# RMS\n",
    "EECseh = Th224[\"Energy\"].to_numpy()\n",
    "ETCseh = np.array(FITThCseh)\n",
    "mse = mean_squared_error(EECseh, ETCseh, squared=False)\n",
    "r2 = r2_score(EECseh, ETCseh)\n",
    "\n",
    "print(\"MSE: \", mse)\n",
    "print(\"R²: \", r2)"
   ]
  },
  {
   "cell_type": "markdown",
   "id": "a831a7db",
   "metadata": {},
   "source": [
    "# Elliott model plus octupole-octupole\n",
    "\n",
    "Elliott's Hamiltonian is given by\n",
    "\n",
    "$$\n",
    "H = \\hbar\\omega\\hat{n}+\\chi \\mathcal{Q}^2\\cdot \\mathcal{Q}^2 +\\tau \\mathcal{O}^3\\cdot \\mathcal{O}^3 -H_{g.s}\n",
    "$$\n",
    "\n",
    "where the coefficients $\\lambda$ and $\\tau$ are to be fitted with experimental data. This Hamiltonian has non-diagonal matrix elements so that a diagonalization procedure must be done as well."
   ]
  },
  {
   "cell_type": "code",
   "execution_count": 48,
   "id": "b74eb68f",
   "metadata": {},
   "outputs": [],
   "source": [
    "# States in order g.s, ex. band and O.O matrix elements\n",
    "statesJ = [0,2,4,6,8,10,12,14,16,18, 1,3,5,7,9,11,13,15,17]\n",
    "#statesJ = [1,3,5,7,9,11,13,15,17]\n",
    "\n",
    "OOelements = [[0 , 4.594636832158156 ], \n",
    "              [2 , 25.897404390428918],\n",
    "              [4 , 36.64373965329687 ],\n",
    "              [6 , 32.02807172615931 ],\n",
    "              [8 , 30.43605063680653 ],\n",
    "              [10, 29.478032666197976],\n",
    "              [12, 28.809564685423616],\n",
    "              [14, 28.386468852633715],\n",
    "              [16, 28.249112819334112],\n",
    "              [18, 28.469265255959932],\n",
    "              [1 , 0.05827510520886164, 12.792934574833067, 0.8056997994585147],\n",
    "              [3 , 0.8027153972596531 , 50.66205957815311 , 5.865266667267474 ],\n",
    "              [5 , 0.7431622423566357 , 32.93119278267128 , 3.9895444714984682],\n",
    "              [7 , 1.0361949960445656 , 29.997444920714177, 4.177603301814239 ],\n",
    "              [9 , 1.4556022761715535 , 28.228602287410055, 4.651988557486208 ],\n",
    "              [11, 1.9908342402682555 , 26.737817986795083, 5.28461444373919  ],\n",
    "              [13, 2.643896303363192  , 25.36755058570206 , 6.039956564565625 ],\n",
    "              [15, 3.420273364925814  , 24.119175164769597, 6.905734645335472 ],\n",
    "              [17, 4.327215153647977  , 23.046987186973166, 7.881763256425683 ]]"
   ]
  },
  {
   "cell_type": "code",
   "execution_count": 66,
   "id": "e14f4c2d",
   "metadata": {},
   "outputs": [],
   "source": [
    "def Hamiltonian_O_O(statesJ, chi, tau, alpha):\n",
    "    \n",
    "    E = []\n",
    "    \n",
    "    for J in statesJ:\n",
    "    \n",
    "        OO = next((element for element in OOelements if element[0] == J), None)[1:]\n",
    "\n",
    "        if J%2==0:\n",
    "\n",
    "            E.append( chi*(4*C2(60,8)-3*L2(J)) + tau*OO[0] - chi*4*C2(60,8) - tau*4.594636832158156 )\n",
    "\n",
    "        else:\n",
    "\n",
    "            E.append( hbar_omega(224) + chi*(4*C2(65,6)-3*L2(J)) + tau*( alpha*OO[0] + 2*np.sqrt(alpha*(1-alpha))*OO[2] + (1-alpha)*OO[1] ) - chi*4*C2(60,8) - tau*4.594636832158156 )\n",
    "\n",
    "    return np.array(E)"
   ]
  },
  {
   "cell_type": "code",
   "execution_count": 67,
   "id": "f3af884a",
   "metadata": {},
   "outputs": [],
   "source": [
    "EE_O_O = np.concatenate((Th224[Th224[\"L\"]%2==0][\"Energy\"].to_numpy(), \n",
    "                         Th224[Th224[\"L\"]%2!=0][\"Energy\"].to_numpy()))\n",
    "\n",
    "#EE_O_O = Th224[Th224[\"L\"]%2!=0][\"Energy\"].to_numpy()"
   ]
  },
  {
   "cell_type": "code",
   "execution_count": 68,
   "id": "187f964f",
   "metadata": {},
   "outputs": [
    {
     "name": "stdout",
     "output_type": "stream",
     "text": [
      "Parameters:\n",
      "χ = -0.003190690965328592 \n",
      "τ = -0.0015707453141322958 \n",
      "α = 0.23984823519451925\n",
      "\n",
      "Covariance: \n",
      " [[ 7.41467346e-09  9.85216243e-08 -4.04885322e-04]\n",
      " [ 9.85216243e-08  7.20305939e-06 -9.10981747e-03]\n",
      " [-4.04885322e-04 -9.10981747e-03  2.76854015e+01]]\n"
     ]
    }
   ],
   "source": [
    "# Estimation of parameters\n",
    "param_bounds=([-np.inf,-np.inf,0],[np.inf,np.inf,1])\n",
    "#, p0 = [-0.00320365, -0.0001, 0.7]\n",
    "poptTh_O_O, pcovTh_O_O = curve_fit(Hamiltonian_O_O, statesJ, EE_O_O, bounds=param_bounds)\n",
    "\n",
    "print(\"Parameters:\")\n",
    "print(\"χ =\",poptTh_O_O[0], \"\\nτ =\",poptTh_O_O[1], \"\\nα =\",poptTh_O_O[2])\n",
    "print(\"\\nCovariance: \\n\", pcovTh_O_O)"
   ]
  },
  {
   "cell_type": "code",
   "execution_count": 69,
   "id": "239d70cb",
   "metadata": {},
   "outputs": [
    {
     "name": "stdout",
     "output_type": "stream",
     "text": [
      "L    Eth        Eexp\n",
      "0    -0.0    0.0\n",
      "2    0.02397    0.0981\n",
      "4    0.1411    0.2841\n",
      "6    0.35894    0.5347\n",
      "8    0.6486    0.8339\n",
      "10    1.01384    1.1738\n",
      "12    1.45521    1.5498\n",
      "14    1.97276    1.9589\n",
      "16    2.56645    2.398\n",
      "18    3.23615    2.864\n",
      "1    0.15622    0.251\n",
      "3    0.19965    0.3053\n",
      "5    0.39566    0.4645\n",
      "7    0.64768    0.6995\n",
      "9    0.97444    0.9977\n",
      "11    1.3772    1.3473\n",
      "13    1.85618    1.7387\n",
      "15    2.4114    2.1647\n",
      "17    3.04278    2.6202\n"
     ]
    },
    {
     "data": {
      "image/png": "[encoded data removed]",
      "text/plain": [
       "<Figure size 720x720 with 1 Axes>"
      ]
     },
     "metadata": {
      "needs_background": "light"
     },
     "output_type": "display_data"
    },
    {
     "data": {
      "image/png": "[encoded data removed]",
      "text/plain": [
       "<Figure size 1080x360 with 1 Axes>"
      ]
     },
     "metadata": {
      "needs_background": "light"
     },
     "output_type": "display_data"
    },
    {
     "name": "stdout",
     "output_type": "stream",
     "text": [
      "\n",
      "MSE:  0.17396485127702688\n",
      "R²:  0.9610208303584834\n"
     ]
    }
   ],
   "source": [
    "ET_O_O = Hamiltonian_O_O(statesJ, poptTh_O_O[0], poptTh_O_O[1], poptTh_O_O[2])\n",
    "#ET_O_O = Hamiltonian_O_O(statesJ, -0.003,-0.004,0.23984823519451925)\n",
    "\n",
    "\n",
    "print(\"L    Eth        Eexp\")\n",
    "for i, j, k in zip(statesJ, ET_O_O, EE_O_O):\n",
    "    print(i, \"  \", round(j, 5), \"  \", round(k, 5))\n",
    "\n",
    "#=================================================================================\n",
    "\n",
    "# Plot\n",
    "fig = plt.figure(figsize=(10,10))\n",
    "\n",
    "p = 0\n",
    "\n",
    "for i in range(len(statesJ)): \n",
    "    \n",
    "    p1 = 0.8\n",
    "\n",
    "    if statesJ[i]%2==0:\n",
    "        \n",
    "        plt.hlines(EE_O_O[i], p, p+0.7, colors = \"C0\")\n",
    "        plt.text(p-0.4, EE_O_O[i], str(statesJ[i])+\"+\", fontsize = 15)\n",
    "\n",
    "        plt.hlines(ET_O_O[i], p+3, p+3+0.7, colors = \"C1\")\n",
    "        plt.text(p-0.2+2.8, ET_O_O[i], str(statesJ[i])+\"+\", fontsize = 15)\n",
    "\n",
    "    else:\n",
    "        plt.hlines(EE_O_O[i], p1, p1+0.7, colors = \"C0\")\n",
    "        plt.text(p1+0.7+0.2, EE_O_O[i], str(statesJ[i])+\"-\", fontsize = 15)\n",
    "        \n",
    "        plt.hlines(ET_O_O[i], p1+3, p1+3+0.7, colors = \"C1\")\n",
    "        plt.text(p1+0.7+0.2+3, ET_O_O[i], str(statesJ[i])+\"-\", fontsize = 15)\n",
    "\n",
    "    xs = [[p+0.7, p1],[p+0.7, p1],[p+0.7, p1], [p+0.7, p1], [p1, p+0.7], [p+0.7, p1], [p1, p+0.7], [p+0.7, p1],\n",
    "      [p1, p+0.7], [p+0.7, p1], [p1, p+0.7], [p+0.7, p1], [p1, p+0.7], [p+0.7, p1], [p1, p+0.7], [p+0.7, p1],\n",
    "     [p1, p+0.7]]\n",
    "\n",
    "plt.yticks(fontsize=15)\n",
    "plt.xlim(left=-0.8, right=5.2)\n",
    "plt.tick_params(axis='x', which='both', bottom=False, top=False, labelbottom=False)\n",
    "plt.ylabel('$E$ [keV]', size=20)\n",
    "\n",
    "\n",
    "# Plot of energy levels\n",
    "fig = plt.figure(figsize=(15,5))\n",
    "plt.plot(statesJ, EE_O_O, '*', label='Exp')\n",
    "plt.plot(statesJ, ET_O_O,'*', label='Cseh')\n",
    "plt.xticks(np.arange(0,19,1))\n",
    "plt.xlabel('L')\n",
    "plt.ylabel('E')\n",
    "plt.legend()\n",
    "plt.show()\n",
    "\n",
    "#=================================================================================\n",
    "\n",
    "mse = mean_squared_error(EE_O_O, ET_O_O, squared=False)\n",
    "r2 = r2_score(EE_O_O, ET_O_O)\n",
    "\n",
    "print(\"\\nMSE: \", mse)\n",
    "print(\"R²: \", r2)"
   ]
  },
  {
   "cell_type": "markdown",
   "id": "acd8bd8c",
   "metadata": {},
   "source": [
    "# J. Cseh model plus octupole-octupole\n",
    "\n",
    "\n",
    "The Hamiltonian will be\n",
    "\n",
    "$$H = \\hbar\\omega\\hat{n} + a\\big(\\hat{C}^2_{SU(3)}(\\lambda, \\mu) -0.004 \\hat{C}^3_{SU(3)}(\\lambda, \\mu)\\big) + c\\hat{L}^2 + d\\mathcal{O}^3\\cdot \\mathcal{O}^3 - H_{g.s.}$$\n",
    "\n",
    "where the coefficients $a,c$ and $d$ are to be fitted with experimental data.\n"
   ]
  },
  {
   "cell_type": "code",
   "execution_count": 114,
   "id": "23bd1354",
   "metadata": {},
   "outputs": [],
   "source": [
    "# States in order g.s, ex. band and O.O matrix elements\n",
    "statesJ = [0,2,4,6,8,10,12,14,16,18, 1,3,5,7,9,11,13,15,17]\n",
    "\n",
    "OOelements = [[0 , 4.594636832158156 ], \n",
    "              [2 , 25.897404390428918],\n",
    "              [4 , 36.64373965329687 ],\n",
    "              [6 , 32.02807172615931 ],\n",
    "              [8 , 30.43605063680653 ],\n",
    "              [10, 29.478032666197976],\n",
    "              [12, 28.809564685423616],\n",
    "              [14, 28.386468852633715],\n",
    "              [16, 28.249112819334112],\n",
    "              [18, 28.469265255959932],\n",
    "              [1 , 0.05827510520886164, 12.792934574833067, 0.8056997994585147],\n",
    "              [3 , 0.8027153972596531 , 50.66205957815311 , 5.865266667267474 ],\n",
    "              [5 , 0.7431622423566357 , 32.93119278267128 , 3.9895444714984682],\n",
    "              [7 , 1.0361949960445656 , 29.997444920714177, 4.177603301814239 ],\n",
    "              [9 , 1.4556022761715535 , 28.228602287410055, 4.651988557486208 ],\n",
    "              [11, 1.9908342402682555 , 26.737817986795083, 5.28461444373919  ],\n",
    "              [13, 2.643896303363192  , 25.36755058570206 , 6.039956564565625 ],\n",
    "              [15, 3.420273364925814  , 24.119175164769597, 6.905734645335472 ],\n",
    "              [17, 4.327215153647977  , 23.046987186973166, 7.881763256425683 ]]"
   ]
  },
  {
   "cell_type": "code",
   "execution_count": 115,
   "id": "ab35f358",
   "metadata": {},
   "outputs": [],
   "source": [
    "def Hamiltonian_O_O_Cseh(statesJ, a, c, d, alpha):\n",
    "    \n",
    "    E = []\n",
    "    #alpha = 0.3\n",
    "        \n",
    "    for J in statesJ:\n",
    "    \n",
    "        OO = next((element for element in OOelements if element[0] == J), None)[1:]\n",
    "\n",
    "        if J%2==0:\n",
    "\n",
    "            E.append( a*(C2(60,8) - 0.004*C3(60,8)) + c*L2(J) + d*OO[0] - a*(C2(60,8) - 0.004*C3(60,8)) - d*4.594636832158156 )             \n",
    "\n",
    "            #E.append( a*(C2(60,8)) + c*L2(J) + d*OO[0] - a*(C2(60,8)) - d*4.594636832158156 )             \n",
    "\n",
    "        else:\n",
    "\n",
    "            E.append( hbar_omega(224) + a*(C2(65,6) - 0.004*C3(65,6)) + c*L2(J) + d*( alpha*OO[0] + 2*np.sqrt(alpha*(1-alpha))*OO[2] + (1-alpha)*OO[1] ) - a*(C2(60,8) - 0.004*C3(60,8)) - d*4.594636832158156 )             \n",
    "                     \n",
    "            #E.append( hbar_omega(224) + a*(C2(65,6) ) + c*L2(J) + d*( alpha*OO[0] + 2*np.sqrt(alpha*(1-alpha))*OO[2] + (1-alpha)*OO[1] ) - a*(C2(60,8) ) - d*4.594636832158156 )             \n",
    "         \n",
    "                     \n",
    "\n",
    "    return np.array(E)"
   ]
  },
  {
   "cell_type": "code",
   "execution_count": 116,
   "id": "2037bc38",
   "metadata": {},
   "outputs": [],
   "source": [
    "EE_O_O_Cseh = np.concatenate((Th224[Th224[\"L\"]%2==0][\"Energy\"].to_numpy(), \n",
    "                         Th224[Th224[\"L\"]%2!=0][\"Energy\"].to_numpy()))"
   ]
  },
  {
   "cell_type": "code",
   "execution_count": 119,
   "id": "f18cac4a",
   "metadata": {},
   "outputs": [
    {
     "name": "stdout",
     "output_type": "stream",
     "text": [
      "Parameters:\n",
      "a = -0.14631527512292503 \n",
      "c = 0.008085330306099387 \n",
      "d = 0.007560056494861052 \n",
      "α = 0.9999999999999999\n",
      "\n",
      "Covariance: \n",
      " [[ 2.53413489e-06  5.17481726e-08 -1.48751329e-07  1.67354399e-07]\n",
      " [ 5.17481726e-08  3.50111530e-08 -1.82466402e-07  1.09596010e-08]\n",
      " [-1.48751329e-07 -1.82466402e-07  1.88298710e-06 -5.26916744e-08]\n",
      " [ 1.67354399e-07  1.09596010e-08 -5.26916744e-08  1.40714044e-08]]\n"
     ]
    }
   ],
   "source": [
    "# Estimation of parameters\n",
    "param_bounds=([-np.inf,-np.inf,-np.inf,0],[np.inf,np.inf,np.inf,1])\n",
    "#, p0 = [-0.00320365, -0.0001, 0.7]\n",
    "poptTh_O_O_Cseh, pcovTh_O_O_Cseh = curve_fit(Hamiltonian_O_O_Cseh, statesJ, EE_O_O_Cseh, bounds=param_bounds)\n",
    "\n",
    "print(\"Parameters:\")\n",
    "print(\"a =\",poptTh_O_O_Cseh[0], \"\\nc =\",poptTh_O_O_Cseh[1], \"\\nd =\",poptTh_O_O_Cseh[2],  \"\\nα =\",poptTh_O_O_Cseh[3])\n",
    "print(\"\\nCovariance: \\n\", pcovTh_O_O_Cseh)"
   ]
  },
  {
   "cell_type": "code",
   "execution_count": 120,
   "id": "9c729a69",
   "metadata": {},
   "outputs": [
    {
     "name": "stdout",
     "output_type": "stream",
     "text": [
      "L    Eth        Eexp\n",
      "0    -0.0    0.0\n",
      "2    0.20956    0.0981\n",
      "4    0.404    0.2841\n",
      "6    0.54698    0.5347\n",
      "8    0.77751    0.8339\n",
      "10    1.07751    1.1738\n",
      "12    1.44438    1.5498\n",
      "14    1.87779    1.9589\n",
      "16    2.37804    2.398\n",
      "18    2.94568    2.864\n",
      "1    0.23603    0.251\n",
      "3    0.32251    0.3053\n",
      "5    0.46759    0.4645\n",
      "7    0.68003    0.6995\n",
      "9    0.9581    0.9977\n",
      "11    1.30173    1.3473\n",
      "13    1.71093    1.7387\n",
      "15    2.18575    2.1647\n",
      "17    2.72624    2.6202\n"
     ]
    },
    {
     "data": {
      "image/png": "[encoded data removed]",
      "text/plain": [
       "<Figure size 720x720 with 1 Axes>"
      ]
     },
     "metadata": {
      "needs_background": "light"
     },
     "output_type": "display_data"
    },
    {
     "data": {
      "image/png": "[encoded data removed]",
      "text/plain": [
       "<Figure size 1080x360 with 1 Axes>"
      ]
     },
     "metadata": {
      "needs_background": "light"
     },
     "output_type": "display_data"
    },
    {
     "name": "stdout",
     "output_type": "stream",
     "text": [
      "\n",
      "MSE:  0.0653648184931209\n",
      "R²:  0.9944970231968658\n"
     ]
    }
   ],
   "source": [
    "ET_O_O_Cseh = Hamiltonian_O_O_Cseh(statesJ, poptTh_O_O_Cseh[0], poptTh_O_O_Cseh[1], poptTh_O_O_Cseh[2], poptTh_O_O_Cseh[3])\n",
    "\n",
    "print(\"L    Eth        Eexp\")\n",
    "for i, j, k in zip(statesJ, ET_O_O_Cseh, EE_O_O_Cseh):\n",
    "    print(i, \"  \", round(j, 5), \"  \", round(k, 5))\n",
    "\n",
    "#=================================================================================\n",
    "\n",
    "# Plot\n",
    "fig = plt.figure(figsize=(10,10))\n",
    "\n",
    "p = 0\n",
    "\n",
    "for i in range(len(statesJ)): \n",
    "    \n",
    "    p1 = 0.8\n",
    "\n",
    "    if statesJ[i]%2==0:\n",
    "        \n",
    "        plt.hlines(EE_O_O_Cseh[i], p, p+0.7, colors = \"C0\")\n",
    "        plt.text(p-0.4, EE_O_O_Cseh[i], str(statesJ[i])+\"+\", fontsize = 15)\n",
    "\n",
    "        plt.hlines(ET_O_O_Cseh[i], p+3, p+3+0.7, colors = \"C1\")\n",
    "        plt.text(p-0.2+2.8, ET_O_O_Cseh[i], str(statesJ[i])+\"+\", fontsize = 15)\n",
    "\n",
    "    else:\n",
    "        plt.hlines(EE_O_O_Cseh[i], p1, p1+0.7, colors = \"C0\")\n",
    "        plt.text(p1+0.7+0.2, EE_O_O_Cseh[i], str(statesJ[i])+\"-\", fontsize = 15)\n",
    "        \n",
    "        plt.hlines(ET_O_O_Cseh[i], p1+3, p1+3+0.7, colors = \"C1\")\n",
    "        plt.text(p1+0.7+0.2+3, ET_O_O_Cseh[i], str(statesJ[i])+\"-\", fontsize = 15)\n",
    "\n",
    "    xs = [[p+0.7, p1],[p+0.7, p1],[p+0.7, p1], [p+0.7, p1], [p1, p+0.7], [p+0.7, p1], [p1, p+0.7], [p+0.7, p1],\n",
    "      [p1, p+0.7], [p+0.7, p1], [p1, p+0.7], [p+0.7, p1], [p1, p+0.7], [p+0.7, p1], [p1, p+0.7], [p+0.7, p1],\n",
    "     [p1, p+0.7]]\n",
    "\n",
    "plt.yticks(fontsize=15)\n",
    "plt.xlim(left=-0.8, right=5.2)\n",
    "plt.tick_params(axis='x', which='both', bottom=False, top=False, labelbottom=False)\n",
    "plt.ylabel('$E$ [keV]', size=20)\n",
    "\n",
    "\n",
    "# Plot of energy levels\n",
    "fig = plt.figure(figsize=(15,5))\n",
    "plt.plot(statesJ, EE_O_O_Cseh, '*', label='Exp')\n",
    "plt.plot(statesJ, ET_O_O_Cseh,'*', label='Cseh')\n",
    "plt.xticks(np.arange(0,19,1))\n",
    "plt.xlabel('L')\n",
    "plt.ylabel('E')\n",
    "plt.legend()\n",
    "plt.show()\n",
    "\n",
    "#=================================================================================\n",
    "\n",
    "mse = mean_squared_error(EE_O_O_Cseh, ET_O_O_Cseh, squared=False)\n",
    "r2 = r2_score(EE_O_O_Cseh, ET_O_O_Cseh)\n",
    "\n",
    "print(\"\\nMSE: \", mse)\n",
    "print(\"R²: \", r2)"
   ]
  },
  {
   "cell_type": "code",
   "execution_count": null,
   "id": "b264e81d",
   "metadata": {},
   "outputs": [],
   "source": []
  },
  {
   "cell_type": "code",
   "execution_count": null,
   "id": "71d779be",
   "metadata": {},
   "outputs": [],
   "source": []
  },
  {
   "cell_type": "code",
   "execution_count": null,
   "id": "f02ee949",
   "metadata": {},
   "outputs": [],
   "source": []
  },
  {
   "cell_type": "code",
   "execution_count": null,
   "id": "b5f76753",
   "metadata": {},
   "outputs": [],
   "source": []
  },
  {
   "cell_type": "code",
   "execution_count": null,
   "id": "e13d48a8",
   "metadata": {},
   "outputs": [],
   "source": []
  },
  {
   "cell_type": "code",
   "execution_count": null,
   "id": "9b9f2053",
   "metadata": {},
   "outputs": [],
   "source": []
  },
  {
   "cell_type": "code",
   "execution_count": null,
   "id": "da91a69e",
   "metadata": {},
   "outputs": [],
   "source": []
  },
  {
   "cell_type": "code",
   "execution_count": null,
   "id": "8d10ec24",
   "metadata": {},
   "outputs": [],
   "source": []
  },
  {
   "cell_type": "code",
   "execution_count": null,
   "id": "ebb991a9",
   "metadata": {},
   "outputs": [],
   "source": []
  },
  {
   "cell_type": "code",
   "execution_count": null,
   "id": "8339bafa",
   "metadata": {},
   "outputs": [],
   "source": []
  },
  {
   "cell_type": "code",
   "execution_count": null,
   "id": "06068d43",
   "metadata": {},
   "outputs": [],
   "source": []
  },
  {
   "cell_type": "code",
   "execution_count": null,
   "id": "520e7a3a",
   "metadata": {},
   "outputs": [],
   "source": []
  },
  {
   "cell_type": "code",
   "execution_count": null,
   "id": "8e787be2",
   "metadata": {},
   "outputs": [],
   "source": []
  },
  {
   "cell_type": "code",
   "execution_count": null,
   "id": "8b9a294b",
   "metadata": {},
   "outputs": [],
   "source": []
  },
  {
   "cell_type": "code",
   "execution_count": null,
   "id": "af314e62",
   "metadata": {},
   "outputs": [],
   "source": []
  },
  {
   "cell_type": "code",
   "execution_count": null,
   "id": "5686ad2d",
   "metadata": {},
   "outputs": [],
   "source": []
  },
  {
   "cell_type": "code",
   "execution_count": null,
   "id": "76a68988",
   "metadata": {},
   "outputs": [],
   "source": []
  },
  {
   "cell_type": "code",
   "execution_count": null,
   "id": "7ae177ef",
   "metadata": {},
   "outputs": [],
   "source": []
  },
  {
   "cell_type": "code",
   "execution_count": null,
   "id": "db71901e",
   "metadata": {},
   "outputs": [],
   "source": []
  },
  {
   "cell_type": "code",
   "execution_count": null,
   "id": "f84dea46",
   "metadata": {},
   "outputs": [],
   "source": []
  },
  {
   "cell_type": "code",
   "execution_count": null,
   "id": "82d1629e",
   "metadata": {},
   "outputs": [],
   "source": []
  },
  {
   "cell_type": "code",
   "execution_count": null,
   "id": "19307291",
   "metadata": {},
   "outputs": [],
   "source": []
  },
  {
   "cell_type": "code",
   "execution_count": null,
   "id": "73016304",
   "metadata": {},
   "outputs": [],
   "source": []
  },
  {
   "cell_type": "code",
   "execution_count": null,
   "id": "999206b1",
   "metadata": {},
   "outputs": [],
   "source": []
  },
  {
   "cell_type": "markdown",
   "id": "b56db644",
   "metadata": {},
   "source": [
    "# Octupole-octupole ATTEMPT TWO\n",
    "\n",
    "\n"
   ]
  },
  {
   "cell_type": "code",
   "execution_count": 58,
   "id": "0a2dbe6b",
   "metadata": {},
   "outputs": [],
   "source": [
    "# States in order g.s, ex. b\n",
    "statesJ = [0,2,4,6,8,10,12,14,16,18, 1,3,5,7,9,11,13,15,17, 1,3,5,7,9,11,13,15,17]\n",
    "\n",
    "# Functions to \n",
    "def hwMatrix(J):\n",
    "    if J%2 == 0:\n",
    "        return 0\n",
    "    else:\n",
    "        return hbar_omega(224)\n",
    "         \n",
    "def QQMatrix(J):\n",
    "    if J%2 == 0:\n",
    "        return 4*C2(60,8)-3*L2(J)\n",
    "    else:\n",
    "        return 4*C2(65,6)-3*L2(J)\n",
    "    \n",
    "def gsMatrix(J):\n",
    "    return 4*C2(60,8)"
   ]
  },
  {
   "cell_type": "code",
   "execution_count": 59,
   "id": "8f40b43f",
   "metadata": {},
   "outputs": [],
   "source": [
    "# 2D Arrays to store the matrix elements as matrices\n",
    "m_h_w = np.zeros((len(statesJ), len(statesJ)))\n",
    "m_Q_Q = np.zeros((len(statesJ), len(statesJ)))\n",
    "m_g_s = np.zeros((len(statesJ), len(statesJ)))\n",
    "m_O_O = np.zeros((len(statesJ), len(statesJ)))\n",
    "\n",
    "# Matrix elements of O.O\n",
    "Egs = [4.594636832158156,\n",
    "       25.897404390428918,\n",
    "       36.64373965329687,\n",
    "       32.02807172615931,\n",
    "       30.43605063680653, \n",
    "       29.478032666197976, \n",
    "       28.809564685423616, \n",
    "       28.386468852633715, \n",
    "       28.249112819334112, \n",
    "       28.469265255959932]\n",
    "\n",
    "Eexpi = [0.05827510520886164,\n",
    "         0.8027153972596531,\n",
    "         0.7431622423566357,\n",
    "         1.0361949960445656,\n",
    "         1.4556022761715535,\n",
    "         1.9908342402682555,\n",
    "         2.643896303363192,\n",
    "         3.420273364925814,\n",
    "         4.327215153647977]\n",
    "\n",
    "Eexnu = [12.792934574833067,\n",
    "         50.66205957815311,\n",
    "         32.93119278267128,\n",
    "         29.997444920714177,\n",
    "         28.228602287410055,\n",
    "         26.737817986795083,\n",
    "         25.36755058570206,\n",
    "         24.119175164769597,\n",
    "         23.046987186973166]\n",
    "\n",
    "Endiag = [0.8056997994585147,\n",
    "          5.865266667267474,\n",
    "          3.9895444714984682,\n",
    "          4.177603301814239 ,\n",
    "          4.651988557486208,\n",
    "          5.28461444373919,\n",
    "          6.039956564565625,\n",
    "          6.905734645335472,\n",
    "          7.881763256425683]\n",
    "\n",
    "for i in range(len(Egs)):\n",
    "    m_O_O[i,i] = Egs[i]\n",
    "\n",
    "for i in range(len(Eexpi)):\n",
    "    m_O_O[len(Egs)+i,len(Egs)+i] = Eexpi[i]\n",
    "\n",
    "for i in range(len(Eexnu)):\n",
    "    m_O_O[len(Egs)+len(Eexpi)+i,len(Egs)+len(Eexpi)+i] = Eexnu[i]\n",
    "    \n",
    "for i in range(len(Endiag)):\n",
    "    m_O_O[len(Egs)+i,len(Egs)+len(Eexpi)+i] = Endiag[i]\n",
    "    m_O_O[len(Egs)+len(Eexpi)+i,len(Egs)+i] = Endiag[i]"
   ]
  },
  {
   "cell_type": "code",
   "execution_count": 60,
   "id": "4a253585",
   "metadata": {},
   "outputs": [],
   "source": [
    "# Calculation of matrix elements \n",
    "for i in range(len(m_h_w[0])):\n",
    "    m_h_w[i][i] = hwMatrix(statesJ[i])\n",
    "    m_Q_Q[i][i] = QQMatrix(statesJ[i])\n",
    "    m_g_s[i][i] = gsMatrix(statesJ[i])"
   ]
  },
  {
   "cell_type": "code",
   "execution_count": 61,
   "id": "eacf8c08",
   "metadata": {},
   "outputs": [],
   "source": [
    "# To print matrices in latex format\n",
    "Sympy_h_w = Matrix(m_h_w)\n",
    "Sympy_Q_Q = Matrix(m_Q_Q)\n",
    "Sympy_O_O = Matrix(m_O_O)\n",
    "Sympy_g_s = Matrix(m_g_s)"
   ]
  },
  {
   "cell_type": "code",
   "execution_count": 62,
   "id": "4fb741e8",
   "metadata": {},
   "outputs": [],
   "source": [
    "# Experimental energy values of K = 0+, L = 0,2,4,6,8,10,12,14,16,18 and K = 0-, L = 1,3,5,7,9,11,13,15,17\n",
    "EE_O_O = np.concatenate((Th224[Th224[\"L\"]%2==0][\"Energy\"].to_numpy(), \n",
    "                         Th224[Th224[\"L\"]%2!=0][\"Energy\"].to_numpy()))"
   ]
  },
  {
   "cell_type": "code",
   "execution_count": 63,
   "id": "0106e00d",
   "metadata": {},
   "outputs": [],
   "source": [
    "# Dummy input\n",
    "x = 0\n",
    "\n",
    "# Function to perform the fit of parameters of non-diagonal Hamiltonian\n",
    "def Hamiltonian_O_O(x, a, b, c):       \n",
    "    \n",
    "    # Parameter dependent Hamiltonian matrix\n",
    "    SympyH = Sympy_h_w + a*Sympy_Q_Q + b*Sympy_O_O - a*Sympy_g_s - b*4.594636832158156*Matrix(np.identity(len(statesJ)))\n",
    "    \n",
    "    CB = np.zeros((28,19))\n",
    "\n",
    "    for i in range(10):\n",
    "        CB[i][i] = 1\n",
    "\n",
    "    for i in range(10,19):\n",
    "        CB[i][i] = c\n",
    "\n",
    "    for i in range(10,19):\n",
    "        CB[i+9][i] = np.sqrt(1-c**2)\n",
    "\n",
    "    CB = Matrix(CB)\n",
    "    \n",
    "    # Change of basis\n",
    "    SympyH_smaller = CB.T*SympyH*CB\n",
    "    \n",
    "    H = np.array(SympyH_smaller).astype(np.float64)\n",
    "\n",
    "    # Diagonal Hamiltonian and conversion to numpy array\n",
    "    P, SympyHDiag = Matrix(H).diagonalize()\n",
    "    HDiag = np.array(SympyHDiag).astype(np.float64)\n",
    "        \n",
    "    # Expected energy values <ψ|H|ψ'>\n",
    "    EE = []\n",
    "    \n",
    "    for i in range(len(H[0])):\n",
    "        #suma = 0\n",
    "        #for j in range(len(H[0])):\n",
    "        #    suma += Pinv[i][j]**2*HDiag[j][j]\n",
    "            \n",
    "        EE.append(HDiag[i][i])\n",
    "    \n",
    "    return EE "
   ]
  },
  {
   "cell_type": "code",
   "execution_count": 64,
   "id": "eafee4f5",
   "metadata": {},
   "outputs": [
    {
     "name": "stdout",
     "output_type": "stream",
     "text": [
      "Parameters:\n",
      "χ = -0.00319068868100429 \n",
      "τ = -0.0015706935972850406 \n",
      "α = 0.48958343794663095\n",
      "\n",
      "Covariance: \n",
      " [[ 7.41217711e-09  9.84615695e-08 -4.13438950e-04]\n",
      " [ 9.84615695e-08  7.20162070e-06 -9.30250717e-03]\n",
      " [-4.13438950e-04 -9.30250717e-03  2.88801924e+01]]\n"
     ]
    }
   ],
   "source": [
    "# Estimation of parameters\n",
    "param_bounds=([-np.inf,-np.inf,0],[np.inf,np.inf,1])\n",
    "\n",
    "poptTh_O_O, pcovTh_O_O = curve_fit(Hamiltonian_O_O, x, EE_O_O, bounds=param_bounds)\n",
    "\n",
    "print(\"Parameters:\")\n",
    "print(\"χ =\",poptTh_O_O[0], \"\\nτ =\",poptTh_O_O[1], \"\\nα =\",poptTh_O_O[2])\n",
    "print(\"\\nCovariance: \\n\", pcovTh_O_O)"
   ]
  },
  {
   "cell_type": "code",
   "execution_count": 65,
   "id": "ab85a54c",
   "metadata": {},
   "outputs": [
    {
     "name": "stdout",
     "output_type": "stream",
     "text": [
      "L    Eth        Eexp\n",
      "0    0.0    0.0\n",
      "2    0.02397    0.0981\n",
      "4    0.1411    0.2841\n",
      "6    0.35894    0.5347\n",
      "8    0.6486    0.8339\n",
      "10    1.01384    1.1738\n",
      "12    1.45521    1.5498\n",
      "14    1.97276    1.9589\n",
      "16    2.56645    2.398\n",
      "18    3.23615    2.864\n",
      "1    0.15622    0.251\n",
      "3    0.19965    0.3053\n",
      "5    0.39566    0.4645\n",
      "7    0.64768    0.6995\n",
      "9    0.97444    0.9977\n",
      "11    1.3772    1.3473\n",
      "13    1.85618    1.7387\n",
      "15    2.4114    2.1647\n",
      "17    3.04279    2.6202\n"
     ]
    },
    {
     "data": {
      "image/png": "[encoded data removed]",
      "text/plain": [
       "<Figure size 720x720 with 1 Axes>"
      ]
     },
     "metadata": {
      "needs_background": "light"
     },
     "output_type": "display_data"
    },
    {
     "data": {
      "image/png": "[encoded data removed]",
      "text/plain": [
       "<Figure size 1080x360 with 1 Axes>"
      ]
     },
     "metadata": {
      "needs_background": "light"
     },
     "output_type": "display_data"
    },
    {
     "name": "stdout",
     "output_type": "stream",
     "text": [
      "\n",
      "MSE:  0.17396485148945182\n",
      "R²:  0.9610208302632901\n"
     ]
    }
   ],
   "source": [
    "ET_O_O = Hamiltonian_O_O(x, poptTh_O_O[0], poptTh_O_O[1], poptTh_O_O[2])\n",
    "\n",
    "\n",
    "statesJ = [0,2,4,6,8,10,12,14,16,18, 1,3,5,7,9,11,13,15,17]\n",
    "\n",
    "print(\"L    Eth        Eexp\")\n",
    "for i, j, k in zip(statesJ, ET_O_O, EE_O_O):\n",
    "    print(i, \"  \", round(j, 5), \"  \", round(k, 5))\n",
    "    \n",
    "    \n",
    "#=================================================================================\n",
    "\n",
    "# Plot\n",
    "fig = plt.figure(figsize=(10,10))\n",
    "\n",
    "p = 0\n",
    "\n",
    "for i in range(len(statesJ)): \n",
    "    \n",
    "    p1 = 0.8\n",
    "\n",
    "    if statesJ[i]%2==0:\n",
    "        \n",
    "        plt.hlines(EE_O_O[i], p, p+0.7, colors = \"C0\")\n",
    "        plt.text(p-0.4, EE_O_O[i], str(statesJ[i])+\"+\", fontsize = 15)\n",
    "\n",
    "        plt.hlines(ET_O_O[i], p+3, p+3+0.7, colors = \"C1\")\n",
    "        plt.text(p-0.2+2.8, ET_O_O[i], str(statesJ[i])+\"+\", fontsize = 15)\n",
    "\n",
    "    else:\n",
    "        plt.hlines(EE_O_O[i], p1, p1+0.7, colors = \"C0\")\n",
    "        plt.text(p1+0.7+0.2, EE_O_O[i], str(statesJ[i])+\"-\", fontsize = 15)\n",
    "        \n",
    "        plt.hlines(ET_O_O[i], p1+3, p1+3+0.7, colors = \"C1\")\n",
    "        plt.text(p1+0.7+0.2+3, ET_O_O[i], str(statesJ[i])+\"-\", fontsize = 15)\n",
    "\n",
    "    xs = [[p+0.7, p1],[p+0.7, p1],[p+0.7, p1], [p+0.7, p1], [p1, p+0.7], [p+0.7, p1], [p1, p+0.7], [p+0.7, p1],\n",
    "      [p1, p+0.7], [p+0.7, p1], [p1, p+0.7], [p+0.7, p1], [p1, p+0.7], [p+0.7, p1], [p1, p+0.7], [p+0.7, p1],\n",
    "     [p1, p+0.7]]\n",
    "\n",
    "plt.yticks(fontsize=15)\n",
    "plt.xlim(left=-0.8, right=5.2)\n",
    "plt.tick_params(axis='x', which='both', bottom=False, top=False, labelbottom=False)\n",
    "plt.ylabel('$E$ [keV]', size=20)\n",
    "\n",
    "\n",
    "# Plot of energy levels\n",
    "fig = plt.figure(figsize=(15,5))\n",
    "plt.plot(statesJ, EE_O_O, '*', label='Exp')\n",
    "plt.plot(statesJ, ET_O_O,'*', label='Cseh')\n",
    "plt.xticks(np.arange(0,19,1))\n",
    "plt.xlabel('L')\n",
    "plt.ylabel('E')\n",
    "plt.legend()\n",
    "plt.show()\n",
    "\n",
    "#=================================================================================\n",
    "\n",
    "\n",
    "mse = mean_squared_error(EE_O_O, ET_O_O, squared=False)\n",
    "r2 = r2_score(EE_O_O, ET_O_O)\n",
    "\n",
    "print(\"\\nMSE: \", mse)\n",
    "print(\"R²: \", r2)"
   ]
  },
  {
   "cell_type": "markdown",
   "id": "08e2beff",
   "metadata": {},
   "source": [
    "# Octupole-octupole ATTEMPT THREE"
   ]
  },
  {
   "cell_type": "code",
   "execution_count": 101,
   "id": "f06b116f",
   "metadata": {},
   "outputs": [],
   "source": [
    "# States in order g.s, ex. band and O.O matrix elements\n",
    "statesJ = [0,2,4,6,8,10,12,14,16,18, 1,3,5,7,9,11,13,15,17]\n",
    "#statesJ = [1,3,5,7,9,11,13,15,17]\n",
    "\n",
    "OOelements = [[0 , 4.594636832158156 ], \n",
    "              [2 , 25.897404390428918],\n",
    "              [4 , 36.64373965329687 ],\n",
    "              [6 , 32.02807172615931 ],\n",
    "              [8 , 30.43605063680653 ],\n",
    "              [10, 29.478032666197976],\n",
    "              [12, 28.809564685423616],\n",
    "              [14, 28.386468852633715],\n",
    "              [16, 28.249112819334112],\n",
    "              [18, 28.469265255959932],\n",
    "              [1 , 0.05827510520886164, 12.792934574833067, 0.8056997994585147],\n",
    "              [3 , 0.8027153972596531 , 50.66205957815311 , 5.865266667267474 ],\n",
    "              [5 , 0.7431622423566357 , 32.93119278267128 , 3.9895444714984682],\n",
    "              [7 , 1.0361949960445656 , 29.997444920714177, 4.177603301814239 ],\n",
    "              [9 , 1.4556022761715535 , 28.228602287410055, 4.651988557486208 ],\n",
    "              [11, 1.9908342402682555 , 26.737817986795083, 5.28461444373919  ],\n",
    "              [13, 2.643896303363192  , 25.36755058570206 , 6.039956564565625 ],\n",
    "              [15, 3.420273364925814  , 24.119175164769597, 6.905734645335472 ],\n",
    "              [17, 4.327215153647977  , 23.046987186973166, 7.881763256425683 ]]"
   ]
  },
  {
   "cell_type": "code",
   "execution_count": 104,
   "id": "7dae21a1",
   "metadata": {},
   "outputs": [],
   "source": [
    "def Hamiltonian_O_O(statesJ, chi, ka ,tau, alpha):\n",
    "    \n",
    "    E = []\n",
    "    \n",
    "    for J in statesJ:\n",
    "    \n",
    "        OO = next((element for element in OOelements if element[0] == J), None)[1:]\n",
    "\n",
    "        if J%2==0:\n",
    "\n",
    "            E.append( chi*C2(60,8) + ka*L2(J) + tau*OO[0] - chi*C2(60,8) - tau*4.594636832158156 )\n",
    "\n",
    "        else:\n",
    "\n",
    "            E.append( hbar_omega(224) + chi*C2(65,6) + ka*L2(J) + tau*( alpha*OO[0] + 2*np.sqrt(alpha*(1-alpha))*OO[2] + (1-alpha)*OO[1] ) - chi*C2(60,8) - tau*4.594636832158156 )\n",
    "\n",
    "    return np.array(E)"
   ]
  },
  {
   "cell_type": "code",
   "execution_count": 105,
   "id": "a64b279e",
   "metadata": {},
   "outputs": [],
   "source": [
    "EE_O_O = np.concatenate((Th224[Th224[\"L\"]%2==0][\"Energy\"].to_numpy(), \n",
    "                         Th224[Th224[\"L\"]%2!=0][\"Energy\"].to_numpy()))\n",
    "\n",
    "#EE_O_O = Th224[Th224[\"L\"]%2!=0][\"Energy\"].to_numpy()"
   ]
  },
  {
   "cell_type": "code",
   "execution_count": 106,
   "id": "f3d01d94",
   "metadata": {},
   "outputs": [
    {
     "name": "stdout",
     "output_type": "stream",
     "text": [
      "Parameters:\n",
      "χ = -0.01255362375627694 \n",
      "ka = 0.008085330292709685 \n",
      "τ = 0.007560056654453501 \n",
      "α = 0.9999999999999999\n",
      "\n",
      "Covariance: \n",
      " [[ 1.86547175e-08  4.43991373e-09 -1.27626385e-08  1.43587489e-08]\n",
      " [ 4.43991373e-09  3.50111541e-08 -1.82466416e-07  1.09596012e-08]\n",
      " [-1.27626385e-08 -1.82466416e-07  1.88298727e-06 -5.26916781e-08]\n",
      " [ 1.43587489e-08  1.09596012e-08 -5.26916781e-08  1.40714040e-08]]\n"
     ]
    }
   ],
   "source": [
    "# Estimation of parameters\n",
    "param_bounds=([-np.inf,-np.inf,-np.inf,0],[np.inf,np.inf,np.inf,1])\n",
    "#, p0 = [-0.00320365, -0.0001, 0.7]\n",
    "poptTh_O_O, pcovTh_O_O = curve_fit(Hamiltonian_O_O, statesJ, EE_O_O, bounds=param_bounds)\n",
    "\n",
    "print(\"Parameters:\")\n",
    "print(\"χ =\",poptTh_O_O[0], \"\\nka =\",poptTh_O_O[1],\"\\nτ =\",poptTh_O_O[2], \"\\nα =\",poptTh_O_O[3])\n",
    "print(\"\\nCovariance: \\n\", pcovTh_O_O)"
   ]
  },
  {
   "cell_type": "code",
   "execution_count": 107,
   "id": "46f22c95",
   "metadata": {
    "scrolled": false
   },
   "outputs": [
    {
     "name": "stdout",
     "output_type": "stream",
     "text": [
      "L    Eth        Eexp\n",
      "0    -0.0    0.0\n",
      "2    0.20956    0.0981\n",
      "4    0.404    0.2841\n",
      "6    0.54698    0.5347\n",
      "8    0.77751    0.8339\n",
      "10    1.07751    1.1738\n",
      "12    1.44438    1.5498\n",
      "14    1.87779    1.9589\n",
      "16    2.37804    2.398\n",
      "18    2.94568    2.864\n",
      "1    0.23603    0.251\n",
      "3    0.32251    0.3053\n",
      "5    0.46759    0.4645\n",
      "7    0.68003    0.6995\n",
      "9    0.9581    0.9977\n",
      "11    1.30173    1.3473\n",
      "13    1.71093    1.7387\n",
      "15    2.18575    2.1647\n",
      "17    2.72624    2.6202\n"
     ]
    },
    {
     "data": {
      "image/png": "[encoded data removed]",
      "text/plain": [
       "<Figure size 720x720 with 1 Axes>"
      ]
     },
     "metadata": {
      "needs_background": "light"
     },
     "output_type": "display_data"
    },
    {
     "data": {
      "image/png": "[encoded data removed]",
      "text/plain": [
       "<Figure size 1080x360 with 1 Axes>"
      ]
     },
     "metadata": {
      "needs_background": "light"
     },
     "output_type": "display_data"
    },
    {
     "name": "stdout",
     "output_type": "stream",
     "text": [
      "\n",
      "MSE:  0.06536481849311757\n",
      "R²:  0.9944970231968664\n"
     ]
    }
   ],
   "source": [
    "ET_O_O = Hamiltonian_O_O(statesJ, poptTh_O_O[0], poptTh_O_O[1], poptTh_O_O[2], poptTh_O_O[3])\n",
    "#ET_O_O = Hamiltonian_O_O(statesJ, -0.003,-0.004,0.23984823519451925)\n",
    "\n",
    "\n",
    "print(\"L    Eth        Eexp\")\n",
    "for i, j, k in zip(statesJ, ET_O_O, EE_O_O):\n",
    "    print(i, \"  \", round(j, 5), \"  \", round(k, 5))\n",
    "\n",
    "#=================================================================================\n",
    "\n",
    "# Plot\n",
    "fig = plt.figure(figsize=(10,10))\n",
    "\n",
    "p = 0\n",
    "\n",
    "for i in range(len(statesJ)): \n",
    "    \n",
    "    p1 = 0.8\n",
    "\n",
    "    if statesJ[i]%2==0:\n",
    "        \n",
    "        plt.hlines(EE_O_O[i], p, p+0.7, colors = \"C0\")\n",
    "        plt.text(p-0.4, EE_O_O[i], str(statesJ[i])+\"+\", fontsize = 15)\n",
    "\n",
    "        plt.hlines(ET_O_O[i], p+3, p+3+0.7, colors = \"C1\")\n",
    "        plt.text(p-0.2+2.8, ET_O_O[i], str(statesJ[i])+\"+\", fontsize = 15)\n",
    "\n",
    "    else:\n",
    "        plt.hlines(EE_O_O[i], p1, p1+0.7, colors = \"C0\")\n",
    "        plt.text(p1+0.7+0.2, EE_O_O[i], str(statesJ[i])+\"-\", fontsize = 15)\n",
    "        \n",
    "        plt.hlines(ET_O_O[i], p1+3, p1+3+0.7, colors = \"C1\")\n",
    "        plt.text(p1+0.7+0.2+3, ET_O_O[i], str(statesJ[i])+\"-\", fontsize = 15)\n",
    "\n",
    "    xs = [[p+0.7, p1],[p+0.7, p1],[p+0.7, p1], [p+0.7, p1], [p1, p+0.7], [p+0.7, p1], [p1, p+0.7], [p+0.7, p1],\n",
    "      [p1, p+0.7], [p+0.7, p1], [p1, p+0.7], [p+0.7, p1], [p1, p+0.7], [p+0.7, p1], [p1, p+0.7], [p+0.7, p1],\n",
    "     [p1, p+0.7]]\n",
    "\n",
    "plt.yticks(fontsize=15)\n",
    "plt.xlim(left=-0.8, right=5.2)\n",
    "plt.tick_params(axis='x', which='both', bottom=False, top=False, labelbottom=False)\n",
    "plt.ylabel('$E$ [keV]', size=20)\n",
    "\n",
    "\n",
    "# Plot of energy levels\n",
    "fig = plt.figure(figsize=(15,5))\n",
    "plt.plot(statesJ, EE_O_O, '*', label='Exp')\n",
    "plt.plot(statesJ, ET_O_O,'*', label='Cseh')\n",
    "plt.xticks(np.arange(0,19,1))\n",
    "plt.xlabel('L')\n",
    "plt.ylabel('E')\n",
    "plt.legend()\n",
    "plt.show()\n",
    "\n",
    "#=================================================================================\n",
    "\n",
    "mse = mean_squared_error(EE_O_O, ET_O_O, squared=False)\n",
    "r2 = r2_score(EE_O_O, ET_O_O)\n",
    "\n",
    "print(\"\\nMSE: \", mse)\n",
    "print(\"R²: \", r2)"
   ]
  },
  {
   "cell_type": "code",
   "execution_count": 7,
   "id": "ebc1c5af",
   "metadata": {},
   "outputs": [],
   "source": [
    "# States in order g.s, ex. b\n",
    "statesJ = [0,2,4,6,8,10,12,14,16,18, 1,3,5,7,9,11,13,15,17, 1,3,5,7,9,11,13,15,17]\n",
    "\n",
    "# Functions to \n",
    "def hwMatrix(J):\n",
    "    if J%2 == 0:\n",
    "        return 0\n",
    "    else:\n",
    "        return hbar_omega(224)\n",
    "         \n",
    "def QQMatrix(J):\n",
    "    if J%2 == 0:\n",
    "        return 4*C2(60,8)-3*L2(J)\n",
    "    else:\n",
    "        return 4*C2(65,6)-3*L2(J)\n",
    "    \n",
    "def gsMatrix(J):\n",
    "    return 4*C2(60,8)"
   ]
  },
  {
   "cell_type": "code",
   "execution_count": 8,
   "id": "1ab1adf8",
   "metadata": {},
   "outputs": [],
   "source": [
    "# 2D Arrays to store the matrix elements as matrices\n",
    "m_h_w = np.zeros((len(statesJ), len(statesJ)))\n",
    "m_Q_Q = np.zeros((len(statesJ), len(statesJ)))\n",
    "m_g_s = np.zeros((len(statesJ), len(statesJ)))\n",
    "m_O_O = np.zeros((len(statesJ), len(statesJ)))\n",
    "\n",
    "# Matrix elements of O.O\n",
    "Egs = [4.594636832158156,\n",
    "       25.897404390428918,\n",
    "       36.64373965329687,\n",
    "       32.02807172615931,\n",
    "       30.43605063680653, \n",
    "       29.478032666197976, \n",
    "       28.809564685423616, \n",
    "       28.386468852633715, \n",
    "       28.249112819334112, \n",
    "       28.469265255959932]\n",
    "\n",
    "Eexpi = [0.05827510520886164,\n",
    "         0.8027153972596531,\n",
    "         0.7431622423566357,\n",
    "         1.0361949960445656,\n",
    "         1.4556022761715535,\n",
    "         1.9908342402682555,\n",
    "         2.643896303363192,\n",
    "         3.420273364925814,\n",
    "         4.327215153647977]\n",
    "\n",
    "Eexnu = [12.792934574833067,\n",
    "         50.66205957815311,\n",
    "         32.93119278267128,\n",
    "         29.997444920714177,\n",
    "         28.228602287410055,\n",
    "         26.737817986795083,\n",
    "         25.36755058570206,\n",
    "         24.119175164769597,\n",
    "         23.046987186973166]\n",
    "\n",
    "Endiag = [0.8056997994585147,\n",
    "          5.865266667267474,\n",
    "          3.9895444714984682,\n",
    "          4.177603301814239 ,\n",
    "          4.651988557486208,\n",
    "          5.28461444373919,\n",
    "          6.039956564565625,\n",
    "          6.905734645335472,\n",
    "          7.881763256425683]\n",
    "\n",
    "for i in range(len(Egs)):\n",
    "    m_O_O[i,i] = Egs[i]\n",
    "\n",
    "for i in range(len(Eexpi)):\n",
    "    m_O_O[len(Egs)+i,len(Egs)+i] = Eexpi[i]\n",
    "\n",
    "for i in range(len(Eexnu)):\n",
    "    m_O_O[len(Egs)+len(Eexpi)+i,len(Egs)+len(Eexpi)+i] = Eexnu[i]\n",
    "    \n",
    "for i in range(len(Endiag)):\n",
    "    m_O_O[len(Egs)+i,len(Egs)+len(Eexpi)+i] = Endiag[i]\n",
    "    m_O_O[len(Egs)+len(Eexpi)+i,len(Egs)+i] = Endiag[i]"
   ]
  },
  {
   "cell_type": "code",
   "execution_count": 9,
   "id": "a491c0fa",
   "metadata": {},
   "outputs": [],
   "source": [
    "# Calculation of matrix elements \n",
    "for i in range(len(m_h_w[0])):\n",
    "    m_h_w[i][i] = hwMatrix(statesJ[i])\n",
    "    m_Q_Q[i][i] = QQMatrix(statesJ[i])\n",
    "    m_g_s[i][i] = gsMatrix(statesJ[i])"
   ]
  },
  {
   "cell_type": "code",
   "execution_count": 10,
   "id": "c27bc155",
   "metadata": {},
   "outputs": [],
   "source": [
    "# To print matrices in latex format\n",
    "Sympy_h_w = Matrix(m_h_w)\n",
    "Sympy_Q_Q = Matrix(m_Q_Q)\n",
    "Sympy_O_O = Matrix(m_O_O)\n",
    "Sympy_g_s = Matrix(m_g_s)"
   ]
  },
  {
   "cell_type": "code",
   "execution_count": 27,
   "id": "341fc038",
   "metadata": {},
   "outputs": [],
   "source": [
    "# Diagonal Hamiltonian and conversion to numpy array\n",
    "P, SympyHDiag = Matrix(m_O_O).diagonalize()\n",
    "HDiag = np.array(SympyHDiag).astype(np.float64)"
   ]
  },
  {
   "cell_type": "code",
   "execution_count": 29,
   "id": "ea4a30f4",
   "metadata": {},
   "outputs": [
    {
     "data": {
      "text/latex": [
       "$\\displaystyle \\left[\\begin{array}{cccccccccccccccccccccccccccc}1.0 & 0 & 0 & 0 & 0 & 0 & 0 & 0 & 0 & 0 & 0 & 0 & 0 & 0 & 0 & 0 & 0 & 0 & 0 & 0 & 0 & 0 & 0 & 0 & 0 & 0 & 0 & 0\\\\0 & 1.0 & 0 & 0 & 0 & 0 & 0 & 0 & 0 & 0 & 0 & 0 & 0 & 0 & 0 & 0 & 0 & 0 & 0 & 0 & 0 & 0 & 0 & 0 & 0 & 0 & 0 & 0\\\\0 & 0 & 1.0 & 0 & 0 & 0 & 0 & 0 & 0 & 0 & 0 & 0 & 0 & 0 & 0 & 0 & 0 & 0 & 0 & 0 & 0 & 0 & 0 & 0 & 0 & 0 & 0 & 0\\\\0 & 0 & 0 & 1.0 & 0 & 0 & 0 & 0 & 0 & 0 & 0 & 0 & 0 & 0 & 0 & 0 & 0 & 0 & 0 & 0 & 0 & 0 & 0 & 0 & 0 & 0 & 0 & 0\\\\0 & 0 & 0 & 0 & 1.0 & 0 & 0 & 0 & 0 & 0 & 0 & 0 & 0 & 0 & 0 & 0 & 0 & 0 & 0 & 0 & 0 & 0 & 0 & 0 & 0 & 0 & 0 & 0\\\\0 & 0 & 0 & 0 & 0 & 1.0 & 0 & 0 & 0 & 0 & 0 & 0 & 0 & 0 & 0 & 0 & 0 & 0 & 0 & 0 & 0 & 0 & 0 & 0 & 0 & 0 & 0 & 0\\\\0 & 0 & 0 & 0 & 0 & 0 & 1.0 & 0 & 0 & 0 & 0 & 0 & 0 & 0 & 0 & 0 & 0 & 0 & 0 & 0 & 0 & 0 & 0 & 0 & 0 & 0 & 0 & 0\\\\0 & 0 & 0 & 0 & 0 & 0 & 0 & 1.0 & 0 & 0 & 0 & 0 & 0 & 0 & 0 & 0 & 0 & 0 & 0 & 0 & 0 & 0 & 0 & 0 & 0 & 0 & 0 & 0\\\\0 & 0 & 0 & 0 & 0 & 0 & 0 & 0 & 1.0 & 0 & 0 & 0 & 0 & 0 & 0 & 0 & 0 & 0 & 0 & 0 & 0 & 0 & 0 & 0 & 0 & 0 & 0 & 0\\\\0 & 0 & 0 & 0 & 0 & 0 & 0 & 0 & 0 & 1.0 & 0 & 0 & 0 & 0 & 0 & 0 & 0 & 0 & 0 & 0 & 0 & 0 & 0 & 0 & 0 & 0 & 0 & 0\\\\0 & 0 & 0 & 0 & 0 & 0 & 0 & 0 & 0 & 0 & 0 & 0 & 0 & 0 & 0 & 0 & 0 & 0 & 0.998020322042355 & -0.0628922633594507 & 0 & 0 & 0 & 0 & 0 & 0 & 0 & 0\\\\0 & 0 & 0 & 0 & 0 & 0 & 0 & 0 & 0 & 0 & -0.115278236659172 & 0.993333241240195 & 0 & 0 & 0 & 0 & 0 & 0 & 0 & 0 & 0 & 0 & 0 & 0 & 0 & 0 & 0 & 0\\\\0 & 0 & 0 & 0 & 0 & 0 & 0 & 0 & 0 & 0 & 0 & 0 & 0 & 0 & 0 & 0 & 0 & 0 & 0 & 0 & -0.992628451255959 & 0.1211971854343 & 0 & 0 & 0 & 0 & 0 & 0\\\\0 & 0 & 0 & 0 & 0 & 0 & 0 & 0 & 0 & 0 & 0 & 0 & -0.139973646079523 & 0.990155229447991 & 0 & 0 & 0 & 0 & 0 & 0 & 0 & 0 & 0 & 0 & 0 & 0 & 0 & 0\\\\0 & 0 & 0 & 0 & 0 & 0 & 0 & 0 & 0 & 0 & 0 & 0 & 0 & 0 & 0 & 0 & 0 & 0 & 0 & 0 & 0 & 0 & 0.986049795153563 & -0.166450597708799 & 0 & 0 & 0 & 0\\\\0 & 0 & 0 & 0 & 0 & 0 & 0 & 0 & 0 & 0 & 0 & 0 & 0 & 0 & -0.20045317107033 & 0.979703284779555 & 0 & 0 & 0 & 0 & 0 & 0 & 0 & 0 & 0 & 0 & 0 & 0\\\\0 & 0 & 0 & 0 & 0 & 0 & 0 & 0 & 0 & 0 & 0 & 0 & 0 & 0 & 0 & 0 & 0 & 0 & 0 & 0 & 0 & 0 & 0 & 0 & 0.970305968527039 & -0.241880812469291 & 0 & 0\\\\0 & 0 & 0 & 0 & 0 & 0 & 0 & 0 & 0 & 0 & 0 & 0 & 0 & 0 & 0 & 0 & -0.289979382260077 & 0.957032892780632 & 0 & 0 & 0 & 0 & 0 & 0 & 0 & 0 & 0 & 0\\\\0 & 0 & 0 & 0 & 0 & 0 & 0 & 0 & 0 & 0 & 0 & 0 & 0 & 0 & 0 & 0 & 0 & 0 & 0 & 0 & 0 & 0 & 0 & 0 & 0 & 0 & -0.939393715171585 & 0.342840265861709\\\\0 & 0 & 0 & 0 & 0 & 0 & 0 & 0 & 0 & 0 & 0 & 0 & 0 & 0 & 0 & 0 & 0 & 0 & -0.0628922633594507 & -0.998020322042355 & 0 & 0 & 0 & 0 & 0 & 0 & 0 & 0\\\\0 & 0 & 0 & 0 & 0 & 0 & 0 & 0 & 0 & 0 & -0.993333241240195 & -0.115278236659172 & 0 & 0 & 0 & 0 & 0 & 0 & 0 & 0 & 0 & 0 & 0 & 0 & 0 & 0 & 0 & 0\\\\0 & 0 & 0 & 0 & 0 & 0 & 0 & 0 & 0 & 0 & 0 & 0 & 0 & 0 & 0 & 0 & 0 & 0 & 0 & 0 & 0.1211971854343 & 0.992628451255959 & 0 & 0 & 0 & 0 & 0 & 0\\\\0 & 0 & 0 & 0 & 0 & 0 & 0 & 0 & 0 & 0 & 0 & 0 & -0.990155229447991 & -0.139973646079523 & 0 & 0 & 0 & 0 & 0 & 0 & 0 & 0 & 0 & 0 & 0 & 0 & 0 & 0\\\\0 & 0 & 0 & 0 & 0 & 0 & 0 & 0 & 0 & 0 & 0 & 0 & 0 & 0 & 0 & 0 & 0 & 0 & 0 & 0 & 0 & 0 & -0.166450597708799 & -0.986049795153563 & 0 & 0 & 0 & 0\\\\0 & 0 & 0 & 0 & 0 & 0 & 0 & 0 & 0 & 0 & 0 & 0 & 0 & 0 & -0.979703284779555 & -0.20045317107033 & 0 & 0 & 0 & 0 & 0 & 0 & 0 & 0 & 0 & 0 & 0 & 0\\\\0 & 0 & 0 & 0 & 0 & 0 & 0 & 0 & 0 & 0 & 0 & 0 & 0 & 0 & 0 & 0 & 0 & 0 & 0 & 0 & 0 & 0 & 0 & 0 & -0.241880812469291 & -0.970305968527039 & 0 & 0\\\\0 & 0 & 0 & 0 & 0 & 0 & 0 & 0 & 0 & 0 & 0 & 0 & 0 & 0 & 0 & 0 & -0.957032892780632 & -0.289979382260077 & 0 & 0 & 0 & 0 & 0 & 0 & 0 & 0 & 0 & 0\\\\0 & 0 & 0 & 0 & 0 & 0 & 0 & 0 & 0 & 0 & 0 & 0 & 0 & 0 & 0 & 0 & 0 & 0 & 0 & 0 & 0 & 0 & 0 & 0 & 0 & 0 & 0.342840265861709 & 0.939393715171585\\end{array}\\right]$"
      ],
      "text/plain": [
       "Matrix([\n",
       "[1.0,   0,   0,   0,   0,   0,   0,   0,   0,   0,                  0,                  0,                  0,                  0,                  0,                 0,                  0,                  0,                   0,                   0,                  0,                 0,                  0,                  0,                  0,                  0,                  0,                 0],\n",
       "[  0, 1.0,   0,   0,   0,   0,   0,   0,   0,   0,                  0,                  0,                  0,                  0,                  0,                 0,                  0,                  0,                   0,                   0,                  0,                 0,                  0,                  0,                  0,                  0,                  0,                 0],\n",
       "[  0,   0, 1.0,   0,   0,   0,   0,   0,   0,   0,                  0,                  0,                  0,                  0,                  0,                 0,                  0,                  0,                   0,                   0,                  0,                 0,                  0,                  0,                  0,                  0,                  0,                 0],\n",
       "[  0,   0,   0, 1.0,   0,   0,   0,   0,   0,   0,                  0,                  0,                  0,                  0,                  0,                 0,                  0,                  0,                   0,                   0,                  0,                 0,                  0,                  0,                  0,                  0,                  0,                 0],\n",
       "[  0,   0,   0,   0, 1.0,   0,   0,   0,   0,   0,                  0,                  0,                  0,                  0,                  0,                 0,                  0,                  0,                   0,                   0,                  0,                 0,                  0,                  0,                  0,                  0,                  0,                 0],\n",
       "[  0,   0,   0,   0,   0, 1.0,   0,   0,   0,   0,                  0,                  0,                  0,                  0,                  0,                 0,                  0,                  0,                   0,                   0,                  0,                 0,                  0,                  0,                  0,                  0,                  0,                 0],\n",
       "[  0,   0,   0,   0,   0,   0, 1.0,   0,   0,   0,                  0,                  0,                  0,                  0,                  0,                 0,                  0,                  0,                   0,                   0,                  0,                 0,                  0,                  0,                  0,                  0,                  0,                 0],\n",
       "[  0,   0,   0,   0,   0,   0,   0, 1.0,   0,   0,                  0,                  0,                  0,                  0,                  0,                 0,                  0,                  0,                   0,                   0,                  0,                 0,                  0,                  0,                  0,                  0,                  0,                 0],\n",
       "[  0,   0,   0,   0,   0,   0,   0,   0, 1.0,   0,                  0,                  0,                  0,                  0,                  0,                 0,                  0,                  0,                   0,                   0,                  0,                 0,                  0,                  0,                  0,                  0,                  0,                 0],\n",
       "[  0,   0,   0,   0,   0,   0,   0,   0,   0, 1.0,                  0,                  0,                  0,                  0,                  0,                 0,                  0,                  0,                   0,                   0,                  0,                 0,                  0,                  0,                  0,                  0,                  0,                 0],\n",
       "[  0,   0,   0,   0,   0,   0,   0,   0,   0,   0,                  0,                  0,                  0,                  0,                  0,                 0,                  0,                  0,   0.998020322042355, -0.0628922633594507,                  0,                 0,                  0,                  0,                  0,                  0,                  0,                 0],\n",
       "[  0,   0,   0,   0,   0,   0,   0,   0,   0,   0, -0.115278236659172,  0.993333241240195,                  0,                  0,                  0,                 0,                  0,                  0,                   0,                   0,                  0,                 0,                  0,                  0,                  0,                  0,                  0,                 0],\n",
       "[  0,   0,   0,   0,   0,   0,   0,   0,   0,   0,                  0,                  0,                  0,                  0,                  0,                 0,                  0,                  0,                   0,                   0, -0.992628451255959,   0.1211971854343,                  0,                  0,                  0,                  0,                  0,                 0],\n",
       "[  0,   0,   0,   0,   0,   0,   0,   0,   0,   0,                  0,                  0, -0.139973646079523,  0.990155229447991,                  0,                 0,                  0,                  0,                   0,                   0,                  0,                 0,                  0,                  0,                  0,                  0,                  0,                 0],\n",
       "[  0,   0,   0,   0,   0,   0,   0,   0,   0,   0,                  0,                  0,                  0,                  0,                  0,                 0,                  0,                  0,                   0,                   0,                  0,                 0,  0.986049795153563, -0.166450597708799,                  0,                  0,                  0,                 0],\n",
       "[  0,   0,   0,   0,   0,   0,   0,   0,   0,   0,                  0,                  0,                  0,                  0,  -0.20045317107033, 0.979703284779555,                  0,                  0,                   0,                   0,                  0,                 0,                  0,                  0,                  0,                  0,                  0,                 0],\n",
       "[  0,   0,   0,   0,   0,   0,   0,   0,   0,   0,                  0,                  0,                  0,                  0,                  0,                 0,                  0,                  0,                   0,                   0,                  0,                 0,                  0,                  0,  0.970305968527039, -0.241880812469291,                  0,                 0],\n",
       "[  0,   0,   0,   0,   0,   0,   0,   0,   0,   0,                  0,                  0,                  0,                  0,                  0,                 0, -0.289979382260077,  0.957032892780632,                   0,                   0,                  0,                 0,                  0,                  0,                  0,                  0,                  0,                 0],\n",
       "[  0,   0,   0,   0,   0,   0,   0,   0,   0,   0,                  0,                  0,                  0,                  0,                  0,                 0,                  0,                  0,                   0,                   0,                  0,                 0,                  0,                  0,                  0,                  0, -0.939393715171585, 0.342840265861709],\n",
       "[  0,   0,   0,   0,   0,   0,   0,   0,   0,   0,                  0,                  0,                  0,                  0,                  0,                 0,                  0,                  0, -0.0628922633594507,  -0.998020322042355,                  0,                 0,                  0,                  0,                  0,                  0,                  0,                 0],\n",
       "[  0,   0,   0,   0,   0,   0,   0,   0,   0,   0, -0.993333241240195, -0.115278236659172,                  0,                  0,                  0,                 0,                  0,                  0,                   0,                   0,                  0,                 0,                  0,                  0,                  0,                  0,                  0,                 0],\n",
       "[  0,   0,   0,   0,   0,   0,   0,   0,   0,   0,                  0,                  0,                  0,                  0,                  0,                 0,                  0,                  0,                   0,                   0,    0.1211971854343, 0.992628451255959,                  0,                  0,                  0,                  0,                  0,                 0],\n",
       "[  0,   0,   0,   0,   0,   0,   0,   0,   0,   0,                  0,                  0, -0.990155229447991, -0.139973646079523,                  0,                 0,                  0,                  0,                   0,                   0,                  0,                 0,                  0,                  0,                  0,                  0,                  0,                 0],\n",
       "[  0,   0,   0,   0,   0,   0,   0,   0,   0,   0,                  0,                  0,                  0,                  0,                  0,                 0,                  0,                  0,                   0,                   0,                  0,                 0, -0.166450597708799, -0.986049795153563,                  0,                  0,                  0,                 0],\n",
       "[  0,   0,   0,   0,   0,   0,   0,   0,   0,   0,                  0,                  0,                  0,                  0, -0.979703284779555, -0.20045317107033,                  0,                  0,                   0,                   0,                  0,                 0,                  0,                  0,                  0,                  0,                  0,                 0],\n",
       "[  0,   0,   0,   0,   0,   0,   0,   0,   0,   0,                  0,                  0,                  0,                  0,                  0,                 0,                  0,                  0,                   0,                   0,                  0,                 0,                  0,                  0, -0.241880812469291, -0.970305968527039,                  0,                 0],\n",
       "[  0,   0,   0,   0,   0,   0,   0,   0,   0,   0,                  0,                  0,                  0,                  0,                  0,                 0, -0.957032892780632, -0.289979382260077,                   0,                   0,                  0,                 0,                  0,                  0,                  0,                  0,                  0,                 0],\n",
       "[  0,   0,   0,   0,   0,   0,   0,   0,   0,   0,                  0,                  0,                  0,                  0,                  0,                 0,                  0,                  0,                   0,                   0,                  0,                 0,                  0,                  0,                  0,                  0,  0.342840265861709, 0.939393715171585]])"
      ]
     },
     "execution_count": 29,
     "metadata": {},
     "output_type": "execute_result"
    }
   ],
   "source": [
    "P"
   ]
  },
  {
   "cell_type": "code",
   "execution_count": 31,
   "id": "76b5c4c2",
   "metadata": {},
   "outputs": [
    {
     "data": {
      "text/latex": [
       "$\\displaystyle \\left[\\begin{array}{cccccccccccccccccccccccccccc}4.59463683215816 & 0 & 0 & 0 & 0 & 0 & 0 & 0 & 0 & 0 & 0 & 0 & 0 & 0 & 0 & 0 & 0 & 0 & 0 & 0 & 0 & 0 & 0 & 0 & 0 & 0 & 0 & 0\\\\0 & 25.8974043904289 & 0 & 0 & 0 & 0 & 0 & 0 & 0 & 0 & 0 & 0 & 0 & 0 & 0 & 0 & 0 & 0 & 0 & 0 & 0 & 0 & 0 & 0 & 0 & 0 & 0 & 0\\\\0 & 0 & 36.6437396532969 & 0 & 0 & 0 & 0 & 0 & 0 & 0 & 0 & 0 & 0 & 0 & 0 & 0 & 0 & 0 & 0 & 0 & 0 & 0 & 0 & 0 & 0 & 0 & 0 & 0\\\\0 & 0 & 0 & 32.0280717261593 & 0 & 0 & 0 & 0 & 0 & 0 & 0 & 0 & 0 & 0 & 0 & 0 & 0 & 0 & 0 & 0 & 0 & 0 & 0 & 0 & 0 & 0 & 0 & 0\\\\0 & 0 & 0 & 0 & 30.4360506368065 & 0 & 0 & 0 & 0 & 0 & 0 & 0 & 0 & 0 & 0 & 0 & 0 & 0 & 0 & 0 & 0 & 0 & 0 & 0 & 0 & 0 & 0 & 0\\\\0 & 0 & 0 & 0 & 0 & 29.478032666198 & 0 & 0 & 0 & 0 & 0 & 0 & 0 & 0 & 0 & 0 & 0 & 0 & 0 & 0 & 0 & 0 & 0 & 0 & 0 & 0 & 0 & 0\\\\0 & 0 & 0 & 0 & 0 & 0 & 28.8095646854236 & 0 & 0 & 0 & 0 & 0 & 0 & 0 & 0 & 0 & 0 & 0 & 0 & 0 & 0 & 0 & 0 & 0 & 0 & 0 & 0 & 0\\\\0 & 0 & 0 & 0 & 0 & 0 & 0 & 28.3864688526337 & 0 & 0 & 0 & 0 & 0 & 0 & 0 & 0 & 0 & 0 & 0 & 0 & 0 & 0 & 0 & 0 & 0 & 0 & 0 & 0\\\\0 & 0 & 0 & 0 & 0 & 0 & 0 & 0 & 28.2491128193341 & 0 & 0 & 0 & 0 & 0 & 0 & 0 & 0 & 0 & 0 & 0 & 0 & 0 & 0 & 0 & 0 & 0 & 0 & 0\\\\0 & 0 & 0 & 0 & 0 & 0 & 0 & 0 & 0 & 28.4692652559599 & 0 & 0 & 0 & 0 & 0 & 0 & 0 & 0 & 0 & 0 & 0 & 0 & 0 & 0 & 0 & 0 & 0 & 0\\\\0 & 0 & 0 & 0 & 0 & 0 & 0 & 0 & 0 & 0 & 51.3427350764323 & -8.88178419700125 \\cdot 10^{-16} & 0 & 0 & 0 & 0 & 0 & 0 & 0 & 0 & 0 & 0 & 0 & 0 & 0 & 0 & 0 & 0\\\\0 & 0 & 0 & 0 & 0 & 0 & 0 & 0 & 0 & 0 & 1.38777878078145 \\cdot 10^{-17} & 0.122039898980502 & 0 & 0 & 0 & 0 & 0 & 0 & 0 & 0 & 0 & 0 & 0 & 0 & 0 & 0 & 0 & 0\\\\0 & 0 & 0 & 0 & 0 & 0 & 0 & 0 & 0 & 0 & 0 & 0 & 30.5880132969018 & 8.88178419700125 \\cdot 10^{-16} & 0 & 0 & 0 & 0 & 0 & 0 & 0 & 0 & 0 & 0 & 0 & 0 & 0 & 0\\\\0 & 0 & 0 & 0 & 0 & 0 & 0 & 0 & 0 & 0 & 0 & 0 & 4.71844785465692 \\cdot 10^{-16} & 0.445626619856933 & 0 & 0 & 0 & 0 & 0 & 0 & 0 & 0 & 0 & 0 & 0 & 0 & 0 & 0\\\\0 & 0 & 0 & 0 & 0 & 0 & 0 & 0 & 0 & 0 & 0 & 0 & 0 & 0 & 27.8190818139037 & -8.88178419700125 \\cdot 10^{-16} & 0 & 0 & 0 & 0 & 0 & 0 & 0 & 0 & 0 & 0 & 0 & 0\\\\0 & 0 & 0 & 0 & 0 & 0 & 0 & 0 & 0 & 0 & 0 & 0 & 0 & 0 & -4.16333634234434 \\cdot 10^{-16} & 0.909570413159677 & 0 & 0 & 0 & 0 & 0 & 0 & 0 & 0 & 0 & 0 & 0 & 0\\\\0 & 0 & 0 & 0 & 0 & 0 & 0 & 0 & 0 & 0 & 0 & 0 & 0 & 0 & 0 & 0 & 26.211601330696 & 0 & 0 & 0 & 0 & 0 & 0 & 0 & 0 & 0 & 0 & 0\\\\0 & 0 & 0 & 0 & 0 & 0 & 0 & 0 & 0 & 0 & 0 & 0 & 0 & 0 & 0 & 0 & 5.55111512312578 \\cdot 10^{-16} & 1.32784719899945 & 0 & 0 & 0 & 0 & 0 & 0 & 0 & 0 & 0 & 0\\\\0 & 0 & 0 & 0 & 0 & 0 & 0 & 0 & 0 & 0 & 0 & 0 & 0 & 0 & 0 & 0 & 0 & 0 & 0.00750230744407719 & -1.70653421949218 \\cdot 10^{-16} & 0 & 0 & 0 & 0 & 0 & 0 & 0 & 0\\\\0 & 0 & 0 & 0 & 0 & 0 & 0 & 0 & 0 & 0 & 0 & 0 & 0 & 0 & 0 & 0 & 0 & 0 & 0 & 12.8437073725978 & 0 & 0 & 0 & 0 & 0 & 0 & 0 & 0\\\\0 & 0 & 0 & 0 & 0 & 0 & 0 & 0 & 0 & 0 & 0 & 0 & 0 & 0 & 0 & 0 & 0 & 0 & 0 & 0 & 0.256049908936418 & 3.71230823859037 \\cdot 10^{-16} & 0 & 0 & 0 & 0 & 0 & 0\\\\0 & 0 & 0 & 0 & 0 & 0 & 0 & 0 & 0 & 0 & 0 & 0 & 0 & 0 & 0 & 0 & 0 & 0 & 0 & 0 & 8.88178419700125 \\cdot 10^{-16} & 33.4183051160915 & 0 & 0 & 0 & 0 & 0 & 0\\\\0 & 0 & 0 & 0 & 0 & 0 & 0 & 0 & 0 & 0 & 0 & 0 & 0 & 0 & 0 & 0 & 0 & 0 & 0 & 0 & 0 & 0 & 0.670321167921355 & 3.19189119579733 \\cdot 10^{-16} & 0 & 0 & 0 & 0\\\\0 & 0 & 0 & 0 & 0 & 0 & 0 & 0 & 0 & 0 & 0 & 0 & 0 & 0 & 0 & 0 & 0 & 0 & 0 & 0 & 0 & 0 & 0 & 29.0138833956603 & 0 & 0 & 0 & 0\\\\0 & 0 & 0 & 0 & 0 & 0 & 0 & 0 & 0 & 0 & 0 & 0 & 0 & 0 & 0 & 0 & 0 & 0 & 0 & 0 & 0 & 0 & 0 & 0 & 1.13823762609654 & 1.11022302462516 \\cdot 10^{-16} & 0 & 0\\\\0 & 0 & 0 & 0 & 0 & 0 & 0 & 0 & 0 & 0 & 0 & 0 & 0 & 0 & 0 & 0 & 0 & 0 & 0 & 0 & 0 & 0 & 0 & 0 & 0 & 26.8732092629687 & 0 & 0\\\\0 & 0 & 0 & 0 & 0 & 0 & 0 & 0 & 0 & 0 & 0 & 0 & 0 & 0 & 0 & 0 & 0 & 0 & 0 & 0 & 0 & 0 & 0 & 0 & 0 & 0 & 1.45069408835804 & 6.10622663543836 \\cdot 10^{-16}\\\\0 & 0 & 0 & 0 & 0 & 0 & 0 & 0 & 0 & 0 & 0 & 0 & 0 & 0 & 0 & 0 & 0 & 0 & 0 & 0 & 0 & 0 & 0 & 0 & 0 & 0 & 0 & 25.9235082522631\\end{array}\\right]$"
      ],
      "text/plain": [
       "Matrix([\n",
       "[4.59463683215816,                0,                0,                0,                0,               0,                0,                0,                0,                0,                    0,                     0,                    0,                    0,                     0,                     0,                    0,                0,                   0,                     0,                    0,                    0,                 0,                    0,                0,                    0,                0,                    0],\n",
       "[               0, 25.8974043904289,                0,                0,                0,               0,                0,                0,                0,                0,                    0,                     0,                    0,                    0,                     0,                     0,                    0,                0,                   0,                     0,                    0,                    0,                 0,                    0,                0,                    0,                0,                    0],\n",
       "[               0,                0, 36.6437396532969,                0,                0,               0,                0,                0,                0,                0,                    0,                     0,                    0,                    0,                     0,                     0,                    0,                0,                   0,                     0,                    0,                    0,                 0,                    0,                0,                    0,                0,                    0],\n",
       "[               0,                0,                0, 32.0280717261593,                0,               0,                0,                0,                0,                0,                    0,                     0,                    0,                    0,                     0,                     0,                    0,                0,                   0,                     0,                    0,                    0,                 0,                    0,                0,                    0,                0,                    0],\n",
       "[               0,                0,                0,                0, 30.4360506368065,               0,                0,                0,                0,                0,                    0,                     0,                    0,                    0,                     0,                     0,                    0,                0,                   0,                     0,                    0,                    0,                 0,                    0,                0,                    0,                0,                    0],\n",
       "[               0,                0,                0,                0,                0, 29.478032666198,                0,                0,                0,                0,                    0,                     0,                    0,                    0,                     0,                     0,                    0,                0,                   0,                     0,                    0,                    0,                 0,                    0,                0,                    0,                0,                    0],\n",
       "[               0,                0,                0,                0,                0,               0, 28.8095646854236,                0,                0,                0,                    0,                     0,                    0,                    0,                     0,                     0,                    0,                0,                   0,                     0,                    0,                    0,                 0,                    0,                0,                    0,                0,                    0],\n",
       "[               0,                0,                0,                0,                0,               0,                0, 28.3864688526337,                0,                0,                    0,                     0,                    0,                    0,                     0,                     0,                    0,                0,                   0,                     0,                    0,                    0,                 0,                    0,                0,                    0,                0,                    0],\n",
       "[               0,                0,                0,                0,                0,               0,                0,                0, 28.2491128193341,                0,                    0,                     0,                    0,                    0,                     0,                     0,                    0,                0,                   0,                     0,                    0,                    0,                 0,                    0,                0,                    0,                0,                    0],\n",
       "[               0,                0,                0,                0,                0,               0,                0,                0,                0, 28.4692652559599,                    0,                     0,                    0,                    0,                     0,                     0,                    0,                0,                   0,                     0,                    0,                    0,                 0,                    0,                0,                    0,                0,                    0],\n",
       "[               0,                0,                0,                0,                0,               0,                0,                0,                0,                0,     51.3427350764323, -8.88178419700125e-16,                    0,                    0,                     0,                     0,                    0,                0,                   0,                     0,                    0,                    0,                 0,                    0,                0,                    0,                0,                    0],\n",
       "[               0,                0,                0,                0,                0,               0,                0,                0,                0,                0, 1.38777878078145e-17,     0.122039898980502,                    0,                    0,                     0,                     0,                    0,                0,                   0,                     0,                    0,                    0,                 0,                    0,                0,                    0,                0,                    0],\n",
       "[               0,                0,                0,                0,                0,               0,                0,                0,                0,                0,                    0,                     0,     30.5880132969018, 8.88178419700125e-16,                     0,                     0,                    0,                0,                   0,                     0,                    0,                    0,                 0,                    0,                0,                    0,                0,                    0],\n",
       "[               0,                0,                0,                0,                0,               0,                0,                0,                0,                0,                    0,                     0, 4.71844785465692e-16,    0.445626619856933,                     0,                     0,                    0,                0,                   0,                     0,                    0,                    0,                 0,                    0,                0,                    0,                0,                    0],\n",
       "[               0,                0,                0,                0,                0,               0,                0,                0,                0,                0,                    0,                     0,                    0,                    0,      27.8190818139037, -8.88178419700125e-16,                    0,                0,                   0,                     0,                    0,                    0,                 0,                    0,                0,                    0,                0,                    0],\n",
       "[               0,                0,                0,                0,                0,               0,                0,                0,                0,                0,                    0,                     0,                    0,                    0, -4.16333634234434e-16,     0.909570413159677,                    0,                0,                   0,                     0,                    0,                    0,                 0,                    0,                0,                    0,                0,                    0],\n",
       "[               0,                0,                0,                0,                0,               0,                0,                0,                0,                0,                    0,                     0,                    0,                    0,                     0,                     0,      26.211601330696,                0,                   0,                     0,                    0,                    0,                 0,                    0,                0,                    0,                0,                    0],\n",
       "[               0,                0,                0,                0,                0,               0,                0,                0,                0,                0,                    0,                     0,                    0,                    0,                     0,                     0, 5.55111512312578e-16, 1.32784719899945,                   0,                     0,                    0,                    0,                 0,                    0,                0,                    0,                0,                    0],\n",
       "[               0,                0,                0,                0,                0,               0,                0,                0,                0,                0,                    0,                     0,                    0,                    0,                     0,                     0,                    0,                0, 0.00750230744407719, -1.70653421949218e-16,                    0,                    0,                 0,                    0,                0,                    0,                0,                    0],\n",
       "[               0,                0,                0,                0,                0,               0,                0,                0,                0,                0,                    0,                     0,                    0,                    0,                     0,                     0,                    0,                0,                   0,      12.8437073725978,                    0,                    0,                 0,                    0,                0,                    0,                0,                    0],\n",
       "[               0,                0,                0,                0,                0,               0,                0,                0,                0,                0,                    0,                     0,                    0,                    0,                     0,                     0,                    0,                0,                   0,                     0,    0.256049908936418, 3.71230823859037e-16,                 0,                    0,                0,                    0,                0,                    0],\n",
       "[               0,                0,                0,                0,                0,               0,                0,                0,                0,                0,                    0,                     0,                    0,                    0,                     0,                     0,                    0,                0,                   0,                     0, 8.88178419700125e-16,     33.4183051160915,                 0,                    0,                0,                    0,                0,                    0],\n",
       "[               0,                0,                0,                0,                0,               0,                0,                0,                0,                0,                    0,                     0,                    0,                    0,                     0,                     0,                    0,                0,                   0,                     0,                    0,                    0, 0.670321167921355, 3.19189119579733e-16,                0,                    0,                0,                    0],\n",
       "[               0,                0,                0,                0,                0,               0,                0,                0,                0,                0,                    0,                     0,                    0,                    0,                     0,                     0,                    0,                0,                   0,                     0,                    0,                    0,                 0,     29.0138833956603,                0,                    0,                0,                    0],\n",
       "[               0,                0,                0,                0,                0,               0,                0,                0,                0,                0,                    0,                     0,                    0,                    0,                     0,                     0,                    0,                0,                   0,                     0,                    0,                    0,                 0,                    0, 1.13823762609654, 1.11022302462516e-16,                0,                    0],\n",
       "[               0,                0,                0,                0,                0,               0,                0,                0,                0,                0,                    0,                     0,                    0,                    0,                     0,                     0,                    0,                0,                   0,                     0,                    0,                    0,                 0,                    0,                0,     26.8732092629687,                0,                    0],\n",
       "[               0,                0,                0,                0,                0,               0,                0,                0,                0,                0,                    0,                     0,                    0,                    0,                     0,                     0,                    0,                0,                   0,                     0,                    0,                    0,                 0,                    0,                0,                    0, 1.45069408835804, 6.10622663543836e-16],\n",
       "[               0,                0,                0,                0,                0,               0,                0,                0,                0,                0,                    0,                     0,                    0,                    0,                     0,                     0,                    0,                0,                   0,                     0,                    0,                    0,                 0,                    0,                0,                    0,                0,     25.9235082522631]])"
      ]
     },
     "execution_count": 31,
     "metadata": {},
     "output_type": "execute_result"
    }
   ],
   "source": [
    "P.inv()*Matrix(m_O_O)*P"
   ]
  },
  {
   "cell_type": "code",
   "execution_count": 32,
   "id": "c3d2daf7",
   "metadata": {},
   "outputs": [
    {
     "data": {
      "text/latex": [
       "$\\displaystyle \\left[\\begin{array}{cccccccccccccccccccccccccccc}0 & 0 & 0 & 0 & 0 & 0 & 0 & 0 & 0 & 0 & 0 & 0 & 0 & 0 & 0 & 0 & 0 & 0 & 0 & 0 & 0 & 0 & 0 & 0 & 0 & 0 & 0 & 0\\\\0 & 0 & 0 & 0 & 0 & 0 & 0 & 0 & 0 & 0 & 0 & 0 & 0 & 0 & 0 & 0 & 0 & 0 & 0 & 0 & 0 & 0 & 0 & 0 & 0 & 0 & 0 & 0\\\\0 & 0 & 0 & 0 & 0 & 0 & 0 & 0 & 0 & 0 & 0 & 0 & 0 & 0 & 0 & 0 & 0 & 0 & 0 & 0 & 0 & 0 & 0 & 0 & 0 & 0 & 0 & 0\\\\0 & 0 & 0 & 0 & 0 & 0 & 0 & 0 & 0 & 0 & 0 & 0 & 0 & 0 & 0 & 0 & 0 & 0 & 0 & 0 & 0 & 0 & 0 & 0 & 0 & 0 & 0 & 0\\\\0 & 0 & 0 & 0 & 0 & 0 & 0 & 0 & 0 & 0 & 0 & 0 & 0 & 0 & 0 & 0 & 0 & 0 & 0 & 0 & 0 & 0 & 0 & 0 & 0 & 0 & 0 & 0\\\\0 & 0 & 0 & 0 & 0 & 0 & 0 & 0 & 0 & 0 & 0 & 0 & 0 & 0 & 0 & 0 & 0 & 0 & 0 & 0 & 0 & 0 & 0 & 0 & 0 & 0 & 0 & 0\\\\0 & 0 & 0 & 0 & 0 & 0 & 0 & 0 & 0 & 0 & 0 & 0 & 0 & 0 & 0 & 0 & 0 & 0 & 0 & 0 & 0 & 0 & 0 & 0 & 0 & 0 & 0 & 0\\\\0 & 0 & 0 & 0 & 0 & 0 & 0 & 0 & 0 & 0 & 0 & 0 & 0 & 0 & 0 & 0 & 0 & 0 & 0 & 0 & 0 & 0 & 0 & 0 & 0 & 0 & 0 & 0\\\\0 & 0 & 0 & 0 & 0 & 0 & 0 & 0 & 0 & 0 & 0 & 0 & 0 & 0 & 0 & 0 & 0 & 0 & 0 & 0 & 0 & 0 & 0 & 0 & 0 & 0 & 0 & 0\\\\0 & 0 & 0 & 0 & 0 & 0 & 0 & 0 & 0 & 0 & 0 & 0 & 0 & 0 & 0 & 0 & 0 & 0 & 0 & 0 & 0 & 0 & 0 & 0 & 0 & 0 & 0 & 0\\\\0 & 0 & 0 & 0 & 0 & 0 & 0 & 0 & 0 & 0 & 6.73181971672883 & 0 & 0 & 0 & 0 & 0 & 0 & 0 & 0 & 0 & 0 & 0 & 0 & 0 & 0 & 0 & 0 & 0\\\\0 & 0 & 0 & 0 & 0 & 0 & 0 & 0 & 0 & 0 & 0 & 6.73181971672883 & 0 & 0 & 0 & 0 & 0 & 0 & 0 & 0 & 0 & 0 & 0 & 0 & 0 & 0 & 0 & 0\\\\0 & 0 & 0 & 0 & 0 & 0 & 0 & 0 & 0 & 0 & 0 & 0 & 6.73181971672883 & 0 & 0 & 0 & 0 & 0 & 0 & 0 & 0 & 0 & 0 & 0 & 0 & 0 & 0 & 0\\\\0 & 0 & 0 & 0 & 0 & 0 & 0 & 0 & 0 & 0 & 0 & 0 & 0 & 6.73181971672883 & 0 & 0 & 0 & 0 & 0 & 0 & 0 & 0 & 0 & 0 & 0 & 0 & 0 & 0\\\\0 & 0 & 0 & 0 & 0 & 0 & 0 & 0 & 0 & 0 & 0 & 0 & 0 & 0 & 6.73181971672883 & -2.22044604925031 \\cdot 10^{-16} & 0 & 0 & 0 & 0 & 0 & 0 & 0 & 0 & 0 & 0 & 0 & 0\\\\0 & 0 & 0 & 0 & 0 & 0 & 0 & 0 & 0 & 0 & 0 & 0 & 0 & 0 & 0 & 6.73181971672883 & 0 & 0 & 0 & 0 & 0 & 0 & 0 & 0 & 0 & 0 & 0 & 0\\\\0 & 0 & 0 & 0 & 0 & 0 & 0 & 0 & 0 & 0 & 0 & 0 & 0 & 0 & 0 & 0 & 6.73181971672883 & 2.22044604925031 \\cdot 10^{-16} & 0 & 0 & 0 & 0 & 0 & 0 & 0 & 0 & 0 & 0\\\\0 & 0 & 0 & 0 & 0 & 0 & 0 & 0 & 0 & 0 & 0 & 0 & 0 & 0 & 0 & 0 & 2.22044604925031 \\cdot 10^{-16} & 6.73181971672883 & 0 & 0 & 0 & 0 & 0 & 0 & 0 & 0 & 0 & 0\\\\0 & 0 & 0 & 0 & 0 & 0 & 0 & 0 & 0 & 0 & 0 & 0 & 0 & 0 & 0 & 0 & 0 & 0 & 6.73181971672883 & 0 & 0 & 0 & 0 & 0 & 0 & 0 & 0 & 0\\\\0 & 0 & 0 & 0 & 0 & 0 & 0 & 0 & 0 & 0 & 0 & 0 & 0 & 0 & 0 & 0 & 0 & 0 & -5.55111512312578 \\cdot 10^{-17} & 6.73181971672883 & 0 & 0 & 0 & 0 & 0 & 0 & 0 & 0\\\\0 & 0 & 0 & 0 & 0 & 0 & 0 & 0 & 0 & 0 & 0 & 0 & 0 & 0 & 0 & 0 & 0 & 0 & 0 & 0 & 6.73181971672883 & 1.11022302462516 \\cdot 10^{-16} & 0 & 0 & 0 & 0 & 0 & 0\\\\0 & 0 & 0 & 0 & 0 & 0 & 0 & 0 & 0 & 0 & 0 & 0 & 0 & 0 & 0 & 0 & 0 & 0 & 0 & 0 & -1.11022302462516 \\cdot 10^{-16} & 6.73181971672883 & 0 & 0 & 0 & 0 & 0 & 0\\\\0 & 0 & 0 & 0 & 0 & 0 & 0 & 0 & 0 & 0 & 0 & 0 & 0 & 0 & 0 & 0 & 0 & 0 & 0 & 0 & 0 & 0 & 6.73181971672883 & 2.22044604925031 \\cdot 10^{-16} & 0 & 0 & 0 & 0\\\\0 & 0 & 0 & 0 & 0 & 0 & 0 & 0 & 0 & 0 & 0 & 0 & 0 & 0 & 0 & 0 & 0 & 0 & 0 & 0 & 0 & 0 & -2.22044604925031 \\cdot 10^{-16} & 6.73181971672883 & 0 & 0 & 0 & 0\\\\0 & 0 & 0 & 0 & 0 & 0 & 0 & 0 & 0 & 0 & 0 & 0 & 0 & 0 & 0 & 0 & 0 & 0 & 0 & 0 & 0 & 0 & 0 & 0 & 6.73181971672883 & 0 & 0 & 0\\\\0 & 0 & 0 & 0 & 0 & 0 & 0 & 0 & 0 & 0 & 0 & 0 & 0 & 0 & 0 & 0 & 0 & 0 & 0 & 0 & 0 & 0 & 0 & 0 & 0 & 6.73181971672883 & 0 & 0\\\\0 & 0 & 0 & 0 & 0 & 0 & 0 & 0 & 0 & 0 & 0 & 0 & 0 & 0 & 0 & 0 & 0 & 0 & 0 & 0 & 0 & 0 & 0 & 0 & 0 & 0 & 6.73181971672883 & 4.44089209850063 \\cdot 10^{-16}\\\\0 & 0 & 0 & 0 & 0 & 0 & 0 & 0 & 0 & 0 & 0 & 0 & 0 & 0 & 0 & 0 & 0 & 0 & 0 & 0 & 0 & 0 & 0 & 0 & 0 & 0 & -4.44089209850063 \\cdot 10^{-16} & 6.73181971672883\\end{array}\\right]$"
      ],
      "text/plain": [
       "Matrix([\n",
       "[0, 0, 0, 0, 0, 0, 0, 0, 0, 0,                0,                0,                0,                0,                0,                     0,                    0,                    0,                     0,                0,                     0,                    0,                     0,                    0,                0,                0,                     0,                    0],\n",
       "[0, 0, 0, 0, 0, 0, 0, 0, 0, 0,                0,                0,                0,                0,                0,                     0,                    0,                    0,                     0,                0,                     0,                    0,                     0,                    0,                0,                0,                     0,                    0],\n",
       "[0, 0, 0, 0, 0, 0, 0, 0, 0, 0,                0,                0,                0,                0,                0,                     0,                    0,                    0,                     0,                0,                     0,                    0,                     0,                    0,                0,                0,                     0,                    0],\n",
       "[0, 0, 0, 0, 0, 0, 0, 0, 0, 0,                0,                0,                0,                0,                0,                     0,                    0,                    0,                     0,                0,                     0,                    0,                     0,                    0,                0,                0,                     0,                    0],\n",
       "[0, 0, 0, 0, 0, 0, 0, 0, 0, 0,                0,                0,                0,                0,                0,                     0,                    0,                    0,                     0,                0,                     0,                    0,                     0,                    0,                0,                0,                     0,                    0],\n",
       "[0, 0, 0, 0, 0, 0, 0, 0, 0, 0,                0,                0,                0,                0,                0,                     0,                    0,                    0,                     0,                0,                     0,                    0,                     0,                    0,                0,                0,                     0,                    0],\n",
       "[0, 0, 0, 0, 0, 0, 0, 0, 0, 0,                0,                0,                0,                0,                0,                     0,                    0,                    0,                     0,                0,                     0,                    0,                     0,                    0,                0,                0,                     0,                    0],\n",
       "[0, 0, 0, 0, 0, 0, 0, 0, 0, 0,                0,                0,                0,                0,                0,                     0,                    0,                    0,                     0,                0,                     0,                    0,                     0,                    0,                0,                0,                     0,                    0],\n",
       "[0, 0, 0, 0, 0, 0, 0, 0, 0, 0,                0,                0,                0,                0,                0,                     0,                    0,                    0,                     0,                0,                     0,                    0,                     0,                    0,                0,                0,                     0,                    0],\n",
       "[0, 0, 0, 0, 0, 0, 0, 0, 0, 0,                0,                0,                0,                0,                0,                     0,                    0,                    0,                     0,                0,                     0,                    0,                     0,                    0,                0,                0,                     0,                    0],\n",
       "[0, 0, 0, 0, 0, 0, 0, 0, 0, 0, 6.73181971672883,                0,                0,                0,                0,                     0,                    0,                    0,                     0,                0,                     0,                    0,                     0,                    0,                0,                0,                     0,                    0],\n",
       "[0, 0, 0, 0, 0, 0, 0, 0, 0, 0,                0, 6.73181971672883,                0,                0,                0,                     0,                    0,                    0,                     0,                0,                     0,                    0,                     0,                    0,                0,                0,                     0,                    0],\n",
       "[0, 0, 0, 0, 0, 0, 0, 0, 0, 0,                0,                0, 6.73181971672883,                0,                0,                     0,                    0,                    0,                     0,                0,                     0,                    0,                     0,                    0,                0,                0,                     0,                    0],\n",
       "[0, 0, 0, 0, 0, 0, 0, 0, 0, 0,                0,                0,                0, 6.73181971672883,                0,                     0,                    0,                    0,                     0,                0,                     0,                    0,                     0,                    0,                0,                0,                     0,                    0],\n",
       "[0, 0, 0, 0, 0, 0, 0, 0, 0, 0,                0,                0,                0,                0, 6.73181971672883, -2.22044604925031e-16,                    0,                    0,                     0,                0,                     0,                    0,                     0,                    0,                0,                0,                     0,                    0],\n",
       "[0, 0, 0, 0, 0, 0, 0, 0, 0, 0,                0,                0,                0,                0,                0,      6.73181971672883,                    0,                    0,                     0,                0,                     0,                    0,                     0,                    0,                0,                0,                     0,                    0],\n",
       "[0, 0, 0, 0, 0, 0, 0, 0, 0, 0,                0,                0,                0,                0,                0,                     0,     6.73181971672883, 2.22044604925031e-16,                     0,                0,                     0,                    0,                     0,                    0,                0,                0,                     0,                    0],\n",
       "[0, 0, 0, 0, 0, 0, 0, 0, 0, 0,                0,                0,                0,                0,                0,                     0, 2.22044604925031e-16,     6.73181971672883,                     0,                0,                     0,                    0,                     0,                    0,                0,                0,                     0,                    0],\n",
       "[0, 0, 0, 0, 0, 0, 0, 0, 0, 0,                0,                0,                0,                0,                0,                     0,                    0,                    0,      6.73181971672883,                0,                     0,                    0,                     0,                    0,                0,                0,                     0,                    0],\n",
       "[0, 0, 0, 0, 0, 0, 0, 0, 0, 0,                0,                0,                0,                0,                0,                     0,                    0,                    0, -5.55111512312578e-17, 6.73181971672883,                     0,                    0,                     0,                    0,                0,                0,                     0,                    0],\n",
       "[0, 0, 0, 0, 0, 0, 0, 0, 0, 0,                0,                0,                0,                0,                0,                     0,                    0,                    0,                     0,                0,      6.73181971672883, 1.11022302462516e-16,                     0,                    0,                0,                0,                     0,                    0],\n",
       "[0, 0, 0, 0, 0, 0, 0, 0, 0, 0,                0,                0,                0,                0,                0,                     0,                    0,                    0,                     0,                0, -1.11022302462516e-16,     6.73181971672883,                     0,                    0,                0,                0,                     0,                    0],\n",
       "[0, 0, 0, 0, 0, 0, 0, 0, 0, 0,                0,                0,                0,                0,                0,                     0,                    0,                    0,                     0,                0,                     0,                    0,      6.73181971672883, 2.22044604925031e-16,                0,                0,                     0,                    0],\n",
       "[0, 0, 0, 0, 0, 0, 0, 0, 0, 0,                0,                0,                0,                0,                0,                     0,                    0,                    0,                     0,                0,                     0,                    0, -2.22044604925031e-16,     6.73181971672883,                0,                0,                     0,                    0],\n",
       "[0, 0, 0, 0, 0, 0, 0, 0, 0, 0,                0,                0,                0,                0,                0,                     0,                    0,                    0,                     0,                0,                     0,                    0,                     0,                    0, 6.73181971672883,                0,                     0,                    0],\n",
       "[0, 0, 0, 0, 0, 0, 0, 0, 0, 0,                0,                0,                0,                0,                0,                     0,                    0,                    0,                     0,                0,                     0,                    0,                     0,                    0,                0, 6.73181971672883,                     0,                    0],\n",
       "[0, 0, 0, 0, 0, 0, 0, 0, 0, 0,                0,                0,                0,                0,                0,                     0,                    0,                    0,                     0,                0,                     0,                    0,                     0,                    0,                0,                0,      6.73181971672883, 4.44089209850063e-16],\n",
       "[0, 0, 0, 0, 0, 0, 0, 0, 0, 0,                0,                0,                0,                0,                0,                     0,                    0,                    0,                     0,                0,                     0,                    0,                     0,                    0,                0,                0, -4.44089209850063e-16,     6.73181971672883]])"
      ]
     },
     "execution_count": 32,
     "metadata": {},
     "output_type": "execute_result"
    }
   ],
   "source": [
    "P.inv()*Matrix(m_h_w)*P"
   ]
  },
  {
   "cell_type": "code",
   "execution_count": 33,
   "id": "3702673e",
   "metadata": {},
   "outputs": [
    {
     "data": {
      "text/latex": [
       "$\\displaystyle \\left[\\begin{array}{cccccccccccccccccccccccccccc}17392.0 & 0 & 0 & 0 & 0 & 0 & 0 & 0 & 0 & 0 & 0 & 0 & 0 & 0 & 0 & 0 & 0 & 0 & 0 & 0 & 0 & 0 & 0 & 0 & 0 & 0 & 0 & 0\\\\0 & 17374.0 & 0 & 0 & 0 & 0 & 0 & 0 & 0 & 0 & 0 & 0 & 0 & 0 & 0 & 0 & 0 & 0 & 0 & 0 & 0 & 0 & 0 & 0 & 0 & 0 & 0 & 0\\\\0 & 0 & 17332.0 & 0 & 0 & 0 & 0 & 0 & 0 & 0 & 0 & 0 & 0 & 0 & 0 & 0 & 0 & 0 & 0 & 0 & 0 & 0 & 0 & 0 & 0 & 0 & 0 & 0\\\\0 & 0 & 0 & 17266.0 & 0 & 0 & 0 & 0 & 0 & 0 & 0 & 0 & 0 & 0 & 0 & 0 & 0 & 0 & 0 & 0 & 0 & 0 & 0 & 0 & 0 & 0 & 0 & 0\\\\0 & 0 & 0 & 0 & 17176.0 & 0 & 0 & 0 & 0 & 0 & 0 & 0 & 0 & 0 & 0 & 0 & 0 & 0 & 0 & 0 & 0 & 0 & 0 & 0 & 0 & 0 & 0 & 0\\\\0 & 0 & 0 & 0 & 0 & 17062.0 & 0 & 0 & 0 & 0 & 0 & 0 & 0 & 0 & 0 & 0 & 0 & 0 & 0 & 0 & 0 & 0 & 0 & 0 & 0 & 0 & 0 & 0\\\\0 & 0 & 0 & 0 & 0 & 0 & 16924.0 & 0 & 0 & 0 & 0 & 0 & 0 & 0 & 0 & 0 & 0 & 0 & 0 & 0 & 0 & 0 & 0 & 0 & 0 & 0 & 0 & 0\\\\0 & 0 & 0 & 0 & 0 & 0 & 0 & 16762.0 & 0 & 0 & 0 & 0 & 0 & 0 & 0 & 0 & 0 & 0 & 0 & 0 & 0 & 0 & 0 & 0 & 0 & 0 & 0 & 0\\\\0 & 0 & 0 & 0 & 0 & 0 & 0 & 0 & 16576.0 & 0 & 0 & 0 & 0 & 0 & 0 & 0 & 0 & 0 & 0 & 0 & 0 & 0 & 0 & 0 & 0 & 0 & 0 & 0\\\\0 & 0 & 0 & 0 & 0 & 0 & 0 & 0 & 0 & 16366.0 & 0 & 0 & 0 & 0 & 0 & 0 & 0 & 0 & 0 & 0 & 0 & 0 & 0 & 0 & 0 & 0 & 0 & 0\\\\0 & 0 & 0 & 0 & 0 & 0 & 0 & 0 & 0 & 0 & 19420.0 & 0 & 0 & 0 & 0 & 0 & 0 & 0 & 0 & 0 & 0 & 0 & 0 & 0 & 0 & 0 & 0 & 0\\\\0 & 0 & 0 & 0 & 0 & 0 & 0 & 0 & 0 & 0 & -4.54747350886464 \\cdot 10^{-13} & 19420.0 & 0 & 0 & 0 & 0 & 0 & 0 & 0 & 0 & 0 & 0 & 0 & 0 & 0 & 0 & 0 & 0\\\\0 & 0 & 0 & 0 & 0 & 0 & 0 & 0 & 0 & 0 & 0 & 0 & 19288.0 & 0 & 0 & 0 & 0 & 0 & 0 & 0 & 0 & 0 & 0 & 0 & 0 & 0 & 0 & 0\\\\0 & 0 & 0 & 0 & 0 & 0 & 0 & 0 & 0 & 0 & 0 & 0 & 0 & 19288.0 & 0 & 0 & 0 & 0 & 0 & 0 & 0 & 0 & 0 & 0 & 0 & 0 & 0 & 0\\\\0 & 0 & 0 & 0 & 0 & 0 & 0 & 0 & 0 & 0 & 0 & 0 & 0 & 0 & 19060.0 & -9.09494701772928 \\cdot 10^{-13} & 0 & 0 & 0 & 0 & 0 & 0 & 0 & 0 & 0 & 0 & 0 & 0\\\\0 & 0 & 0 & 0 & 0 & 0 & 0 & 0 & 0 & 0 & 0 & 0 & 0 & 0 & 0 & 19060.0 & 0 & 0 & 0 & 0 & 0 & 0 & 0 & 0 & 0 & 0 & 0 & 0\\\\0 & 0 & 0 & 0 & 0 & 0 & 0 & 0 & 0 & 0 & 0 & 0 & 0 & 0 & 0 & 0 & 18736.0 & 0 & 0 & 0 & 0 & 0 & 0 & 0 & 0 & 0 & 0 & 0\\\\0 & 0 & 0 & 0 & 0 & 0 & 0 & 0 & 0 & 0 & 0 & 0 & 0 & 0 & 0 & 0 & 9.09494701772928 \\cdot 10^{-13} & 18736.0 & 0 & 0 & 0 & 0 & 0 & 0 & 0 & 0 & 0 & 0\\\\0 & 0 & 0 & 0 & 0 & 0 & 0 & 0 & 0 & 0 & 0 & 0 & 0 & 0 & 0 & 0 & 0 & 0 & 19450.0 & -2.27373675443232 \\cdot 10^{-13} & 0 & 0 & 0 & 0 & 0 & 0 & 0 & 0\\\\0 & 0 & 0 & 0 & 0 & 0 & 0 & 0 & 0 & 0 & 0 & 0 & 0 & 0 & 0 & 0 & 0 & 0 & 0 & 19450.0 & 0 & 0 & 0 & 0 & 0 & 0 & 0 & 0\\\\0 & 0 & 0 & 0 & 0 & 0 & 0 & 0 & 0 & 0 & 0 & 0 & 0 & 0 & 0 & 0 & 0 & 0 & 0 & 0 & 19366.0 & 0 & 0 & 0 & 0 & 0 & 0 & 0\\\\0 & 0 & 0 & 0 & 0 & 0 & 0 & 0 & 0 & 0 & 0 & 0 & 0 & 0 & 0 & 0 & 0 & 0 & 0 & 0 & 0 & 19366.0 & 0 & 0 & 0 & 0 & 0 & 0\\\\0 & 0 & 0 & 0 & 0 & 0 & 0 & 0 & 0 & 0 & 0 & 0 & 0 & 0 & 0 & 0 & 0 & 0 & 0 & 0 & 0 & 0 & 19186.0 & 0 & 0 & 0 & 0 & 0\\\\0 & 0 & 0 & 0 & 0 & 0 & 0 & 0 & 0 & 0 & 0 & 0 & 0 & 0 & 0 & 0 & 0 & 0 & 0 & 0 & 0 & 0 & 0 & 19186.0 & 0 & 0 & 0 & 0\\\\0 & 0 & 0 & 0 & 0 & 0 & 0 & 0 & 0 & 0 & 0 & 0 & 0 & 0 & 0 & 0 & 0 & 0 & 0 & 0 & 0 & 0 & 0 & 0 & 18910.0 & 0 & 0 & 0\\\\0 & 0 & 0 & 0 & 0 & 0 & 0 & 0 & 0 & 0 & 0 & 0 & 0 & 0 & 0 & 0 & 0 & 0 & 0 & 0 & 0 & 0 & 0 & 0 & 0 & 18910.0 & 0 & 0\\\\0 & 0 & 0 & 0 & 0 & 0 & 0 & 0 & 0 & 0 & 0 & 0 & 0 & 0 & 0 & 0 & 0 & 0 & 0 & 0 & 0 & 0 & 0 & 0 & 0 & 0 & 18538.0 & 0\\\\0 & 0 & 0 & 0 & 0 & 0 & 0 & 0 & 0 & 0 & 0 & 0 & 0 & 0 & 0 & 0 & 0 & 0 & 0 & 0 & 0 & 0 & 0 & 0 & 0 & 0 & 0 & 18538.0\\end{array}\\right]$"
      ],
      "text/plain": [
       "Matrix([\n",
       "[17392.0,       0,       0,       0,       0,       0,       0,       0,       0,       0,                     0,       0,       0,       0,       0,                     0,                    0,       0,       0,                     0,       0,       0,       0,       0,       0,       0,       0,       0],\n",
       "[      0, 17374.0,       0,       0,       0,       0,       0,       0,       0,       0,                     0,       0,       0,       0,       0,                     0,                    0,       0,       0,                     0,       0,       0,       0,       0,       0,       0,       0,       0],\n",
       "[      0,       0, 17332.0,       0,       0,       0,       0,       0,       0,       0,                     0,       0,       0,       0,       0,                     0,                    0,       0,       0,                     0,       0,       0,       0,       0,       0,       0,       0,       0],\n",
       "[      0,       0,       0, 17266.0,       0,       0,       0,       0,       0,       0,                     0,       0,       0,       0,       0,                     0,                    0,       0,       0,                     0,       0,       0,       0,       0,       0,       0,       0,       0],\n",
       "[      0,       0,       0,       0, 17176.0,       0,       0,       0,       0,       0,                     0,       0,       0,       0,       0,                     0,                    0,       0,       0,                     0,       0,       0,       0,       0,       0,       0,       0,       0],\n",
       "[      0,       0,       0,       0,       0, 17062.0,       0,       0,       0,       0,                     0,       0,       0,       0,       0,                     0,                    0,       0,       0,                     0,       0,       0,       0,       0,       0,       0,       0,       0],\n",
       "[      0,       0,       0,       0,       0,       0, 16924.0,       0,       0,       0,                     0,       0,       0,       0,       0,                     0,                    0,       0,       0,                     0,       0,       0,       0,       0,       0,       0,       0,       0],\n",
       "[      0,       0,       0,       0,       0,       0,       0, 16762.0,       0,       0,                     0,       0,       0,       0,       0,                     0,                    0,       0,       0,                     0,       0,       0,       0,       0,       0,       0,       0,       0],\n",
       "[      0,       0,       0,       0,       0,       0,       0,       0, 16576.0,       0,                     0,       0,       0,       0,       0,                     0,                    0,       0,       0,                     0,       0,       0,       0,       0,       0,       0,       0,       0],\n",
       "[      0,       0,       0,       0,       0,       0,       0,       0,       0, 16366.0,                     0,       0,       0,       0,       0,                     0,                    0,       0,       0,                     0,       0,       0,       0,       0,       0,       0,       0,       0],\n",
       "[      0,       0,       0,       0,       0,       0,       0,       0,       0,       0,               19420.0,       0,       0,       0,       0,                     0,                    0,       0,       0,                     0,       0,       0,       0,       0,       0,       0,       0,       0],\n",
       "[      0,       0,       0,       0,       0,       0,       0,       0,       0,       0, -4.54747350886464e-13, 19420.0,       0,       0,       0,                     0,                    0,       0,       0,                     0,       0,       0,       0,       0,       0,       0,       0,       0],\n",
       "[      0,       0,       0,       0,       0,       0,       0,       0,       0,       0,                     0,       0, 19288.0,       0,       0,                     0,                    0,       0,       0,                     0,       0,       0,       0,       0,       0,       0,       0,       0],\n",
       "[      0,       0,       0,       0,       0,       0,       0,       0,       0,       0,                     0,       0,       0, 19288.0,       0,                     0,                    0,       0,       0,                     0,       0,       0,       0,       0,       0,       0,       0,       0],\n",
       "[      0,       0,       0,       0,       0,       0,       0,       0,       0,       0,                     0,       0,       0,       0, 19060.0, -9.09494701772928e-13,                    0,       0,       0,                     0,       0,       0,       0,       0,       0,       0,       0,       0],\n",
       "[      0,       0,       0,       0,       0,       0,       0,       0,       0,       0,                     0,       0,       0,       0,       0,               19060.0,                    0,       0,       0,                     0,       0,       0,       0,       0,       0,       0,       0,       0],\n",
       "[      0,       0,       0,       0,       0,       0,       0,       0,       0,       0,                     0,       0,       0,       0,       0,                     0,              18736.0,       0,       0,                     0,       0,       0,       0,       0,       0,       0,       0,       0],\n",
       "[      0,       0,       0,       0,       0,       0,       0,       0,       0,       0,                     0,       0,       0,       0,       0,                     0, 9.09494701772928e-13, 18736.0,       0,                     0,       0,       0,       0,       0,       0,       0,       0,       0],\n",
       "[      0,       0,       0,       0,       0,       0,       0,       0,       0,       0,                     0,       0,       0,       0,       0,                     0,                    0,       0, 19450.0, -2.27373675443232e-13,       0,       0,       0,       0,       0,       0,       0,       0],\n",
       "[      0,       0,       0,       0,       0,       0,       0,       0,       0,       0,                     0,       0,       0,       0,       0,                     0,                    0,       0,       0,               19450.0,       0,       0,       0,       0,       0,       0,       0,       0],\n",
       "[      0,       0,       0,       0,       0,       0,       0,       0,       0,       0,                     0,       0,       0,       0,       0,                     0,                    0,       0,       0,                     0, 19366.0,       0,       0,       0,       0,       0,       0,       0],\n",
       "[      0,       0,       0,       0,       0,       0,       0,       0,       0,       0,                     0,       0,       0,       0,       0,                     0,                    0,       0,       0,                     0,       0, 19366.0,       0,       0,       0,       0,       0,       0],\n",
       "[      0,       0,       0,       0,       0,       0,       0,       0,       0,       0,                     0,       0,       0,       0,       0,                     0,                    0,       0,       0,                     0,       0,       0, 19186.0,       0,       0,       0,       0,       0],\n",
       "[      0,       0,       0,       0,       0,       0,       0,       0,       0,       0,                     0,       0,       0,       0,       0,                     0,                    0,       0,       0,                     0,       0,       0,       0, 19186.0,       0,       0,       0,       0],\n",
       "[      0,       0,       0,       0,       0,       0,       0,       0,       0,       0,                     0,       0,       0,       0,       0,                     0,                    0,       0,       0,                     0,       0,       0,       0,       0, 18910.0,       0,       0,       0],\n",
       "[      0,       0,       0,       0,       0,       0,       0,       0,       0,       0,                     0,       0,       0,       0,       0,                     0,                    0,       0,       0,                     0,       0,       0,       0,       0,       0, 18910.0,       0,       0],\n",
       "[      0,       0,       0,       0,       0,       0,       0,       0,       0,       0,                     0,       0,       0,       0,       0,                     0,                    0,       0,       0,                     0,       0,       0,       0,       0,       0,       0, 18538.0,       0],\n",
       "[      0,       0,       0,       0,       0,       0,       0,       0,       0,       0,                     0,       0,       0,       0,       0,                     0,                    0,       0,       0,                     0,       0,       0,       0,       0,       0,       0,       0, 18538.0]])"
      ]
     },
     "execution_count": 33,
     "metadata": {},
     "output_type": "execute_result"
    }
   ],
   "source": [
    "P.inv()*Sympy_Q_Q*P"
   ]
  },
  {
   "cell_type": "code",
   "execution_count": 13,
   "id": "5c29d5d6",
   "metadata": {},
   "outputs": [
    {
     "data": {
      "text/plain": [
       "True"
      ]
     },
     "execution_count": 13,
     "metadata": {},
     "output_type": "execute_result"
    }
   ],
   "source": [
    "Sympy_O_O*Sympy_g_s == Sympy_g_s*Sympy_O_O"
   ]
  },
  {
   "cell_type": "code",
   "execution_count": 59,
   "id": "93cfa867",
   "metadata": {},
   "outputs": [
    {
     "data": {
      "text/latex": [
       "$\\displaystyle \\left[\\begin{matrix}0 & 0\\\\0 & 0\\\\0 & 0\\\\0 & 0\\\\0 & 0\\\\0 & 0\\\\0 & 0\\\\0 & 0\\\\0 & 0\\\\0 & 0\\\\0.998020322042355 & 0\\\\0 & 0\\\\0 & 0\\\\0 & 0\\\\0 & 0\\\\0 & 0\\\\0 & 0\\\\0 & 0\\\\0 & 0.342840265861709\\\\-0.0628922633594507 & 0\\\\0 & 0\\\\0 & 0\\\\0 & 0\\\\0 & 0\\\\0 & 0\\\\0 & 0\\\\0 & 0\\\\0 & 0.939393715171585\\end{matrix}\\right]$"
      ],
      "text/plain": [
       "Matrix([\n",
       "[                  0,                 0],\n",
       "[                  0,                 0],\n",
       "[                  0,                 0],\n",
       "[                  0,                 0],\n",
       "[                  0,                 0],\n",
       "[                  0,                 0],\n",
       "[                  0,                 0],\n",
       "[                  0,                 0],\n",
       "[                  0,                 0],\n",
       "[                  0,                 0],\n",
       "[  0.998020322042355,                 0],\n",
       "[                  0,                 0],\n",
       "[                  0,                 0],\n",
       "[                  0,                 0],\n",
       "[                  0,                 0],\n",
       "[                  0,                 0],\n",
       "[                  0,                 0],\n",
       "[                  0,                 0],\n",
       "[                  0, 0.342840265861709],\n",
       "[-0.0628922633594507,                 0],\n",
       "[                  0,                 0],\n",
       "[                  0,                 0],\n",
       "[                  0,                 0],\n",
       "[                  0,                 0],\n",
       "[                  0,                 0],\n",
       "[                  0,                 0],\n",
       "[                  0,                 0],\n",
       "[                  0, 0.939393715171585]])"
      ]
     },
     "metadata": {},
     "output_type": "display_data"
    }
   ],
   "source": [
    "d = \n",
    "V1 = np.zeros(())\n",
    "V1[18] = 1\n",
    "\n",
    "V = np.zeros(())\n",
    "V[27] = 1\n",
    "\n",
    "combined = Matrix.hstack(P*Matrix(V1), P*Matrix(V))\n",
    "display(combined)"
   ]
  },
  {
   "cell_type": "code",
   "execution_count": 117,
   "id": "c15fcc61",
   "metadata": {},
   "outputs": [],
   "source": [
    "# Experimental energy values of K = 0+, L = 0,2,4,6,8,10,12,14,16,18 and K = 0-, L = 1,3,5,7,9,11,13,15,17\n",
    "EE_O_O = np.concatenate((Th224[Th224[\"L\"]%2==0][\"Energy\"].to_numpy(), \n",
    "                         Th224[Th224[\"L\"]%2!=0][\"Energy\"].to_numpy(),\n",
    "                         Th224[Th224[\"L\"]%2!=0][\"Energy\"].to_numpy()))"
   ]
  },
  {
   "cell_type": "code",
   "execution_count": 118,
   "id": "e4888c1e",
   "metadata": {},
   "outputs": [],
   "source": [
    "# Dummy input\n",
    "x = 0\n",
    "\n",
    "# Function to perform the fit of parameters of non-diagonal Hamiltonian\n",
    "def Hamiltonian_O_O(x, a, b):       \n",
    "    \n",
    "    # Parameter dependent Hamiltonian matrix\n",
    "    SympyH = Sympy_h_w + a*Sympy_Q_Q + b*Sympy_O_O - a*Sympy_g_s - b*4.594636832158156*Matrix(np.identity(len(statesJ)))\n",
    "    \n",
    "    H = np.array(SympyH).astype(np.float64)\n",
    "\n",
    "    # Diagonal Hamiltonian and conversion to numpy array\n",
    "    P, SympyHDiag = Matrix(H).diagonalize()\n",
    "    HDiag = np.array(SympyHDiag).astype(np.float64)\n",
    "    \n",
    "    print(Matrix(HDiag))\n",
    "    \n",
    "    # Conversion to numpy array\n",
    "    Pinv = np.array(P).astype(np.float64)    # P is actually P**-1\n",
    "                \n",
    "    # Expected energy values <ψ|H|ψ'>\n",
    "    EE = []\n",
    "    \n",
    "    for i in range(len(H[0])):\n",
    "        #suma = 0\n",
    "        #for j in range(len(H[0])):\n",
    "        #    suma += Pinv[i][j]**2*HDiag[j][j]\n",
    "            \n",
    "        EE.append(HDiag[i][i])\n",
    "    \n",
    "    return EE "
   ]
  },
  {
   "cell_type": "code",
   "execution_count": 119,
   "id": "1ab13bc3",
   "metadata": {},
   "outputs": [
    {
     "name": "stdout",
     "output_type": "stream",
     "text": [
      "Matrix([[-1.61737290227393e-12, 0, 0, 0, 0, 0, 0, 0, 0, 0, 0, 0, 0, 0, 0, 0, 0, 0, 0, 0, 0, 0, 0, 0, 0, 0, 0, 0], [0, 3.30276755826910, 0, 0, 0, 0, 0, 0, 0, 0, 0, 0, 0, 0, 0, 0, 0, 0, 0, 0, 0, 0, 0, 0, 0, 0, 0, 0], [0, 0, -27.9508971788616, 0, 0, 0, 0, 0, 0, 0, 0, 0, 0, 0, 0, 0, 0, 0, 0, 0, 0, 0, 0, 0, 0, 0, 0, 0], [0, 0, 0, -98.5665651059988, 0, 0, 0, 0, 0, 0, 0, 0, 0, 0, 0, 0, 0, 0, 0, 0, 0, 0, 0, 0, 0, 0, 0, 0], [0, 0, 0, 0, -190.158586195352, 0, 0, 0, 0, 0, 0, 0, 0, 0, 0, 0, 0, 0, 0, 0, 0, 0, 0, 0, 0, 0, 0, 0], [0, 0, 0, 0, 0, -305.116604165961, 0, 0, 0, 0, 0, 0, 0, 0, 0, 0, 0, 0, 0, 0, 0, 0, 0, 0, 0, 0, 0, 0], [0, 0, 0, 0, 0, 0, -443.785072146735, 0, 0, 0, 0, 0, 0, 0, 0, 0, 0, 0, 0, 0, 0, 0, 0, 0, 0, 0, 0, 0], [0, 0, 0, 0, 0, 0, 0, -606.208167979524, 0, 0, 0, 0, 0, 0, 0, 0, 0, 0, 0, 0, 0, 0, 0, 0, 0, 0, 0, 0], [0, 0, 0, 0, 0, 0, 0, 0, -792.345524012826, 0, 0, 0, 0, 0, 0, 0, 0, 0, 0, 0, 0, 0, 0, 0, 0, 0, 0, 0], [0, 0, 0, 0, 0, 0, 0, 0, 0, -1002.12537157620, 0, 0, 0, 0, 0, 0, 0, 0, 0, 0, 0, 0, 0, 0, 0, 0, 0, 0], [0, 0, 0, 0, 0, 0, 0, 0, 0, 0, 2081.47991796100, 0, 0, 0, 0, 0, 0, 0, 0, 0, 0, 0, 0, 0, 0, 0, 0, 0], [0, 0, 0, 0, 0, 0, 0, 0, 0, 0, 0, 2030.25922278355, 0, 0, 0, 0, 0, 0, 0, 0, 0, 0, 0, 0, 0, 0, 0, 0], [0, 0, 0, 0, 0, 0, 0, 0, 0, 0, 0, 0, 1928.72519618147, 0, 0, 0, 0, 0, 0, 0, 0, 0, 0, 0, 0, 0, 0, 0], [0, 0, 0, 0, 0, 0, 0, 0, 0, 0, 0, 0, 0, 1898.58280950443, 0, 0, 0, 0, 0, 0, 0, 0, 0, 0, 0, 0, 0, 0], [0, 0, 0, 0, 0, 0, 0, 0, 0, 0, 0, 0, 0, 0, 1697.95626469848, 0, 0, 0, 0, 0, 0, 0, 0, 0, 0, 0, 0, 0], [0, 0, 0, 0, 0, 0, 0, 0, 0, 0, 0, 0, 0, 0, 0, 1671.04675329773, 0, 0, 0, 0, 0, 0, 0, 0, 0, 0, 0, 0], [0, 0, 0, 0, 0, 0, 0, 0, 0, 0, 0, 0, 0, 0, 0, 0, 1372.34878421527, 0, 0, 0, 0, 0, 0, 0, 0, 0, 0, 0], [0, 0, 0, 0, 0, 0, 0, 0, 0, 0, 0, 0, 0, 0, 0, 0, 0, 1347.46503008357, 0, 0, 0, 0, 0, 0, 0, 0, 0, 0], [0, 0, 0, 0, 0, 0, 0, 0, 0, 0, 0, 0, 0, 0, 0, 0, 0, 0, 2060.14468519202, 0, 0, 0, 0, 0, 0, 0, 0, 0], [0, 0, 0, 0, 0, 0, 0, 0, 0, 0, 0, 0, 0, 0, 0, 0, 0, 0, 0, 2072.98089025717, 0, 0, 0, 0, 0, 0, 0, 0], [0, 0, 0, 0, 0, 0, 0, 0, 0, 0, 0, 0, 0, 0, 0, 0, 0, 0, 0, 0, 1976.39323279351, 0, 0, 0, 0, 0, 0, 0], [0, 0, 0, 0, 0, 0, 0, 0, 0, 0, 0, 0, 0, 0, 0, 0, 0, 0, 0, 0, 0, 2009.55548800066, 0, 0, 0, 0, 0, 0], [0, 0, 0, 0, 0, 0, 0, 0, 0, 0, 0, 0, 0, 0, 0, 0, 0, 0, 0, 0, 0, 0, 1796.80750405249, 0, 0, 0, 0, 0], [0, 0, 0, 0, 0, 0, 0, 0, 0, 0, 0, 0, 0, 0, 0, 0, 0, 0, 0, 0, 0, 0, 0, 1825.15106628023, 0, 0, 0, 0], [0, 0, 0, 0, 0, 0, 0, 0, 0, 0, 0, 0, 0, 0, 0, 0, 0, 0, 0, 0, 0, 0, 0, 0, 1521.27542051067, 0, 0, 0], [0, 0, 0, 0, 0, 0, 0, 0, 0, 0, 0, 0, 0, 0, 0, 0, 0, 0, 0, 0, 0, 0, 0, 0, 0, 1547.01039214754, 0, 0], [0, 0, 0, 0, 0, 0, 0, 0, 0, 0, 0, 0, 0, 0, 0, 0, 0, 0, 0, 0, 0, 0, 0, 0, 0, 0, 1149.58787697293, 0], [0, 0, 0, 0, 0, 0, 0, 0, 0, 0, 0, 0, 0, 0, 0, 0, 0, 0, 0, 0, 0, 0, 0, 0, 0, 0, 0, 1174.06069113683]])\n",
      "Matrix([[-1.61737290227393e-12, 0, 0, 0, 0, 0, 0, 0, 0, 0, 0, 0, 0, 0, 0, 0, 0, 0, 0, 0, 0, 0, 0, 0, 0, 0, 0, 0], [0, 3.30276729004820, 0, 0, 0, 0, 0, 0, 0, 0, 0, 0, 0, 0, 0, 0, 0, 0, 0, 0, 0, 0, 0, 0, 0, 0, 0, 0], [0, 0, -27.9508980729313, 0, 0, 0, 0, 0, 0, 0, 0, 0, 0, 0, 0, 0, 0, 0, 0, 0, 0, 0, 0, 0, 0, 0, 0, 0], [0, 0, 0, -98.5665669835451, 0, 0, 0, 0, 0, 0, 0, 0, 0, 0, 0, 0, 0, 0, 0, 0, 0, 0, 0, 0, 0, 0, 0, 0], [0, 0, 0, 0, -190.158589414002, 0, 0, 0, 0, 0, 0, 0, 0, 0, 0, 0, 0, 0, 0, 0, 0, 0, 0, 0, 0, 0, 0, 0], [0, 0, 0, 0, 0, -305.116609083345, 0, 0, 0, 0, 0, 0, 0, 0, 0, 0, 0, 0, 0, 0, 0, 0, 0, 0, 0, 0, 0, 0], [0, 0, 0, 0, 0, 0, -443.785079120478, 0, 0, 0, 0, 0, 0, 0, 0, 0, 0, 0, 0, 0, 0, 0, 0, 0, 0, 0, 0, 0], [0, 0, 0, 0, 0, 0, 0, -606.208177367256, 0, 0, 0, 0, 0, 0, 0, 0, 0, 0, 0, 0, 0, 0, 0, 0, 0, 0, 0, 0], [0, 0, 0, 0, 0, 0, 0, 0, -792.345536172173, 0, 0, 0, 0, 0, 0, 0, 0, 0, 0, 0, 0, 0, 0, 0, 0, 0, 0, 0], [0, 0, 0, 0, 0, 0, 0, 0, 0, -1002.12538686479, 0, 0, 0, 0, 0, 0, 0, 0, 0, 0, 0, 0, 0, 0, 0, 0, 0, 0], [0, 0, 0, 0, 0, 0, 0, 0, 0, 0, 2081.47994818056, 0, 0, 0, 0, 0, 0, 0, 0, 0, 0, 0, 0, 0, 0, 0, 0, 0], [0, 0, 0, 0, 0, 0, 0, 0, 0, 0, 0, 2030.25925300311, 0, 0, 0, 0, 0, 0, 0, 0, 0, 0, 0, 0, 0, 0, 0, 0], [0, 0, 0, 0, 0, 0, 0, 0, 0, 0, 0, 0, 1928.72522443408, 0, 0, 0, 0, 0, 0, 0, 0, 0, 0, 0, 0, 0, 0, 0], [0, 0, 0, 0, 0, 0, 0, 0, 0, 0, 0, 0, 0, 1898.58283775703, 0, 0, 0, 0, 0, 0, 0, 0, 0, 0, 0, 0, 0, 0], [0, 0, 0, 0, 0, 0, 0, 0, 0, 0, 0, 0, 0, 0, 1697.95628955361, 0, 0, 0, 0, 0, 0, 0, 0, 0, 0, 0, 0, 0], [0, 0, 0, 0, 0, 0, 0, 0, 0, 0, 0, 0, 0, 0, 0, 1671.04677815287, 0, 0, 0, 0, 0, 0, 0, 0, 0, 0, 0, 0], [0, 0, 0, 0, 0, 0, 0, 0, 0, 0, 0, 0, 0, 0, 0, 0, 1372.34880424243, 0, 0, 0, 0, 0, 0, 0, 0, 0, 0, 0], [0, 0, 0, 0, 0, 0, 0, 0, 0, 0, 0, 0, 0, 0, 0, 0, 0, 1347.46505011073, 0, 0, 0, 0, 0, 0, 0, 0, 0, 0], [0, 0, 0, 0, 0, 0, 0, 0, 0, 0, 0, 0, 0, 0, 0, 0, 0, 0, 2060.14471585861, 0, 0, 0, 0, 0, 0, 0, 0, 0], [0, 0, 0, 0, 0, 0, 0, 0, 0, 0, 0, 0, 0, 0, 0, 0, 0, 0, 0, 2072.98092092376, 0, 0, 0, 0, 0, 0, 0, 0], [0, 0, 0, 0, 0, 0, 0, 0, 0, 0, 0, 0, 0, 0, 0, 0, 0, 0, 0, 0, 1976.39326220840, 0, 0, 0, 0, 0, 0, 0], [0, 0, 0, 0, 0, 0, 0, 0, 0, 0, 0, 0, 0, 0, 0, 0, 0, 0, 0, 0, 0, 2009.55551741556, 0, 0, 0, 0, 0, 0], [0, 0, 0, 0, 0, 0, 0, 0, 0, 0, 0, 0, 0, 0, 0, 0, 0, 0, 0, 0, 0, 0, 1796.80753078518, 0, 0, 0, 0, 0], [0, 0, 0, 0, 0, 0, 0, 0, 0, 0, 0, 0, 0, 0, 0, 0, 0, 0, 0, 0, 0, 0, 0, 1825.15109301292, 0, 0, 0, 0], [0, 0, 0, 0, 0, 0, 0, 0, 0, 0, 0, 0, 0, 0, 0, 0, 0, 0, 0, 0, 0, 0, 0, 0, 1521.27544313063, 0, 0, 0], [0, 0, 0, 0, 0, 0, 0, 0, 0, 0, 0, 0, 0, 0, 0, 0, 0, 0, 0, 0, 0, 0, 0, 0, 0, 1547.01041476750, 0, 0], [0, 0, 0, 0, 0, 0, 0, 0, 0, 0, 0, 0, 0, 0, 0, 0, 0, 0, 0, 0, 0, 0, 0, 0, 0, 0, 1149.58789404966, 0], [0, 0, 0, 0, 0, 0, 0, 0, 0, 0, 0, 0, 0, 0, 0, 0, 0, 0, 0, 0, 0, 0, 0, 0, 0, 0, 0, 1174.06070821356]])\n",
      "Matrix([[-2.80664380625240e-13, 0, 0, 0, 0, 0, 0, 0, 0, 0, 0, 0, 0, 0, 0, 0, 0, 0, 0, 0, 0, 0, 0, 0, 0, 0, 0, 0], [0, 3.30276787570591, 0, 0, 0, 0, 0, 0, 0, 0, 0, 0, 0, 0, 0, 0, 0, 0, 0, 0, 0, 0, 0, 0, 0, 0, 0, 0], [0, 0, -27.9508967012919, 0, 0, 0, 0, 0, 0, 0, 0, 0, 0, 0, 0, 0, 0, 0, 0, 0, 0, 0, 0, 0, 0, 0, 0, 0], [0, 0, 0, -98.5665646972087, 0, 0, 0, 0, 0, 0, 0, 0, 0, 0, 0, 0, 0, 0, 0, 0, 0, 0, 0, 0, 0, 0, 0, 0], [0, 0, 0, 0, -190.158585810285, 0, 0, 0, 0, 0, 0, 0, 0, 0, 0, 0, 0, 0, 0, 0, 0, 0, 0, 0, 0, 0, 0, 0], [0, 0, 0, 0, 0, -305.116603795170, 0, 0, 0, 0, 0, 0, 0, 0, 0, 0, 0, 0, 0, 0, 0, 0, 0, 0, 0, 0, 0, 0], [0, 0, 0, 0, 0, 0, -443.785071785904, 0, 0, 0, 0, 0, 0, 0, 0, 0, 0, 0, 0, 0, 0, 0, 0, 0, 0, 0, 0, 0], [0, 0, 0, 0, 0, 0, 0, -606.208167624998, 0, 0, 0, 0, 0, 0, 0, 0, 0, 0, 0, 0, 0, 0, 0, 0, 0, 0, 0, 0], [0, 0, 0, 0, 0, 0, 0, 0, -792.345523660344, 0, 0, 0, 0, 0, 0, 0, 0, 0, 0, 0, 0, 0, 0, 0, 0, 0, 0, 0], [0, 0, 0, 0, 0, 0, 0, 0, 0, -1002.12537122044, 0, 0, 0, 0, 0, 0, 0, 0, 0, 0, 0, 0, 0, 0, 0, 0, 0, 0], [0, 0, 0, 0, 0, 0, 0, 0, 0, 0, 2081.47991865761, 0, 0, 0, 0, 0, 0, 0, 0, 0, 0, 0, 0, 0, 0, 0, 0, 0], [0, 0, 0, 0, 0, 0, 0, 0, 0, 0, 0, 2030.25922271690, 0, 0, 0, 0, 0, 0, 0, 0, 0, 0, 0, 0, 0, 0, 0, 0], [0, 0, 0, 0, 0, 0, 0, 0, 0, 0, 0, 0, 1928.72519656880, 0, 0, 0, 0, 0, 0, 0, 0, 0, 0, 0, 0, 0, 0, 0], [0, 0, 0, 0, 0, 0, 0, 0, 0, 0, 0, 0, 0, 1898.58280944260, 0, 0, 0, 0, 0, 0, 0, 0, 0, 0, 0, 0, 0, 0], [0, 0, 0, 0, 0, 0, 0, 0, 0, 0, 0, 0, 0, 0, 1697.95626504455, 0, 0, 0, 0, 0, 0, 0, 0, 0, 0, 0, 0, 0], [0, 0, 0, 0, 0, 0, 0, 0, 0, 0, 0, 0, 0, 0, 0, 1671.04675324282, 0, 0, 0, 0, 0, 0, 0, 0, 0, 0, 0, 0], [0, 0, 0, 0, 0, 0, 0, 0, 0, 0, 0, 0, 0, 0, 0, 0, 1372.34878453739, 0, 0, 0, 0, 0, 0, 0, 0, 0, 0, 0], [0, 0, 0, 0, 0, 0, 0, 0, 0, 0, 0, 0, 0, 0, 0, 0, 0, 1347.46503003489, 0, 0, 0, 0, 0, 0, 0, 0, 0, 0], [0, 0, 0, 0, 0, 0, 0, 0, 0, 0, 0, 0, 0, 0, 0, 0, 0, 0, 2060.14468512366, 0, 0, 0, 0, 0, 0, 0, 0, 0], [0, 0, 0, 0, 0, 0, 0, 0, 0, 0, 0, 0, 0, 0, 0, 0, 0, 0, 0, 2072.98089038009, 0, 0, 0, 0, 0, 0, 0, 0], [0, 0, 0, 0, 0, 0, 0, 0, 0, 0, 0, 0, 0, 0, 0, 0, 0, 0, 0, 0, 1976.39323272886, 0, 0, 0, 0, 0, 0, 0], [0, 0, 0, 0, 0, 0, 0, 0, 0, 0, 0, 0, 0, 0, 0, 0, 0, 0, 0, 0, 0, 2009.55548843017, 0, 0, 0, 0, 0, 0], [0, 0, 0, 0, 0, 0, 0, 0, 0, 0, 0, 0, 0, 0, 0, 0, 0, 0, 0, 0, 0, 0, 1796.80750399402, 0, 0, 0, 0, 0], [0, 0, 0, 0, 0, 0, 0, 0, 0, 0, 0, 0, 0, 0, 0, 0, 0, 0, 0, 0, 0, 0, 0, 1825.15106664411, 0, 0, 0, 0], [0, 0, 0, 0, 0, 0, 0, 0, 0, 0, 0, 0, 0, 0, 0, 0, 0, 0, 0, 0, 0, 0, 0, 0, 1521.27542045916, 0, 0, 0], [0, 0, 0, 0, 0, 0, 0, 0, 0, 0, 0, 0, 0, 0, 0, 0, 0, 0, 0, 0, 0, 0, 0, 0, 0, 1547.01039247952, 0, 0], [0, 0, 0, 0, 0, 0, 0, 0, 0, 0, 0, 0, 0, 0, 0, 0, 0, 0, 0, 0, 0, 0, 0, 0, 0, 0, 1149.58787692608, 0], [0, 0, 0, 0, 0, 0, 0, 0, 0, 0, 0, 0, 0, 0, 0, 0, 0, 0, 0, 0, 0, 0, 0, 0, 0, 0, 0, 1174.06069145466]])\n"
     ]
    },
    {
     "name": "stdout",
     "output_type": "stream",
     "text": [
      "Matrix([[-1.40165656858926e-15, 0, 0, 0, 0, 0, 0, 0, 0, 0, 0, 0, 0, 0, 0, 0, 0, 0, 0, 0, 0, 0, 0, 0, 0, 0, 0, 0], [0, -0.0306872435488841, 0, 0, 0, 0, 0, 0, 0, 0, 0, 0, 0, 0, 0, 0, 0, 0, 0, 0, 0, 0, 0, 0, 0, 0, 0, 0], [0, 0, 0.0583477716976177, 0, 0, 0, 0, 0, 0, 0, 0, 0, 0, 0, 0, 0, 0, 0, 0, 0, 0, 0, 0, 0, 0, 0, 0, 0], [0, 0, 0, 0.286919154487818, 0, 0, 0, 0, 0, 0, 0, 0, 0, 0, 0, 0, 0, 0, 0, 0, 0, 0, 0, 0, 0, 0, 0, 0], [0, 0, 0, 0, 0.579220038780376, 0, 0, 0, 0, 0, 0, 0, 0, 0, 0, 0, 0, 0, 0, 0, 0, 0, 0, 0, 0, 0, 0, 0], [0, 0, 0, 0, 0, 0.945103293580337, 0, 0, 0, 0, 0, 0, 0, 0, 0, 0, 0, 0, 0, 0, 0, 0, 0, 0, 0, 0, 0, 0], [0, 0, 0, 0, 0, 0, 1.38598915217619, 0, 0, 0, 0, 0, 0, 0, 0, 0, 0, 0, 0, 0, 0, 0, 0, 0, 0, 0, 0, 0], [0, 0, 0, 0, 0, 0, 0, 1.90205976661231, 0, 0, 0, 0, 0, 0, 0, 0, 0, 0, 0, 0, 0, 0, 0, 0, 0, 0, 0, 0], [0, 0, 0, 0, 0, 0, 0, 0, 2.49314869484581, 0, 0, 0, 0, 0, 0, 0, 0, 0, 0, 0, 0, 0, 0, 0, 0, 0, 0, 0], [0, 0, 0, 0, 0, 0, 0, 0, 0, 3.15896002359774, 0, 0, 0, 0, 0, 0, 0, 0, 0, 0, 0, 0, 0, 0, 0, 0, 0, 0], [0, 0, 0, 0, 0, 0, 0, 0, 0, 0, 0.100468987009538, 0, 0, 0, 0, 0, 0, 0, 0, 0, 0, 0, 0, 0, 0, 0, 0, 0], [0, 0, 0, 0, 0, 0, 0, 0, 0, 0, 0, 0.311659800061678, 0, 0, 0, 0, 0, 0, 0, 0, 0, 0, 0, 0, 0, 0, 0, 0], [0, 0, 0, 0, 0, 0, 0, 0, 0, 0, 0, 0, 0.605124447102125, 0, 0, 0, 0, 0, 0, 0, 0, 0, 0, 0, 0, 0, 0, 0], [0, 0, 0, 0, 0, 0, 0, 0, 0, 0, 0, 0, 0, 0.729406148621464, 0, 0, 0, 0, 0, 0, 0, 0, 0, 0, 0, 0, 0, 0], [0, 0, 0, 0, 0, 0, 0, 0, 0, 0, 0, 0, 0, 0, 1.34040757634753, 0, 0, 0, 0, 0, 0, 0, 0, 0, 0, 0, 0, 0], [0, 0, 0, 0, 0, 0, 0, 0, 0, 0, 0, 0, 0, 0, 0, 1.45135963531257, 0, 0, 0, 0, 0, 0, 0, 0, 0, 0, 0, 0], [0, 0, 0, 0, 0, 0, 0, 0, 0, 0, 0, 0, 0, 0, 0, 0, 2.37568771623621, 0, 0, 0, 0, 0, 0, 0, 0, 0, 0, 0], [0, 0, 0, 0, 0, 0, 0, 0, 0, 0, 0, 0, 0, 0, 0, 0, 0, 2.47828726605989, 0, 0, 0, 0, 0, 0, 0, 0, 0, 0], [0, 0, 0, 0, 0, 0, 0, 0, 0, 0, 0, 0, 0, 0, 0, 0, 0, 0, 0.216886477452562, 0, 0, 0, 0, 0, 0, 0, 0, 0], [0, 0, 0, 0, 0, 0, 0, 0, 0, 0, 0, 0, 0, 0, 0, 0, 0, 0, 0, 0.163960827481940, 0, 0, 0, 0, 0, 0, 0, 0], [0, 0, 0, 0, 0, 0, 0, 0, 0, 0, 0, 0, 0, 0, 0, 0, 0, 0, 0, 0, 0.482549297879534, 0, 0, 0, 0, 0, 0, 0], [0, 0, 0, 0, 0, 0, 0, 0, 0, 0, 0, 0, 0, 0, 0, 0, 0, 0, 0, 0, 0, 0.345816213418687, 0, 0, 0, 0, 0, 0], [0, 0, 0, 0, 0, 0, 0, 0, 0, 0, 0, 0, 0, 0, 0, 0, 0, 0, 0, 0, 0, 0, 1.05231466610170, 0, 0, 0, 0, 0], [0, 0, 0, 0, 0, 0, 0, 0, 0, 0, 0, 0, 0, 0, 0, 0, 0, 0, 0, 0, 0, 0, 0, 0.935449794765368, 0, 0, 0, 0], [0, 0, 0, 0, 0, 0, 0, 0, 0, 0, 0, 0, 0, 0, 0, 0, 0, 0, 0, 0, 0, 0, 0, 0, 1.92664469886021, 0, 0, 0], [0, 0, 0, 0, 0, 0, 0, 0, 0, 0, 0, 0, 0, 0, 0, 0, 0, 0, 0, 0, 0, 0, 0, 0, 0, 1.82053544819433, 0, 0], [0, 0, 0, 0, 0, 0, 0, 0, 0, 0, 0, 0, 0, 0, 0, 0, 0, 0, 0, 0, 0, 0, 0, 0, 0, 0, 3.10640156907196, 0], [0, 0, 0, 0, 0, 0, 0, 0, 0, 0, 0, 0, 0, 0, 0, 0, 0, 0, 0, 0, 0, 0, 0, 0, 0, 0, 0, 3.00549638801100]])\n",
      "Matrix([[-1.40165656858926e-15, 0, 0, 0, 0, 0, 0, 0, 0, 0, 0, 0, 0, 0, 0, 0, 0, 0, 0, 0, 0, 0, 0, 0, 0, 0, 0, 0], [0, -0.0306872444004483, 0, 0, 0, 0, 0, 0, 0, 0, 0, 0, 0, 0, 0, 0, 0, 0, 0, 0, 0, 0, 0, 0, 0, 0, 0, 0], [0, 0, 0.0583477688590776, 0, 0, 0, 0, 0, 0, 0, 0, 0, 0, 0, 0, 0, 0, 0, 0, 0, 0, 0, 0, 0, 0, 0, 0, 0], [0, 0, 0, 0.286919148526883, 0, 0, 0, 0, 0, 0, 0, 0, 0, 0, 0, 0, 0, 0, 0, 0, 0, 0, 0, 0, 0, 0, 0, 0], [0, 0, 0, 0, 0.579220028561635, 0, 0, 0, 0, 0, 0, 0, 0, 0, 0, 0, 0, 0, 0, 0, 0, 0, 0, 0, 0, 0, 0, 0], [0, 0, 0, 0, 0, 0.945103277968363, 0, 0, 0, 0, 0, 0, 0, 0, 0, 0, 0, 0, 0, 0, 0, 0, 0, 0, 0, 0, 0, 0], [0, 0, 0, 0, 0, 0, 1.38598913003558, 0, 0, 0, 0, 0, 0, 0, 0, 0, 0, 0, 0, 0, 0, 0, 0, 0, 0, 0, 0, 0], [0, 0, 0, 0, 0, 0, 0, 1.90205973680765, 0, 0, 0, 0, 0, 0, 0, 0, 0, 0, 0, 0, 0, 0, 0, 0, 0, 0, 0, 0], [0, 0, 0, 0, 0, 0, 0, 0, 2.49314865624168, 0, 0, 0, 0, 0, 0, 0, 0, 0, 0, 0, 0, 0, 0, 0, 0, 0, 0, 0], [0, 0, 0, 0, 0, 0, 0, 0, 0, 3.15895997505871, 0, 0, 0, 0, 0, 0, 0, 0, 0, 0, 0, 0, 0, 0, 0, 0, 0, 0], [0, 0, 0, 0, 0, 0, 0, 0, 0, 0, 0.100469082952169, 0, 0, 0, 0, 0, 0, 0, 0, 0, 0, 0, 0, 0, 0, 0, 0, 0], [0, 0, 0, 0, 0, 0, 0, 0, 0, 0, 0, 0.311659896004309, 0, 0, 0, 0, 0, 0, 0, 0, 0, 0, 0, 0, 0, 0, 0, 0], [0, 0, 0, 0, 0, 0, 0, 0, 0, 0, 0, 0, 0.605124536799974, 0, 0, 0, 0, 0, 0, 0, 0, 0, 0, 0, 0, 0, 0, 0], [0, 0, 0, 0, 0, 0, 0, 0, 0, 0, 0, 0, 0, 0.729406238319313, 0, 0, 0, 0, 0, 0, 0, 0, 0, 0, 0, 0, 0, 0], [0, 0, 0, 0, 0, 0, 0, 0, 0, 0, 0, 0, 0, 0, 1.34040765525892, 0, 0, 0, 0, 0, 0, 0, 0, 0, 0, 0, 0, 0], [0, 0, 0, 0, 0, 0, 0, 0, 0, 0, 0, 0, 0, 0, 0, 1.45135971422396, 0, 0, 0, 0, 0, 0, 0, 0, 0, 0, 0, 0], [0, 0, 0, 0, 0, 0, 0, 0, 0, 0, 0, 0, 0, 0, 0, 0, 2.37568777981949, 0, 0, 0, 0, 0, 0, 0, 0, 0, 0, 0], [0, 0, 0, 0, 0, 0, 0, 0, 0, 0, 0, 0, 0, 0, 0, 0, 0, 2.47828732964317, 0, 0, 0, 0, 0, 0, 0, 0, 0, 0], [0, 0, 0, 0, 0, 0, 0, 0, 0, 0, 0, 0, 0, 0, 0, 0, 0, 0, 0.216886574814467, 0, 0, 0, 0, 0, 0, 0, 0, 0], [0, 0, 0, 0, 0, 0, 0, 0, 0, 0, 0, 0, 0, 0, 0, 0, 0, 0, 0, 0.163960924843846, 0, 0, 0, 0, 0, 0, 0, 0], [0, 0, 0, 0, 0, 0, 0, 0, 0, 0, 0, 0, 0, 0, 0, 0, 0, 0, 0, 0, 0.482549391267480, 0, 0, 0, 0, 0, 0, 0], [0, 0, 0, 0, 0, 0, 0, 0, 0, 0, 0, 0, 0, 0, 0, 0, 0, 0, 0, 0, 0, 0.345816306806633, 0, 0, 0, 0, 0, 0], [0, 0, 0, 0, 0, 0, 0, 0, 0, 0, 0, 0, 0, 0, 0, 0, 0, 0, 0, 0, 0, 0, 1.05231475097402, 0, 0, 0, 0, 0], [0, 0, 0, 0, 0, 0, 0, 0, 0, 0, 0, 0, 0, 0, 0, 0, 0, 0, 0, 0, 0, 0, 0, 0.935449879637694, 0, 0, 0, 0], [0, 0, 0, 0, 0, 0, 0, 0, 0, 0, 0, 0, 0, 0, 0, 0, 0, 0, 0, 0, 0, 0, 0, 0, 1.92664477067525, 0, 0, 0], [0, 0, 0, 0, 0, 0, 0, 0, 0, 0, 0, 0, 0, 0, 0, 0, 0, 0, 0, 0, 0, 0, 0, 0, 0, 1.82053552000937, 0, 0], [0, 0, 0, 0, 0, 0, 0, 0, 0, 0, 0, 0, 0, 0, 0, 0, 0, 0, 0, 0, 0, 0, 0, 0, 0, 0, 3.10640162328806, 0], [0, 0, 0, 0, 0, 0, 0, 0, 0, 0, 0, 0, 0, 0, 0, 0, 0, 0, 0, 0, 0, 0, 0, 0, 0, 0, 0, 3.00549644222710]])\n",
      "Matrix([[-3.36189409644305e-15, 0, 0, 0, 0, 0, 0, 0, 0, 0, 0, 0, 0, 0, 0, 0, 0, 0, 0, 0, 0, 0, 0, 0, 0, 0, 0, 0], [0, -0.0306872422400451, 0, 0, 0, 0, 0, 0, 0, 0, 0, 0, 0, 0, 0, 0, 0, 0, 0, 0, 0, 0, 0, 0, 0, 0, 0, 0], [0, 0, 0.0583477736667073, 0, 0, 0, 0, 0, 0, 0, 0, 0, 0, 0, 0, 0, 0, 0, 0, 0, 0, 0, 0, 0, 0, 0, 0, 0], [0, 0, 0, 0.286919156173323, 0, 0, 0, 0, 0, 0, 0, 0, 0, 0, 0, 0, 0, 0, 0, 0, 0, 0, 0, 0, 0, 0, 0, 0], [0, 0, 0, 0, 0.579220040368068, 0, 0, 0, 0, 0, 0, 0, 0, 0, 0, 0, 0, 0, 0, 0, 0, 0, 0, 0, 0, 0, 0, 0], [0, 0, 0, 0, 0, 0.945103295109167, 0, 0, 0, 0, 0, 0, 0, 0, 0, 0, 0, 0, 0, 0, 0, 0, 0, 0, 0, 0, 0, 0], [0, 0, 0, 0, 0, 0, 1.38598915366395, 0, 0, 0, 0, 0, 0, 0, 0, 0, 0, 0, 0, 0, 0, 0, 0, 0, 0, 0, 0, 0], [0, 0, 0, 0, 0, 0, 0, 1.90205976807407, 0, 0, 0, 0, 0, 0, 0, 0, 0, 0, 0, 0, 0, 0, 0, 0, 0, 0, 0, 0], [0, 0, 0, 0, 0, 0, 0, 0, 2.49314869629914, 0, 0, 0, 0, 0, 0, 0, 0, 0, 0, 0, 0, 0, 0, 0, 0, 0, 0, 0], [0, 0, 0, 0, 0, 0, 0, 0, 0, 3.15896002506459, 0, 0, 0, 0, 0, 0, 0, 0, 0, 0, 0, 0, 0, 0, 0, 0, 0, 0], [0, 0, 0, 0, 0, 0, 0, 0, 0, 0, 0.100468989881732, 0, 0, 0, 0, 0, 0, 0, 0, 0, 0, 0, 0, 0, 0, 0, 0, 0], [0, 0, 0, 0, 0, 0, 0, 0, 0, 0, 0, 0.311659799786882, 0, 0, 0, 0, 0, 0, 0, 0, 0, 0, 0, 0, 0, 0, 0, 0], [0, 0, 0, 0, 0, 0, 0, 0, 0, 0, 0, 0, 0.605124448699150, 0, 0, 0, 0, 0, 0, 0, 0, 0, 0, 0, 0, 0, 0, 0], [0, 0, 0, 0, 0, 0, 0, 0, 0, 0, 0, 0, 0, 0.729406148366551, 0, 0, 0, 0, 0, 0, 0, 0, 0, 0, 0, 0, 0, 0], [0, 0, 0, 0, 0, 0, 0, 0, 0, 0, 0, 0, 0, 0, 1.34040757777443, 0, 0, 0, 0, 0, 0, 0, 0, 0, 0, 0, 0, 0], [0, 0, 0, 0, 0, 0, 0, 0, 0, 0, 0, 0, 0, 0, 0, 1.45135963508616, 0, 0, 0, 0, 0, 0, 0, 0, 0, 0, 0, 0], [0, 0, 0, 0, 0, 0, 0, 0, 0, 0, 0, 0, 0, 0, 0, 0, 2.37568771756435, 0, 0, 0, 0, 0, 0, 0, 0, 0, 0, 0], [0, 0, 0, 0, 0, 0, 0, 0, 0, 0, 0, 0, 0, 0, 0, 0, 0, 2.47828726585918, 0, 0, 0, 0, 0, 0, 0, 0, 0, 0], [0, 0, 0, 0, 0, 0, 0, 0, 0, 0, 0, 0, 0, 0, 0, 0, 0, 0, 0.216886477170730, 0, 0, 0, 0, 0, 0, 0, 0, 0], [0, 0, 0, 0, 0, 0, 0, 0, 0, 0, 0, 0, 0, 0, 0, 0, 0, 0, 0, 0.163960827988755, 0, 0, 0, 0, 0, 0, 0, 0], [0, 0, 0, 0, 0, 0, 0, 0, 0, 0, 0, 0, 0, 0, 0, 0, 0, 0, 0, 0, 0.482549297612972, 0, 0, 0, 0, 0, 0, 0], [0, 0, 0, 0, 0, 0, 0, 0, 0, 0, 0, 0, 0, 0, 0, 0, 0, 0, 0, 0, 0, 0.345816215189606, 0, 0, 0, 0, 0, 0], [0, 0, 0, 0, 0, 0, 0, 0, 0, 0, 0, 0, 0, 0, 0, 0, 0, 0, 0, 0, 0, 0, 1.05231466586059, 0, 0, 0, 0, 0], [0, 0, 0, 0, 0, 0, 0, 0, 0, 0, 0, 0, 0, 0, 0, 0, 0, 0, 0, 0, 0, 0, 0, 0.935449796265686, 0, 0, 0, 0], [0, 0, 0, 0, 0, 0, 0, 0, 0, 0, 0, 0, 0, 0, 0, 0, 0, 0, 0, 0, 0, 0, 0, 0, 1.92664469864784, 0, 0, 0], [0, 0, 0, 0, 0, 0, 0, 0, 0, 0, 0, 0, 0, 0, 0, 0, 0, 0, 0, 0, 0, 0, 0, 0, 0, 1.82053544956312, 0, 0], [0, 0, 0, 0, 0, 0, 0, 0, 0, 0, 0, 0, 0, 0, 0, 0, 0, 0, 0, 0, 0, 0, 0, 0, 0, 0, 3.10640156887880, 0], [0, 0, 0, 0, 0, 0, 0, 0, 0, 0, 0, 0, 0, 0, 0, 0, 0, 0, 0, 0, 0, 0, 0, 0, 0, 0, 0, 3.00549638932144]])\n"
     ]
    },
    {
     "name": "stdout",
     "output_type": "stream",
     "text": [
      "Matrix([[2.41820452551167e-15, 0, 0, 0, 0, 0, 0, 0, 0, 0, 0, 0, 0, 0, 0, 0, 0, 0, 0, 0, 0, 0, 0, 0, 0, 0, 0, 0], [0, -0.0306941243167931, 0, 0, 0, 0, 0, 0, 0, 0, 0, 0, 0, 0, 0, 0, 0, 0, 0, 0, 0, 0, 0, 0, 0, 0, 0, 0], [0, 0, 0.0583371689390641, 0, 0, 0, 0, 0, 0, 0, 0, 0, 0, 0, 0, 0, 0, 0, 0, 0, 0, 0, 0, 0, 0, 0, 0, 0], [0, 0, 0, 0.286909509757353, 0, 0, 0, 0, 0, 0, 0, 0, 0, 0, 0, 0, 0, 0, 0, 0, 0, 0, 0, 0, 0, 0, 0, 0], [0, 0, 0, 0, 0.579210211973961, 0, 0, 0, 0, 0, 0, 0, 0, 0, 0, 0, 0, 0, 0, 0, 0, 0, 0, 0, 0, 0, 0, 0], [0, 0, 0, 0, 0, 0.945092901054503, 0, 0, 0, 0, 0, 0, 0, 0, 0, 0, 0, 0, 0, 0, 0, 0, 0, 0, 0, 0, 0, 0], [0, 0, 0, 0, 0, 0, 1.38597791932688, 0, 0, 0, 0, 0, 0, 0, 0, 0, 0, 0, 0, 0, 0, 0, 0, 0, 0, 0, 0, 0], [0, 0, 0, 0, 0, 0, 0, 1.90204743282027, 0, 0, 0, 0, 0, 0, 0, 0, 0, 0, 0, 0, 0, 0, 0, 0, 0, 0, 0, 0], [0, 0, 0, 0, 0, 0, 0, 0, 2.49313498671310, 0, 0, 0, 0, 0, 0, 0, 0, 0, 0, 0, 0, 0, 0, 0, 0, 0, 0, 0], [0, 0, 0, 0, 0, 0, 0, 0, 0, 3.15894464500748, 0, 0, 0, 0, 0, 0, 0, 0, 0, 0, 0, 0, 0, 0, 0, 0, 0, 0], [0, 0, 0, 0, 0, 0, 0, 0, 0, 0, 0.100469647361060, 0, 0, 0, 0, 0, 0, 0, 0, 0, 0, 0, 0, 0, 0, 0, 0, 0], [0, 0, 0, 0, 0, 0, 0, 0, 0, 0, 0, 0.311676674728883, 0, 0, 0, 0, 0, 0, 0, 0, 0, 0, 0, 0, 0, 0, 0, 0], [0, 0, 0, 0, 0, 0, 0, 0, 0, 0, 0, 0, 0.605130671328670, 0, 0, 0, 0, 0, 0, 0, 0, 0, 0, 0, 0, 0, 0, 0], [0, 0, 0, 0, 0, 0, 0, 0, 0, 0, 0, 0, 0, 0.729421914658624, 0, 0, 0, 0, 0, 0, 0, 0, 0, 0, 0, 0, 0, 0], [0, 0, 0, 0, 0, 0, 0, 0, 0, 0, 0, 0, 0, 0, 1.34041293912608, 0, 0, 0, 0, 0, 0, 0, 0, 0, 0, 0, 0, 0], [0, 0, 0, 0, 0, 0, 0, 0, 0, 0, 0, 0, 0, 0, 0, 1.45137351650953, 0, 0, 0, 0, 0, 0, 0, 0, 0, 0, 0, 0], [0, 0, 0, 0, 0, 0, 0, 0, 0, 0, 0, 0, 0, 0, 0, 0, 2.37569111812129, 0, 0, 0, 0, 0, 0, 0, 0, 0, 0, 0], [0, 0, 0, 0, 0, 0, 0, 0, 0, 0, 0, 0, 0, 0, 0, 0, 0, 2.47829854509391, 0, 0, 0, 0, 0, 0, 0, 0, 0, 0], [0, 0, 0, 0, 0, 0, 0, 0, 0, 0, 0, 0, 0, 0, 0, 0, 0, 0, 0.216903617058486, 0, 0, 0, 0, 0, 0, 0, 0, 0], [0, 0, 0, 0, 0, 0, 0, 0, 0, 0, 0, 0, 0, 0, 0, 0, 0, 0, 0, 0.163973903685747, 0, 0, 0, 0, 0, 0, 0, 0], [0, 0, 0, 0, 0, 0, 0, 0, 0, 0, 0, 0, 0, 0, 0, 0, 0, 0, 0, 0, 0.482565718499126, 0, 0, 0, 0, 0, 0, 0], [0, 0, 0, 0, 0, 0, 0, 0, 0, 0, 0, 0, 0, 0, 0, 0, 0, 0, 0, 0, 0, 0.345822136264427, 0, 0, 0, 0, 0, 0], [0, 0, 0, 0, 0, 0, 0, 0, 0, 0, 0, 0, 0, 0, 0, 0, 0, 0, 0, 0, 0, 0, 1.05232958349483, 0, 0, 0, 0, 0], [0, 0, 0, 0, 0, 0, 0, 0, 0, 0, 0, 0, 0, 0, 0, 0, 0, 0, 0, 0, 0, 0, 0, 0.935455739779977, 0, 0, 0, 0], [0, 0, 0, 0, 0, 0, 0, 0, 0, 0, 0, 0, 0, 0, 0, 0, 0, 0, 0, 0, 0, 0, 0, 0, 1.92665736426607, 0, 0, 0], [0, 0, 0, 0, 0, 0, 0, 0, 0, 0, 0, 0, 0, 0, 0, 0, 0, 0, 0, 0, 0, 0, 0, 0, 0, 1.82053996699162, 0, 0], [0, 0, 0, 0, 0, 0, 0, 0, 0, 0, 0, 0, 0, 0, 0, 0, 0, 0, 0, 0, 0, 0, 0, 0, 0, 0, 3.10641129992366, 0], [0, 0, 0, 0, 0, 0, 0, 0, 0, 0, 0, 0, 0, 0, 0, 0, 0, 0, 0, 0, 0, 0, 0, 0, 0, 0, 0, 3.00549837180004]])\n",
      "Parameters:\n",
      "χ = -0.0031748450018100087 \n",
      "τ = -0.004123470535417532\n",
      "\n",
      "Covariance: \n",
      " [[ 6.14559038e-09 -1.18738408e-07]\n",
      " [-1.18738408e-07  2.86030637e-05]]\n"
     ]
    }
   ],
   "source": [
    "# Estimation of parameters\n",
    "poptTh_O_O, pcovTh_O_O = curve_fit(Hamiltonian_O_O, x, EE_O_O)\n",
    "\n",
    "print(\"Parameters:\")\n",
    "print(\"χ =\",poptTh_O_O[0], \"\\nτ =\",poptTh_O_O[1])\n",
    "print(\"\\nCovariance: \\n\", pcovTh_O_O)"
   ]
  },
  {
   "cell_type": "code",
   "execution_count": 120,
   "id": "5e19df4d",
   "metadata": {},
   "outputs": [
    {
     "name": "stdout",
     "output_type": "stream",
     "text": [
      "Matrix([[2.41820452551167e-15, 0, 0, 0, 0, 0, 0, 0, 0, 0, 0, 0, 0, 0, 0, 0, 0, 0, 0, 0, 0, 0, 0, 0, 0, 0, 0, 0], [0, -0.0306941243167931, 0, 0, 0, 0, 0, 0, 0, 0, 0, 0, 0, 0, 0, 0, 0, 0, 0, 0, 0, 0, 0, 0, 0, 0, 0, 0], [0, 0, 0.0583371689390641, 0, 0, 0, 0, 0, 0, 0, 0, 0, 0, 0, 0, 0, 0, 0, 0, 0, 0, 0, 0, 0, 0, 0, 0, 0], [0, 0, 0, 0.286909509757353, 0, 0, 0, 0, 0, 0, 0, 0, 0, 0, 0, 0, 0, 0, 0, 0, 0, 0, 0, 0, 0, 0, 0, 0], [0, 0, 0, 0, 0.579210211973961, 0, 0, 0, 0, 0, 0, 0, 0, 0, 0, 0, 0, 0, 0, 0, 0, 0, 0, 0, 0, 0, 0, 0], [0, 0, 0, 0, 0, 0.945092901054503, 0, 0, 0, 0, 0, 0, 0, 0, 0, 0, 0, 0, 0, 0, 0, 0, 0, 0, 0, 0, 0, 0], [0, 0, 0, 0, 0, 0, 1.38597791932688, 0, 0, 0, 0, 0, 0, 0, 0, 0, 0, 0, 0, 0, 0, 0, 0, 0, 0, 0, 0, 0], [0, 0, 0, 0, 0, 0, 0, 1.90204743282027, 0, 0, 0, 0, 0, 0, 0, 0, 0, 0, 0, 0, 0, 0, 0, 0, 0, 0, 0, 0], [0, 0, 0, 0, 0, 0, 0, 0, 2.49313498671310, 0, 0, 0, 0, 0, 0, 0, 0, 0, 0, 0, 0, 0, 0, 0, 0, 0, 0, 0], [0, 0, 0, 0, 0, 0, 0, 0, 0, 3.15894464500748, 0, 0, 0, 0, 0, 0, 0, 0, 0, 0, 0, 0, 0, 0, 0, 0, 0, 0], [0, 0, 0, 0, 0, 0, 0, 0, 0, 0, 0.100469647361060, 0, 0, 0, 0, 0, 0, 0, 0, 0, 0, 0, 0, 0, 0, 0, 0, 0], [0, 0, 0, 0, 0, 0, 0, 0, 0, 0, 0, 0.311676674728883, 0, 0, 0, 0, 0, 0, 0, 0, 0, 0, 0, 0, 0, 0, 0, 0], [0, 0, 0, 0, 0, 0, 0, 0, 0, 0, 0, 0, 0.605130671328670, 0, 0, 0, 0, 0, 0, 0, 0, 0, 0, 0, 0, 0, 0, 0], [0, 0, 0, 0, 0, 0, 0, 0, 0, 0, 0, 0, 0, 0.729421914658624, 0, 0, 0, 0, 0, 0, 0, 0, 0, 0, 0, 0, 0, 0], [0, 0, 0, 0, 0, 0, 0, 0, 0, 0, 0, 0, 0, 0, 1.34041293912608, 0, 0, 0, 0, 0, 0, 0, 0, 0, 0, 0, 0, 0], [0, 0, 0, 0, 0, 0, 0, 0, 0, 0, 0, 0, 0, 0, 0, 1.45137351650953, 0, 0, 0, 0, 0, 0, 0, 0, 0, 0, 0, 0], [0, 0, 0, 0, 0, 0, 0, 0, 0, 0, 0, 0, 0, 0, 0, 0, 2.37569111812129, 0, 0, 0, 0, 0, 0, 0, 0, 0, 0, 0], [0, 0, 0, 0, 0, 0, 0, 0, 0, 0, 0, 0, 0, 0, 0, 0, 0, 2.47829854509391, 0, 0, 0, 0, 0, 0, 0, 0, 0, 0], [0, 0, 0, 0, 0, 0, 0, 0, 0, 0, 0, 0, 0, 0, 0, 0, 0, 0, 0.216903617058486, 0, 0, 0, 0, 0, 0, 0, 0, 0], [0, 0, 0, 0, 0, 0, 0, 0, 0, 0, 0, 0, 0, 0, 0, 0, 0, 0, 0, 0.163973903685747, 0, 0, 0, 0, 0, 0, 0, 0], [0, 0, 0, 0, 0, 0, 0, 0, 0, 0, 0, 0, 0, 0, 0, 0, 0, 0, 0, 0, 0.482565718499126, 0, 0, 0, 0, 0, 0, 0], [0, 0, 0, 0, 0, 0, 0, 0, 0, 0, 0, 0, 0, 0, 0, 0, 0, 0, 0, 0, 0, 0.345822136264427, 0, 0, 0, 0, 0, 0], [0, 0, 0, 0, 0, 0, 0, 0, 0, 0, 0, 0, 0, 0, 0, 0, 0, 0, 0, 0, 0, 0, 1.05232958349483, 0, 0, 0, 0, 0], [0, 0, 0, 0, 0, 0, 0, 0, 0, 0, 0, 0, 0, 0, 0, 0, 0, 0, 0, 0, 0, 0, 0, 0.935455739779977, 0, 0, 0, 0], [0, 0, 0, 0, 0, 0, 0, 0, 0, 0, 0, 0, 0, 0, 0, 0, 0, 0, 0, 0, 0, 0, 0, 0, 1.92665736426607, 0, 0, 0], [0, 0, 0, 0, 0, 0, 0, 0, 0, 0, 0, 0, 0, 0, 0, 0, 0, 0, 0, 0, 0, 0, 0, 0, 0, 1.82053996699162, 0, 0], [0, 0, 0, 0, 0, 0, 0, 0, 0, 0, 0, 0, 0, 0, 0, 0, 0, 0, 0, 0, 0, 0, 0, 0, 0, 0, 3.10641129992366, 0], [0, 0, 0, 0, 0, 0, 0, 0, 0, 0, 0, 0, 0, 0, 0, 0, 0, 0, 0, 0, 0, 0, 0, 0, 0, 0, 0, 3.00549837180004]])\n",
      "L    Eth        Eexp\n",
      "0    0.0    0.0\n",
      "2    -0.03069    0.0981\n",
      "4    0.05834    0.2841\n",
      "6    0.28691    0.5347\n",
      "8    0.57921    0.8339\n",
      "10    0.94509    1.1738\n",
      "12    1.38598    1.5498\n",
      "14    1.90205    1.9589\n",
      "16    2.49313    2.398\n",
      "18    3.15894    2.864\n",
      "1    0.10047    0.251\n",
      "3    0.31168    0.3053\n",
      "5    0.60513    0.4645\n",
      "7    0.72942    0.6995\n",
      "9    1.34041    0.9977\n",
      "11    1.45137    1.3473\n",
      "13    2.37569    1.7387\n",
      "15    2.4783    2.1647\n",
      "17    0.2169    2.6202\n",
      "1    0.16397    0.251\n",
      "3    0.48257    0.3053\n",
      "5    0.34582    0.4645\n",
      "7    1.05233    0.6995\n",
      "9    0.93546    0.9977\n",
      "11    1.92666    1.3473\n",
      "13    1.82054    1.7387\n",
      "15    3.10641    2.1647\n",
      "17    3.0055    2.6202\n",
      "\n",
      "MSE:  0.547164985502971\n",
      "R²:  0.5918717364133661\n"
     ]
    }
   ],
   "source": [
    "# Predictions of the model\n",
    "Epred_O_O = Hamiltonian_O_O(0, poptTh_O_O[0], poptTh_O_O[1])\n",
    "\n",
    "print(\"L    Eth        Eexp\")\n",
    "\n",
    "for i in range(len(EE_O_O)):\n",
    "    print(statesJ[i], \"  \", round(Epred_O_O[i], 5), \"  \", round(EE_O_O[i], 5))\n",
    "    \n",
    "\n",
    "\n",
    "mse = mean_squared_error(EE_O_O, Epred_O_O, squared=False)\n",
    "r2 = r2_score(EE_O_O, Epred_O_O)\n",
    "\n",
    "print(\"\\nMSE: \", mse)\n",
    "print(\"R²: \", r2)"
   ]
  },
  {
   "cell_type": "code",
   "execution_count": 15,
   "id": "2793a030",
   "metadata": {},
   "outputs": [],
   "source": [
    "# States in order g.s, ex. b\n",
    "statesJ = [0,2,4,6,8,10,12,14,16,18, 1,3,5,7,9,11,13,15,17]"
   ]
  },
  {
   "cell_type": "code",
   "execution_count": 17,
   "id": "81e7a73e",
   "metadata": {},
   "outputs": [],
   "source": [
    "# Calculation of matrix elements \n",
    "for i in range(len(m_h_w[0])):\n",
    "    m_h_w[i][i] = hwMatrix(statesJ[i])\n",
    "    m_Q_Q[i][i] = QQMatrix(statesJ[i])\n",
    "    m_g_s[i][i] = gsMatrix(statesJ[i])"
   ]
  },
  {
   "cell_type": "code",
   "execution_count": 18,
   "id": "2d7c0828",
   "metadata": {},
   "outputs": [],
   "source": [
    "# To print matrices in latex format\n",
    "Sympy_h_w = Matrix(m_h_w)\n",
    "Sympy_Q_Q = Matrix(m_Q_Q)\n",
    "Sympy_g_s = Matrix(m_g_s)\n",
    "Sympy_O_O_gs = Matrix(m_O_O_gs)\n",
    "Sympy_O_O_ep = Matrix(m_O_O_ep)\n",
    "Sympy_O_O_en = Matrix(m_O_O_en)\n",
    "Sympy_O_O_nd = Matrix(m_O_O_nd)"
   ]
  },
  {
   "cell_type": "code",
   "execution_count": 19,
   "id": "30c91b0b",
   "metadata": {},
   "outputs": [],
   "source": [
    "# Experimental energy values of K = 0+, L = 0,2,4,6,8,10,12,14,16,18 and K = 0-, L = 1,3,5,7,9,11,13,15,17\n",
    "EE_O_O = np.concatenate((Th224[Th224[\"L\"]%2==0][\"Energy\"].to_numpy(), \n",
    "                         Th224[Th224[\"L\"]%2!=0][\"Energy\"].to_numpy()))"
   ]
  },
  {
   "cell_type": "code",
   "execution_count": 20,
   "id": "32dc6cd0",
   "metadata": {},
   "outputs": [],
   "source": [
    "# Dummy input\n",
    "x = 0\n",
    "\n",
    "# Function to perform the fit of parameters of non-diagonal Hamiltonian\n",
    "def Hamiltonian_O_O_2(x, chi, tau, alpha):       \n",
    "    \n",
    "    # Parameter dependent Hamiltonian matrix\n",
    "    SympyH = Sympy_h_w + chi*Sympy_Q_Q + tau*Sympy_O_O_gs + tau*( alpha*Sympy_O_O_ep  +2*np.sqrt(alpha*(1-alpha))*Sympy_O_O_nd + (1-alpha)*Sympy_O_O_en ) - chi*Sympy_g_s - tau*4.594636832158156*Matrix(np.identity(len(statesJ)))\n",
    "    \n",
    "    #print(SympyH)\n",
    "    H = np.array(SympyH).astype(np.float64)\n",
    "\n",
    "    # Diagonal Hamiltonian and conversion to numpy array\n",
    "    #P, SympyHDiag = Matrix(H).diagonalize()\n",
    "    #HDiag = np.array(SympyHDiag).astype(np.float64)\n",
    "    \n",
    "    # Conversion to numpy array\n",
    "    #Pinv = np.array(P).astype(np.float64)    # P is actually P**-1\n",
    "                \n",
    "    # Expected energy values <ψ|H|ψ'>\n",
    "    EE = [H[i][i] for i in range(len(H))]\n",
    "    \n",
    "    #for i in range(len(H[0])):\n",
    "    #    suma = 0\n",
    "    #    for j in range(len(H[0])):\n",
    "    #        suma += Pinv[i][j]**2*HDiag[j][j]\n",
    "    #        \n",
    "    #    EE.append(suma)\n",
    "    return EE "
   ]
  },
  {
   "cell_type": "code",
   "execution_count": 27,
   "id": "c2c090d0",
   "metadata": {},
   "outputs": [
    {
     "name": "stderr",
     "output_type": "stream",
     "text": [
      "/tmp/ipykernel_10898/4095749764.py:8: RuntimeWarning: invalid value encountered in sqrt\n",
      "  SympyH = Sympy_h_w + chi*Sympy_Q_Q + tau*Sympy_O_O_gs + tau*( alpha*Sympy_O_O_ep  +2*np.sqrt(alpha*(1-alpha))*Sympy_O_O_nd + (1-alpha)*Sympy_O_O_en ) - chi*Sympy_g_s - tau*4.594636832158156*Matrix(np.identity(len(statesJ)))\n",
      "/tmp/ipykernel_10898/4095749764.py:11: RuntimeWarning: invalid value encountered in cast\n",
      "  H = np.array(SympyH).astype(np.float64)\n"
     ]
    },
    {
     "name": "stdout",
     "output_type": "stream",
     "text": [
      "Parameters:\n",
      "χ = -0.0031907034714638016 \n",
      "τ = -0.0015704000587553 \n",
      "α = 0.24008381929729058\n",
      "\n",
      "Covariance: \n",
      " [[ 7.41483819e-09  9.85247459e-08 -4.05051305e-04]\n",
      " [ 9.85247459e-08  7.20311140e-06 -9.11350109e-03]\n",
      " [-4.05051305e-04 -9.11350109e-03  2.77073250e+01]]\n"
     ]
    }
   ],
   "source": [
    "# Estimation of parameters\n",
    "poptTh_O_O, pcovTh_O_O = curve_fit(Hamiltonian_O_O_2, x, EE_O_O, p0=[-0.00320365, -0.001, 0.5])\n",
    "\n",
    "print(\"Parameters:\")\n",
    "print(\"χ =\",poptTh_O_O[0], \"\\nτ =\",poptTh_O_O[1], \"\\nα =\",poptTh_O_O[2])\n",
    "print(\"\\nCovariance: \\n\", pcovTh_O_O)"
   ]
  },
  {
   "cell_type": "code",
   "execution_count": 28,
   "id": "92611a46",
   "metadata": {},
   "outputs": [
    {
     "name": "stdout",
     "output_type": "stream",
     "text": [
      "L    Eth        Eexp\n",
      "0    0.0    0.0\n",
      "2    0.02398    0.0981\n",
      "4    0.14111    0.2841\n",
      "6    0.35895    0.5347\n",
      "8    0.64861    0.8339\n",
      "10    1.01386    1.1738\n",
      "12    1.45522    1.5498\n",
      "14    1.97278    1.9589\n",
      "16    2.56647    2.398\n",
      "18    3.23617    2.864\n",
      "1    0.1562    0.251\n",
      "3    0.19966    0.3053\n",
      "5    0.39565    0.4645\n",
      "7    0.64767    0.6995\n",
      "9    0.97444    0.9977\n",
      "11    1.37719    1.3473\n",
      "13    1.85617    1.7387\n",
      "15    2.41139    2.1647\n",
      "17    3.04278    2.6202\n"
     ]
    },
    {
     "data": {
      "image/png": "[encoded data removed]",
      "text/plain": [
       "<Figure size 720x720 with 1 Axes>"
      ]
     },
     "metadata": {
      "needs_background": "light"
     },
     "output_type": "display_data"
    },
    {
     "data": {
      "image/png": "[encoded data removed]",
      "text/plain": [
       "<Figure size 1080x360 with 1 Axes>"
      ]
     },
     "metadata": {
      "needs_background": "light"
     },
     "output_type": "display_data"
    },
    {
     "name": "stdout",
     "output_type": "stream",
     "text": [
      "\n",
      "MSE:  0.17396485199467593\n",
      "R²:  0.9610208300368855\n"
     ]
    }
   ],
   "source": [
    "# Predictions of the model\n",
    "Epred_O_O = Hamiltonian_O_O_2(0, poptTh_O_O[0], poptTh_O_O[1], poptTh_O_O[2])\n",
    "\n",
    "print(\"L    Eth        Eexp\")\n",
    "\n",
    "for i in range(len(EE_O_O)):\n",
    "    print(statesJ[i], \"  \", round(Epred_O_O[i], 5), \"  \", round(EE_O_O[i], 5))\n",
    "    \n",
    "\n",
    "# Plot\n",
    "fig = plt.figure(figsize=(10,10))\n",
    "\n",
    "p = 0\n",
    "\n",
    "for i in range(len(Epred_O_O)): \n",
    "    \n",
    "    p1 = 0.8\n",
    "\n",
    "    if statesJ[i]%2==0:\n",
    "        \n",
    "        plt.hlines(Th224[Th224[\"L\"] == statesJ[i]][\"Energy\"], p, p+0.7, colors = \"C0\")\n",
    "        plt.text(p-0.4, Th224[Th224[\"L\"] == statesJ[i]][\"Energy\"], str(statesJ[i])+\"+\", fontsize = 15)\n",
    "\n",
    "        plt.hlines(Epred_O_O[i], p+3, p+3+0.7, colors = \"C1\")\n",
    "        plt.text(p-0.2+2.8, Epred_O_O[i], str(statesJ[i])+\"+\", fontsize = 15)\n",
    "\n",
    "    else:\n",
    "        plt.hlines(Th224[Th224[\"L\"] == statesJ[i]][\"Energy\"], p1, p1+0.7, colors = \"C0\")\n",
    "        plt.text(p1+0.7+0.2, Th224[Th224[\"L\"] == statesJ[i]][\"Energy\"], str(statesJ[i])+\"-\", fontsize = 15)\n",
    "        \n",
    "        plt.hlines(Epred_O_O[i], p1+3, p1+3+0.7, colors = \"C1\")\n",
    "        plt.text(p1+0.7+0.2+3, Epred_O_O[i], str(statesJ[i])+\"-\", fontsize = 15)\n",
    "\n",
    "    xs = [[p+0.7, p1],[p+0.7, p1],[p+0.7, p1], [p+0.7, p1], [p1, p+0.7], [p+0.7, p1], [p1, p+0.7], [p+0.7, p1],\n",
    "      [p1, p+0.7], [p+0.7, p1], [p1, p+0.7], [p+0.7, p1], [p1, p+0.7], [p+0.7, p1], [p1, p+0.7], [p+0.7, p1],\n",
    "     [p1, p+0.7]]\n",
    "\n",
    "plt.yticks(fontsize=15)\n",
    "plt.xlim(left=-0.8, right=5.2)\n",
    "plt.tick_params(axis='x', which='both', bottom=False, top=False, labelbottom=False)\n",
    "plt.ylabel('$E$ [keV]', size=20)\n",
    "\n",
    "\n",
    "# Plot of energy levels\n",
    "fig = plt.figure(figsize=(15,5))\n",
    "plt.plot(statesJ, EE_O_O, '*', label='Exp')\n",
    "plt.plot(statesJ, Epred_O_O,'*', label='O.O')\n",
    "plt.xticks(np.arange(0,19,1))\n",
    "plt.xlabel('L')\n",
    "plt.ylabel('E')\n",
    "plt.legend()\n",
    "plt.show()    \n",
    "\n",
    "mse = mean_squared_error(EE_O_O, Epred_O_O, squared=False)\n",
    "r2 = r2_score(EE_O_O, Epred_O_O)\n",
    "\n",
    "print(\"\\nMSE: \", mse)\n",
    "print(\"R²: \", r2)"
   ]
  },
  {
   "cell_type": "code",
   "execution_count": null,
   "id": "98785f7b",
   "metadata": {},
   "outputs": [],
   "source": []
  }
 ],
 "metadata": {
  "kernelspec": {
   "display_name": "Python 3 (ipykernel)",
   "language": "python",
   "name": "python3"
  },
  "language_info": {
   "codemirror_mode": {
    "name": "ipython",
    "version": 3
   },
   "file_extension": ".py",
   "mimetype": "text/x-python",
   "name": "python",
   "nbconvert_exporter": "python",
   "pygments_lexer": "ipython3",
   "version": "3.9.12"
  }
 },
 "nbformat": 4,
 "nbformat_minor": 5
}
