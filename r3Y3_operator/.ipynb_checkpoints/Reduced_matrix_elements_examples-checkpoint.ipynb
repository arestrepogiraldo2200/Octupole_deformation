{
 "cells": [
  {
   "cell_type": "code",
   "execution_count": 6,
   "id": "b908145e",
   "metadata": {},
   "outputs": [],
   "source": [
    "%run Matrix_Elements_Implementations.ipynb"
   ]
  },
  {
   "cell_type": "markdown",
   "id": "6d25355a",
   "metadata": {},
   "source": [
    "# Examples"
   ]
  },
  {
   "cell_type": "code",
   "execution_count": 7,
   "id": "87283d3e",
   "metadata": {
    "scrolled": false
   },
   "outputs": [
    {
     "data": {
      "text/plain": [
       "-0.1017955838328152"
      ]
     },
     "execution_count": 7,
     "metadata": {},
     "output_type": "execute_result"
    }
   ],
   "source": [
    "db_matrix_element(\"p\", [[2,2,2,2],26,4,[0],0,0,0,26,4,[2,2,2,2],34,4,[0],0,0,0,34,4,0,60,8,1,4,0,0,0,0,0,0,0,4], [[2,2,2,1],25,2,[1],6,0,0,31,2,[2,2,2,2],34,4,[0],0,0,0,34,4,0,65,6,1,3,1/2,1/2,0,0,0,0,0,3], [5,6,0,0,3,4,0,0,0,3,4,1,1,0,0,0,1])"
   ]
  },
  {
   "cell_type": "code",
   "execution_count": 8,
   "id": "8c05cd7a",
   "metadata": {},
   "outputs": [
    {
     "data": {
      "text/plain": [
       "-0.08977526609317181"
      ]
     },
     "execution_count": 8,
     "metadata": {},
     "output_type": "execute_result"
    }
   ],
   "source": [
    "db_matrix_element(\"n\", [[2,2,2,2],26,4,[0],0,0,0,26,4,[2,2,2,2],34,4,[0],0,0,0,34,4,0,60,8,1,4,0,0,0,0,0,0,0,4], [[2,2,2,2],26,4,[0],0,0,0,26,4,[2,2,2,1],32,2,[1],7,0,0,39,2,0,65,6,1,3,0,0,1/2,1/2,0,0,0,3], [0,0,6,7,0,0,3,4,0,3,4,1,1,0,0,0,1])"
   ]
  },
  {
   "cell_type": "code",
   "execution_count": 58,
   "id": "c524f05f",
   "metadata": {},
   "outputs": [
    {
     "data": {
      "text/plain": [
       "-0.82886246529111"
      ]
     },
     "execution_count": 58,
     "metadata": {},
     "output_type": "execute_result"
    }
   ],
   "source": [
    "ts_ob_matrix_element([[2,2,2,2],26,4,[0],0,0,0,26,4,0,0,0], [[2,2,2,1],25,2,[1],6,0,0,31,2,1/2,1/2,0], [5,6,3,4,0], 0)"
   ]
  },
  {
   "cell_type": "code",
   "execution_count": 59,
   "id": "7594fa24",
   "metadata": {},
   "outputs": [
    {
     "data": {
      "text/plain": [
       "-0.6928789768388224"
      ]
     },
     "execution_count": 59,
     "metadata": {},
     "output_type": "execute_result"
    }
   ],
   "source": [
    "ts_ob_matrix_element([[2,2,2,2],34,4,[0],0,0,0,34,4,0,0,0], [[2,2,2,1],32,2,[1],7,0,0,39,2,1/2,1/2,0], [6,7,3,4,0], 0)"
   ]
  },
  {
   "cell_type": "markdown",
   "id": "02ea2407",
   "metadata": {},
   "source": [
    "# Example of B(E1) $3^-\\rightarrow2^+$  transition as in Restrepo, et. al, (2024), ArrXiv 2405.04679"
   ]
  },
  {
   "cell_type": "code",
   "execution_count": 43,
   "id": "0572e2e0",
   "metadata": {},
   "outputs": [
    {
     "name": "stdout",
     "output_type": "stream",
     "text": [
      "5 6\n",
      " ***** XEWU3 DIMENSION OVERFLOW ==============================================================\n",
      "4 5\n",
      " ***** XEWU3 DIMENSION OVERFLOW ==============================================================\n",
      " ***** XEWU3 DIMENSION OVERFLOW ==============================================================\n",
      "3 4\n",
      " ***** XEWU3 DIMENSION OVERFLOW ==============================================================\n",
      "2 3\n",
      "1 2\n",
      "0 1\n"
     ]
    }
   ],
   "source": [
    "pp = []\n",
    "for i in range(5,-1,-1):\n",
    "    print(i,i+1)\n",
    "    pp.append(db_matrix_element(\"p\", [[2,2,2,2],26,4,[0],0,0,0,26,4,[2,2,2,2],34,4,[0],0,0,0,34,4,0,60,8,1,2,0,0,0,0,0,0,0,2], [[2,2,2,1],25,2,[1],6,0,0,31,2,[2,2,2,2],34,4,[0],0,0,0,34,4,0,65,6,1,3,1/2,1/2,0,0,0,0,0,3], [5,6,0,0,i,i+1,0,0,0,i,i+1,1,1,0,0,0,1]))"
   ]
  },
  {
   "cell_type": "code",
   "execution_count": 44,
   "id": "8d7913b0",
   "metadata": {},
   "outputs": [
    {
     "data": {
      "text/plain": [
       "[-0.033513440212452755,\n",
       " -0.1494608629931636,\n",
       " 0.08190408303924243,\n",
       " 0.1803423683435272,\n",
       " 0,\n",
       " 0]"
      ]
     },
     "execution_count": 44,
     "metadata": {},
     "output_type": "execute_result"
    }
   ],
   "source": [
    "pp"
   ]
  },
  {
   "cell_type": "code",
   "execution_count": 60,
   "id": "dd3cae43",
   "metadata": {},
   "outputs": [
    {
     "name": "stdout",
     "output_type": "stream",
     "text": [
      "6 7\n",
      " ***** XEWU3 DIMENSION OVERFLOW ==============================================================\n",
      " ***** XEWU3 DIMENSION OVERFLOW ==============================================================\n",
      " ***** XEWU3 DIMENSION OVERFLOW ==============================================================\n",
      "5 6\n",
      " ***** XEWU3 DIMENSION OVERFLOW ==============================================================\n",
      " ***** XEWU3 DIMENSION OVERFLOW ==============================================================\n",
      "4 5\n",
      " ***** XEWU3 DIMENSION OVERFLOW ==============================================================\n",
      "3 4\n",
      "2 3\n",
      "1 2\n",
      "0 1\n"
     ]
    }
   ],
   "source": [
    "nn = []\n",
    "for i in range(6,-1,-1):\n",
    "    print(i,i+1)\n",
    "    nn.append(db_matrix_element(\"n\", [[2,2,2,2],26,4,[0],0,0,0,26,4,[2,2,2,2],34,4,[0],0,0,0,34,4,0,60,8,1,2,0,0,0,0,0,0,0,2], [[2,2,2,2],26,4,[0],0,0,0,26,4,[2,2,2,1],32,2,[1],7,0,0,39,2,0,65,6,1,3,0,0,1/2,1/2,0,0,0,3], [0,0,6,7,0,0,i,i+1,0,i,i+1,1,1,0,0,0,1]))"
   ]
  },
  {
   "cell_type": "code",
   "execution_count": 61,
   "id": "12a97593",
   "metadata": {},
   "outputs": [
    {
     "data": {
      "text/plain": [
       "[0.04128890687506161,\n",
       " -0.04739516608902348,\n",
       " -0.15510285891122647,\n",
       " 0.0722326113334292,\n",
       " 0.14386345168053072,\n",
       " 0,\n",
       " 0]"
      ]
     },
     "execution_count": 61,
     "metadata": {},
     "output_type": "execute_result"
    }
   ],
   "source": [
    "nn"
   ]
  },
  {
   "cell_type": "code",
   "execution_count": 8,
   "id": "58819459",
   "metadata": {},
   "outputs": [],
   "source": [
    "ppexp = np.array([-0.5245, 0.2910, 0.7517, -0.6500, -2.4657, 2.4376])\n",
    "nnexp = np.array([-0.4823, -0.3451, 0.5421, 0.7759, -0.9169, -2.9365, 3.0565])"
   ]
  },
  {
   "cell_type": "code",
   "execution_count": 23,
   "id": "1b927926",
   "metadata": {},
   "outputs": [],
   "source": [
    "# Parameters\n",
    "a =  2.2703772518796668 \n",
    "b =  -1.175719088119022"
   ]
  },
  {
   "cell_type": "code",
   "execution_count": 52,
   "id": "21367d95",
   "metadata": {},
   "outputs": [
    {
     "data": {
      "text/plain": [
       "0.00021478262812364883"
      ]
     },
     "execution_count": 52,
     "metadata": {},
     "output_type": "execute_result"
    }
   ],
   "source": [
    "(2*2+1)/(2*3+1)*( 2.4644*(a*sum(ppexp*pp) + b*sum(nnexp*nn)) )**2\n",
    "# The value obtained before is 0.00021518739819449415  e²fm²"
   ]
  },
  {
   "cell_type": "markdown",
   "id": "9675172f",
   "metadata": {},
   "source": [
    "# Example of B(E1) $7^-\\rightarrow6^+$  transition as in Restrepo, et. al, (2024), ArrXiv 2405.04679"
   ]
  },
  {
   "cell_type": "code",
   "execution_count": 6,
   "id": "80d9c45f",
   "metadata": {},
   "outputs": [
    {
     "name": "stdout",
     "output_type": "stream",
     "text": [
      "5 6\n",
      " ***** XEWU3 DIMENSION OVERFLOW ==============================================================\n",
      "4 5\n",
      " ***** XEWU3 DIMENSION OVERFLOW ==============================================================\n",
      "3 4\n",
      " ***** XEWU3 DIMENSION OVERFLOW ==============================================================\n",
      "2 3\n",
      "1 2\n",
      "0 1\n"
     ]
    }
   ],
   "source": [
    "pp = []\n",
    "for i in range(5,-1,-1):\n",
    "    print(i,i+1)\n",
    "    pp.append(db_matrix_element(\"p\", [[2,2,2,2],26,4,[0],0,0,0,26,4,[2,2,2,2],34,4,[0],0,0,0,34,4,0,60,8,1,6,0,0,0,0,0,0,0,6], [[2,2,2,1],25,2,[1],6,0,0,31,2,[2,2,2,2],34,4,[0],0,0,0,34,4,0,65,6,1,7,1/2,1/2,0,0,0,0,0,7], [5,6,0,0,i,i+1,0,0,0,i,i+1,1,1,0,0,0,1]))"
   ]
  },
  {
   "cell_type": "code",
   "execution_count": 7,
   "id": "b722c860",
   "metadata": {
    "scrolled": true
   },
   "outputs": [
    {
     "name": "stdout",
     "output_type": "stream",
     "text": [
      "6 7\n",
      " ***** XEWU3 DIMENSION OVERFLOW ==============================================================\n",
      " ***** XEWU3 DIMENSION OVERFLOW ==============================================================\n",
      "5 6\n",
      " ***** XEWU3 DIMENSION OVERFLOW ==============================================================\n",
      " ***** XEWU3 DIMENSION OVERFLOW ==============================================================\n",
      " ***** XEWU3 DIMENSION OVERFLOW ==============================================================\n",
      "4 5\n",
      " ***** XEWU3 DIMENSION OVERFLOW ==============================================================\n",
      "3 4\n",
      "2 3\n",
      "1 2\n",
      "0 1\n"
     ]
    }
   ],
   "source": [
    "nn = []\n",
    "for i in range(6,-1,-1):\n",
    "    print(i,i+1)\n",
    "    nn.append(db_matrix_element(\"n\", [[2,2,2,2],26,4,[0],0,0,0,26,4,[2,2,2,2],34,4,[0],0,0,0,34,4,0,60,8,1,6,0,0,0,0,0,0,0,6], [[2,2,2,2],26,4,[0],0,0,0,26,4,[2,2,2,1],32,2,[1],7,0,0,39,2,0,65,6,1,7,0,0,1/2,1/2,0,0,0,7], [0,0,6,7,0,0,i,i+1,0,i,i+1,1,1,0,0,0,1]))"
   ]
  },
  {
   "cell_type": "code",
   "execution_count": 10,
   "id": "b8cfc084",
   "metadata": {
    "scrolled": true
   },
   "outputs": [
    {
     "data": {
      "text/plain": [
       "0.0028014423380136742"
      ]
     },
     "execution_count": 10,
     "metadata": {},
     "output_type": "execute_result"
    }
   ],
   "source": [
    "(2*6+1)/(2*7+1)*( 2.4644*(a*sum(ppexp*pp) + b*sum(nnexp*nn)) )**2\n",
    "# The value obtained before is 0.0027997394495621855  e²fm²"
   ]
  }
 ],
 "metadata": {
  "kernelspec": {
   "display_name": "Python 3 (ipykernel)",
   "language": "python",
   "name": "python3"
  },
  "language_info": {
   "codemirror_mode": {
    "name": "ipython",
    "version": 3
   },
   "file_extension": ".py",
   "mimetype": "text/x-python",
   "name": "python",
   "nbconvert_exporter": "python",
   "pygments_lexer": "ipython3",
   "version": "3.9.12"
  }
 },
 "nbformat": 4,
 "nbformat_minor": 5
}
