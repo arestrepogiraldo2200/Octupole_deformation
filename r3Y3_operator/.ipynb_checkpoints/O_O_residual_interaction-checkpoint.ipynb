{
 "cells": [
  {
   "cell_type": "markdown",
   "id": "c81ec9f7",
   "metadata": {},
   "source": [
    "# Residual O$\\cdot$O interaction\n",
    "\n",
    "The total octupole operator has a contribution both from protons ($\\pi$) and neutrons ($\\nu$) expressed as \n",
    "\n",
    "$$O = O_{\\pi}+O_{\\nu}$$\n",
    "\n",
    "Each contribution can be expanded in $SU(3)$ tensors as \n",
    "\n",
    "$$\n",
    "O_{\\sigma M_o}^{\\hspace{2mm}L_o=J_o=3} = \\sum_{(\\lambda_o,\\mu_o),K_o,\\eta,\\eta'}\\mathcal{V}_{\\sigma}(\\lambda_o,\\mu_o,K_o,\\eta,\\eta')\\big\\{a^{\\dagger}_{(\\eta',0)\\frac{1}{2}}\\tilde{a}_{(0,\\eta)\\frac{1}{2}}\\big\\}_{\\sigma\\hspace{20mm}M_o}^{(\\lambda_o,\\mu_o),K_o,L_o=J_o=3}\n",
    "$$\n",
    "\n",
    "where $\\sigma= \\pi,\\nu$ and $\\eta \\neq \\eta'$ since odd-L operators change parity. Thus the octupole-octupole interaction can be written as \n",
    "\n",
    "$$\n",
    "O\\cdot O = -\\sqrt{7}\\sum_{M_o}\\langle 3 ,M_o, 3, -M_o |0,0\\rangle\\sum_{\\substack{\\sigma, \\sigma'\\\\(\\lambda_o,\\mu_o),K_o,\\eta,\\eta'\\\\(\\lambda_o',\\mu_o'),K_o',\\eta'',\\eta'''}}\\mathcal{V}_{\\sigma}(\\lambda_o,\\mu_o,K_o,\\eta,\\eta')\\hspace{1mm}\\mathcal{V}_{\\sigma'}(\\lambda_o',\\mu_o',K_o',\\eta'',\\eta''')\\\\ \\hspace{80mm}\\times\n",
    "\\big\\{a^{\\dagger}_{(\\eta',0)\\frac{1}{2}}\\tilde{a}_{(0,\\eta)\\frac{1}{2}}\\big\\}_{\\sigma\\hspace{20mm}M_o}^{(\\lambda_o,\\mu_o),K_o,L_o=J_o=3}\n",
    "\\big\\{a^{\\dagger}_{(\\eta''',0)\\frac{1}{2}}\\tilde{a}_{(0,\\eta'')\\frac{1}{2}}\\big\\}_{\\sigma'\\hspace{17mm}-M_o}^{(\\lambda_o',\\mu_o'),K_o',L_o=J_o=3}\n",
    "$$\n",
    "\n",
    "$$\\\\= \\sum_{\\substack{M_o, \\sigma, \\sigma'\\\\(\\lambda_o,\\mu_o),K_o,\\eta,\\eta'\\\\(\\lambda_o',\\mu_o'),K_o',\\eta'',\\eta'''}}(-1)^{M_o}\\mathcal{V}_{\\sigma}(\\lambda_o,\\mu_o,K_o,\\eta,\\eta')\\hspace{1mm}\\mathcal{V}_{\\sigma'}(\\lambda_o',\\mu_o',K_o',\\eta'',\\eta''')\n",
    "\\big\\{a^{\\dagger}_{(\\eta',0)\\frac{1}{2}}\\tilde{a}_{(0,\\eta)\\frac{1}{2}}\\big\\}_{\\sigma\\hspace{20mm}M_o}^{(\\lambda_o,\\mu_o),K_o,L_o=J_o=3}\n",
    "\\big\\{a^{\\dagger}_{(\\eta''',0)\\frac{1}{2}}\\tilde{a}_{(0,\\eta'')\\frac{1}{2}}\\big\\}_{\\sigma'\\hspace{17mm}-M_o}^{(\\lambda_o',\\mu_o'),K_o',L_o=J_o=3}\n",
    "$$\n",
    "\n",
    "\n",
    "The two-shell states are given by\n",
    "\n",
    "$$\n",
    "|\\Psi_{\\pi+\\nu}\\rangle = \\Bigg|\\Big\\{[1^{N_\\pi}], [f_{\\pi-}]\\otimes[f_{\\pi+}], \\alpha_{\\pi-}(\\lambda,\\mu)_{\\pi-}\\otimes \\alpha_{\\pi+}(\\lambda,\\mu)_{\\pi+}, \\rho_{\\pi}(\\lambda,\\mu)_{\\pi}, S_{\\pi-}\\otimes S_{\\pi+}, S_{\\pi}\\Big\\} \\\\ \\otimes \\Big\\{[1^{N_\\nu}], [f_{\\nu-}]\\otimes[f_{\\nu+}],  \\alpha_{\\nu-}(\\lambda,\\mu)_{\\nu-}\\otimes \\alpha_{\\nu+}(\\lambda,\\mu)_{\\nu+}, \\rho_{\\nu}(\\lambda,\\mu)_{\\nu}, S_{\\nu-}\\otimes S_{\\nu+}, S_{\\nu}\\Big\\},\\\\\n",
    "\\rho_{\\pi+\\nu}(\\lambda,\\mu)_{\\pi+\\nu}, K_{\\pi+\\nu}, L_{\\pi+\\nu}, S_{\\pi+\\nu}; J_{\\pi+\\nu}, M_{\\pi+\\nu} \\Bigg\\rangle\n",
    "$$\n",
    "\n",
    "and the matrix elements of $O\\cdot O$ are \n",
    "\n",
    "$$\n",
    "\\langle\\Psi_{\\pi+\\nu}|O\\cdot O|\\Psi'_{\\pi+\\nu}\\rangle \n",
    "= \\sum_{\\substack{M_o, \\sigma, \\sigma'\\\\(\\lambda_o,\\mu_o),K_o,\\eta,\\eta'\\\\(\\lambda_o',\\mu_o'),K_o',\\eta'',\\eta'''}}(-1)^{M_o}\\mathcal{V}_{\\sigma}(\\lambda_o,\\mu_o,K_o,\\eta,\\eta')\\hspace{1mm}\\mathcal{V}_{\\sigma'}(\\lambda_o',\\mu_o',K_o',\\eta'',\\eta''')\n",
    "\\\\ \\times \\Big\\langle\\Psi_{\\pi+\\nu}\\Big|\n",
    "\\big\\{a^{\\dagger}_{(\\eta',0)\\frac{1}{2}}\\tilde{a}_{(0,\\eta)\\frac{1}{2}}\\big\\}_{\\sigma\\hspace{20mm}M_o}^{(\\lambda_o,\\mu_o),K_o,L_o=J_o=3}\n",
    "\\big\\{a^{\\dagger}_{(\\eta''',0)\\frac{1}{2}}\\tilde{a}_{(0,\\eta'')\\frac{1}{2}}\\big\\}_{\\sigma'\\hspace{17mm}-M_o}^{(\\lambda_o',\\mu_o'),K_o',L_o=J_o=3}\n",
    "\\Big|\\Psi'_{\\pi+\\nu}\\Big\\rangle\n",
    "\\\\= \\sum_{\\substack{M_o, \\sigma, \\sigma'\\\\(\\lambda_o,\\mu_o),K_o,\\eta,\\eta'\\\\(\\lambda_o',\\mu_o'),K_o',\\eta'',\\eta'''\\\\ \\Psi''_{\\pi+\\nu}}}(-1)^{M_o}\\mathcal{V}_{\\sigma}(\\lambda_o,\\mu_o,K_o,\\eta,\\eta')\\hspace{1mm}\\mathcal{V}_{\\sigma'}(\\lambda_o',\\mu_o',K_o',\\eta'',\\eta''')\n",
    "\\\\ \\times \\Big\\langle\\Psi_{\\pi+\\nu}\\Big|\n",
    "\\big\\{a^{\\dagger}_{(\\eta',0)\\frac{1}{2}}\\tilde{a}_{(0,\\eta)\\frac{1}{2}}\\big\\}_{\\sigma\\hspace{20mm}M_o}^{(\\lambda_o,\\mu_o),K_o,L_o=J_o=3}\n",
    "\\Big|\\Psi''_{\\pi+\\nu}\\Big\\rangle \\Big\\langle\\Psi''_{\\pi+\\nu}\\Big| \\big\\{a^{\\dagger}_{(\\eta''',0)\\frac{1}{2}}\\tilde{a}_{(0,\\eta'')\\frac{1}{2}}\\big\\}_{\\sigma'\\hspace{17mm}-M_o}^{(\\lambda_o',\\mu_o'),K_o',L_o=J_o=3}\n",
    "\\Big|\\Psi'_{\\pi+\\nu}\\Big\\rangle\n",
    "\\\\= \\sum_{\\substack{M_o, \\sigma, \\sigma'\\\\(\\lambda_o,\\mu_o),K_o,\\eta,\\eta'\\\\(\\lambda_o',\\mu_o'),K_o',\\eta'',\\eta'''\\\\ \\Psi''_{\\pi+\\nu}}}(-1)^{M_o}\\mathcal{V}_{\\sigma}(\\lambda_o,\\mu_o,K_o,\\eta,\\eta')\\hspace{1mm}\\mathcal{V}_{\\sigma'}(\\lambda_o',\\mu_o',K_o',\\eta'',\\eta''')\n",
    "\\\\\\times\\langle J'',M'',3,M_o|J,M\\rangle \\langle J',M',3,-M_o|J'',M''\\rangle\n",
    "\\\\ \\times \\Big\\langle\\Psi_{\\pi+\\nu}\\Big|\\Big|\n",
    "\\big\\{a^{\\dagger}_{(\\eta',0)\\frac{1}{2}}\\tilde{a}_{(0,\\eta)\\frac{1}{2}}\\big\\}_{\\sigma\\hspace{20mm}M_o}^{(\\lambda_o,\\mu_o),K_o,L_o=J_o=3}\n",
    "\\Big|\\Big|\\Psi''_{\\pi+\\nu}\\Big\\rangle \\Big\\langle\\Psi''_{\\pi+\\nu}\\Big|\\Big| \\big\\{a^{\\dagger}_{(\\eta''',0)\\frac{1}{2}}\\tilde{a}_{(0,\\eta'')\\frac{1}{2}}\\big\\}_{\\sigma'\\hspace{17mm}-M_o}^{(\\lambda_o',\\mu_o'),K_o',L_o=J_o=3}\n",
    "\\Big|\\Big|\\Psi'_{\\pi+\\nu}\\Big\\rangle$$\n",
    "\n",
    "Where the identity $\\sum_{\\Psi''_{\\pi+\\nu}}|\\Psi''_{\\pi+\\nu}\\rangle\\langle\\Psi''_{\\pi+\\nu}|$ has been introduced. The reduced matrix elements can be computed with the equations in Troltenier, et. al, (1995), Nuc. Phys. A 586 and Restrepo, et. al, (2024), ArXiv 2405.04679 for which computer programs have been developed. Several selection rules can also be applied."
   ]
  },
  {
   "cell_type": "code",
   "execution_count": 1,
   "id": "1174a61e",
   "metadata": {},
   "outputs": [],
   "source": [
    "%run Matrix_Elements_Implementations.ipynb"
   ]
  },
  {
   "cell_type": "code",
   "execution_count": null,
   "id": "6d30ec7e",
   "metadata": {},
   "outputs": [],
   "source": [
    "def O_O_MatrixElement():"
   ]
  },
  {
   "cell_type": "code",
   "execution_count": null,
   "id": "c0c9b8ad",
   "metadata": {},
   "outputs": [],
   "source": []
  },
  {
   "cell_type": "code",
   "execution_count": null,
   "id": "2cc65aaf",
   "metadata": {},
   "outputs": [],
   "source": []
  },
  {
   "cell_type": "code",
   "execution_count": null,
   "id": "20011125",
   "metadata": {},
   "outputs": [],
   "source": []
  },
  {
   "cell_type": "code",
   "execution_count": null,
   "id": "3b7b8b07",
   "metadata": {},
   "outputs": [],
   "source": []
  },
  {
   "cell_type": "code",
   "execution_count": null,
   "id": "e0bd799d",
   "metadata": {},
   "outputs": [],
   "source": []
  },
  {
   "cell_type": "code",
   "execution_count": 5,
   "id": "213878ed",
   "metadata": {},
   "outputs": [
    {
     "data": {
      "text/plain": [
       "0"
      ]
     },
     "execution_count": 5,
     "metadata": {},
     "output_type": "execute_result"
    }
   ],
   "source": [
    "# Function to compute double barred matrix element of neutron-proton operator \n",
    "#                               from Troltenier, et. al, (1995), Nuc. Phys. A 586\n",
    "# Arguments:\n",
    "# op_type: \"n\" or \"p\"\n",
    "# bra: [[f'_π-],λ'_π-, μ'_π-, [f'_π+], λ'_π+, μ'_π+, ρ'_π, λ'_π, μ'_π, [f'_ν-], λ'_ν-, μ'_ν-, [f'_ν+], λ'_ν+, μ'_ν+, ρ'_ν, λ'_ν, μ'_ν, ρ', λ', μ', K', L', S'_π-, S'_π+, S'_ν-, S'_ν+, S'_π, S'_ν, S', J'] \n",
    "# ket: [[f_π-],λ_π-, μ_π-,[f_π+], λ_π+, μ_π+, ρ_π, λ_π, μ_π, [f_ν-], λ_ν-, μ_ν-, [f_ν+], λ_ν+, μ_ν+, ρ_ν, λ_ν, μ_ν, ρ, λ, μ, K, L, S_π-, S_π+, S_ν-, S_ν+, S_π, S_ν, S, J] \n",
    "#                                                                                                                                                                             op: [η'_π, η_π, η'_ν, η_ν, λ_πo, μ_πo, λ_νo, μ_νo, ρ_o, λ_o, μ_o, K_o, L_o, S_πo, S_νo, S_o, J_o] \n",
    "# ========> NOTE: The K labels must start in 1, as K = 1,2,3,...\n",
    "# ========> NOTE: The ρ labels must start in 0, as ρ = 0,1,2,...\n",
    "\n",
    "db_matrix_element(\"n\", [[2,2,2,2],26,4,[0],0,0,0,26,4,[2,2,2,2],34,4,[0],0,0,0,34,4,0,60,8,1,2,0,0,0,0,0,0,0,2], [[2,2,2,2],26,4,[0],0,0,0,26,4,[2,2,2,2],34,4,[0],0,0,0,34,4,0,60,8,1,2,0,0,0,0,0,0,0,2], [0,0,6,7,0,0,3,4,0,3,4,1,3,0,0,0,3])"
   ]
  },
  {
   "cell_type": "code",
   "execution_count": 10,
   "id": "076d73dd",
   "metadata": {},
   "outputs": [
    {
     "name": "stdout",
     "output_type": "stream",
     "text": [
      "<4||{a+a}( 0 , 1 )||3> =  0\n",
      "<4||{a+a}( 1 , 2 )||3> =  0\n",
      "<4||{a+a}( 2 , 3 )||3> =  0.06803512524278972\n",
      "<4||{a+a}( 3 , 4 )||3> =  0.12813590665580882\n",
      "<4||{a+a}( 4 , 5 )||3> =  -0.022911544036529206\n",
      " ***** XEWU3 DIMENSION OVERFLOW ==============================================================\n",
      " ***** XEWU3 DIMENSION OVERFLOW ==============================================================\n",
      "<4||{a+a}( 5 , 6 )||3> =  -0.07417427950603339\n",
      " ***** XEWU3 DIMENSION OVERFLOW ==============================================================\n",
      " ***** XEWU3 DIMENSION OVERFLOW ==============================================================\n",
      " ***** XEWU3 DIMENSION OVERFLOW ==============================================================\n",
      " ***** XEWU3 DIMENSION OVERFLOW ==============================================================\n",
      "<4||{a+a}( 6 , 7 )||3> =  0.00016948048376706586\n"
     ]
    }
   ],
   "source": [
    "for i in range(7):\n",
    "    print(\"<4||{a+a}(\",i,\",\",i+1,\")||3> = \", db_matrix_element(\"n\", [[2,2,2,2],26,4,[0],0,0,0,26,4,[2,2,2,2],34,4,[0],0,0,0,34,4,0,60,8,1,4,0,0,0,0,0,0,0,4], [[2,2,2,2],26,4,[0],0,0,0,26,4,[2,2,2,1],32,2,[1],7,0,0,39,2,0,65,6,1,3,0,0,1/2,1/2,0,0,0,3], [0,0,6,7,0,0,i,i+1,0,i,i+1,1,3,0,0,0,3]))"
   ]
  },
  {
   "cell_type": "code",
   "execution_count": 11,
   "id": "64beeec6",
   "metadata": {},
   "outputs": [
    {
     "name": "stdout",
     "output_type": "stream",
     "text": [
      "<0||{a+a}( 0 , 1 )||1> =  0\n",
      "<0||{a+a}( 1 , 2 )||1> =  0\n",
      "<0||{a+a}( 2 , 3 )||1> =  0\n",
      "<0||{a+a}( 3 , 4 )||1> =  0\n",
      "<0||{a+a}( 4 , 5 )||1> =  0\n",
      "<0||{a+a}( 5 , 6 )||1> =  0\n",
      "<0||{a+a}( 6 , 7 )||1> =  0\n"
     ]
    }
   ],
   "source": [
    "for i in range(7):\n",
    "    print(\"<0||{a+a}(\",i,\",\",i+1,\")||1> = \", db_matrix_element(\"n\", [[2,2,2,2],26,4,[0],0,0,0,26,4,[2,2,2,2],34,4,[0],0,0,0,34,4,0,60,8,1,0,0,0,0,0,0,0,0,0], [[2,2,2,2],26,4,[0],0,0,0,26,4,[2,2,2,1],32,2,[1],7,0,0,39,2,0,65,6,1,1,0,0,1/2,1/2,0,0,0,1], [0,0,6,7,0,0,i,i+1,0,i,i+1,1,3,0,0,0,3]))"
   ]
  },
  {
   "cell_type": "code",
   "execution_count": 12,
   "id": "605d0451",
   "metadata": {},
   "outputs": [
    {
     "name": "stdout",
     "output_type": "stream",
     "text": [
      "<0||{a+a}( 0 , 1 )||3> =  0\n",
      "<0||{a+a}( 1 , 2 )||3> =  0\n",
      "<0||{a+a}( 2 , 3 )||3> =  0.17220146159318309\n",
      "<0||{a+a}( 3 , 4 )||3> =  0.29249761515364575\n",
      " ***** XEWU3 DIMENSION OVERFLOW ==============================================================\n",
      " ***** XEWU3 DIMENSION OVERFLOW ==============================================================\n",
      "<0||{a+a}( 4 , 5 )||3> =  -0.0980794234266578\n",
      " ***** XEWU3 DIMENSION OVERFLOW ==============================================================\n",
      " ***** XEWU3 DIMENSION OVERFLOW ==============================================================\n",
      "<0||{a+a}( 5 , 6 )||3> =  -0.1794640738730348\n",
      " ***** XEWU3 DIMENSION OVERFLOW ==============================================================\n",
      " ***** XEWU3 DIMENSION OVERFLOW ==============================================================\n",
      "<0||{a+a}( 6 , 7 )||3> =  0.018250744318515727\n"
     ]
    }
   ],
   "source": [
    "for i in range(7):\n",
    "    print(\"<0||{a+a}(\",i,\",\",i+1,\")||3> = \", db_matrix_element(\"n\", [[2,2,2,2],26,4,[0],0,0,0,26,4,[2,2,2,2],34,4,[0],0,0,0,34,4,0,60,8,1,0,0,0,0,0,0,0,0,0], [[2,2,2,2],26,4,[0],0,0,0,26,4,[2,2,2,1],32,2,[1],7,0,0,39,2,0,65,6,1,3,0,0,1/2,1/2,0,0,0,3], [0,0,6,7,0,0,i,i+1,0,i,i+1,1,3,0,0,0,3]))"
   ]
  },
  {
   "cell_type": "code",
   "execution_count": 18,
   "id": "ac46f6ba",
   "metadata": {},
   "outputs": [
    {
     "name": "stdout",
     "output_type": "stream",
     "text": [
      "<0||{a+a}( 0 , 1 )||5> =  0\n",
      "<0||{a+a}( 1 , 2 )||5> =  0\n",
      "<0||{a+a}( 2 , 3 )||5> =  0\n",
      "<0||{a+a}( 3 , 4 )||5> =  0\n",
      "<0||{a+a}( 4 , 5 )||5> =  0\n",
      "<0||{a+a}( 5 , 6 )||5> =  0\n",
      "<0||{a+a}( 6 , 7 )||5> =  0\n"
     ]
    }
   ],
   "source": [
    "for i in range(7):\n",
    "    print(\"<0||{a+a}(\",i,\",\",i+1,\")||5> = \", db_matrix_element(\"n\", [[2,2,2,2],26,4,[0],0,0,0,26,4,[2,2,2,2],34,4,[0],0,0,0,34,4,0,60,8,1,0,0,0,0,0,0,0,0,0], [[2,2,2,2],26,4,[0],0,0,0,26,4,[2,2,2,1],32,2,[1],7,0,0,39,2,0,65,6,1,5,0,0,1/2,1/2,0,0,0,5], [0,0,6,7,0,0,i,i+1,0,i,i+1,1,3,0,0,0,3]))"
   ]
  },
  {
   "cell_type": "code",
   "execution_count": null,
   "id": "92036fdd",
   "metadata": {},
   "outputs": [],
   "source": []
  },
  {
   "cell_type": "code",
   "execution_count": null,
   "id": "ebf0317d",
   "metadata": {},
   "outputs": [],
   "source": []
  },
  {
   "cell_type": "code",
   "execution_count": null,
   "id": "9ada20ea",
   "metadata": {},
   "outputs": [],
   "source": []
  },
  {
   "cell_type": "code",
   "execution_count": null,
   "id": "d72df24e",
   "metadata": {},
   "outputs": [],
   "source": []
  },
  {
   "cell_type": "code",
   "execution_count": null,
   "id": "7be7b472",
   "metadata": {},
   "outputs": [],
   "source": []
  },
  {
   "cell_type": "code",
   "execution_count": null,
   "id": "58485b17",
   "metadata": {},
   "outputs": [],
   "source": []
  }
 ],
 "metadata": {
  "kernelspec": {
   "display_name": "Python 3 (ipykernel)",
   "language": "python",
   "name": "python3"
  },
  "language_info": {
   "codemirror_mode": {
    "name": "ipython",
    "version": 3
   },
   "file_extension": ".py",
   "mimetype": "text/x-python",
   "name": "python",
   "nbconvert_exporter": "python",
   "pygments_lexer": "ipython3",
   "version": "3.9.12"
  }
 },
 "nbformat": 4,
 "nbformat_minor": 5
}
