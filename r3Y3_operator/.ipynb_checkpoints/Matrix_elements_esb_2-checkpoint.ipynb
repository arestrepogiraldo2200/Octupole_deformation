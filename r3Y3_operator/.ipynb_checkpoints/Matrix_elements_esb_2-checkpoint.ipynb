{
 "cells": [
  {
   "cell_type": "code",
   "execution_count": null,
   "id": "8489b8ed",
   "metadata": {},
   "outputs": [
    {
     "name": "stderr",
     "output_type": "stream",
     "text": [
      "/tmp/ipykernel_2929418/279327973.py:3: DeprecationWarning: Using factorial() with floats is deprecated\n",
      "  return (-1)**k/math.factorial(abs(k)) * np.sqrt( (2*math.factorial(n)) / (math.gamma(n+l+3/2)) )* (math.gamma(n+l+3/2)) / (math.factorial(n-k)*math.gamma(k+l+3/2))\n",
      "/tmp/ipykernel_2929418/279327973.py:3: DeprecationWarning: Using factorial() with floats is deprecated\n",
      "  return (-1)**k/math.factorial(abs(k)) * np.sqrt( (2*math.factorial(n)) / (math.gamma(n+l+3/2)) )* (math.gamma(n+l+3/2)) / (math.factorial(n-k)*math.gamma(k+l+3/2))\n"
     ]
    }
   ],
   "source": [
    "%run O_O_residual_interaction.ipynb"
   ]
  },
  {
   "cell_type": "code",
   "execution_count": null,
   "id": "143a92d9",
   "metadata": {},
   "outputs": [],
   "source": [
    "# n11- matrix element\n",
    "print(O_O_ReducedMatrixElement([[2,2,2,2],26,4,[0],0,0,0,26,4,[2,2,2,1],32,2,[1],7,0,0,39,2,0,65,6,1,11,0,0,1/2,1/2,0,0,0,11], [[2,2,2,2],26,4,[0],0,0,0,26,4,[2,2,2,1],32,2,[1],7,0,0,39,2,0,65,6,1,11,0,0,1/2,1/2,0,0,0,11], inter, \"x1\"))"
   ]
  },
  {
   "cell_type": "code",
   "execution_count": null,
   "id": "9707be3c",
   "metadata": {},
   "outputs": [],
   "source": [
    "# n13- matrix element\n",
    "print(O_O_ReducedMatrixElement([[2,2,2,2],26,4,[0],0,0,0,26,4,[2,2,2,1],32,2,[1],7,0,0,39,2,0,65,6,1,13,0,0,1/2,1/2,0,0,0,13], [[2,2,2,2],26,4,[0],0,0,0,26,4,[2,2,2,1],32,2,[1],7,0,0,39,2,0,65,6,1,13,0,0,1/2,1/2,0,0,0,13], inter, \"x1\"))"
   ]
  },
  {
   "cell_type": "code",
   "execution_count": null,
   "id": "d11db459",
   "metadata": {},
   "outputs": [],
   "source": []
  },
  {
   "cell_type": "code",
   "execution_count": null,
   "id": "fee37994",
   "metadata": {},
   "outputs": [],
   "source": []
  },
  {
   "cell_type": "code",
   "execution_count": null,
   "id": "a13a0ad0",
   "metadata": {},
   "outputs": [],
   "source": []
  },
  {
   "cell_type": "code",
   "execution_count": null,
   "id": "61e069e5",
   "metadata": {},
   "outputs": [],
   "source": []
  },
  {
   "cell_type": "code",
   "execution_count": null,
   "id": "92c6fdc3",
   "metadata": {},
   "outputs": [],
   "source": []
  },
  {
   "cell_type": "code",
   "execution_count": null,
   "id": "80cf34d1",
   "metadata": {},
   "outputs": [],
   "source": []
  },
  {
   "cell_type": "code",
   "execution_count": null,
   "id": "35334602",
   "metadata": {},
   "outputs": [],
   "source": []
  },
  {
   "cell_type": "code",
   "execution_count": null,
   "id": "66ffff9e",
   "metadata": {},
   "outputs": [],
   "source": []
  },
  {
   "cell_type": "code",
   "execution_count": null,
   "id": "ef8a3e89",
   "metadata": {},
   "outputs": [],
   "source": []
  }
 ],
 "metadata": {
  "kernelspec": {
   "display_name": "Python 3 (ipykernel)",
   "language": "python",
   "name": "python3"
  },
  "language_info": {
   "codemirror_mode": {
    "name": "ipython",
    "version": 3
   },
   "file_extension": ".py",
   "mimetype": "text/x-python",
   "name": "python",
   "nbconvert_exporter": "python",
   "pygments_lexer": "ipython3",
   "version": "3.9.12"
  }
 },
 "nbformat": 4,
 "nbformat_minor": 5
}
