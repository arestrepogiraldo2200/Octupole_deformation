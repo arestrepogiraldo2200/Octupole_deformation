{
 "cells": [
  {
   "cell_type": "markdown",
   "id": "4f823687",
   "metadata": {},
   "source": [
    "$$\n",
    "\\sum_{\\alpha,(\\lambda,\\mu)}\\Big\\langle[f'],\\alpha',(\\lambda',\\mu'),S'\\Big|\\Big|\\Big|a^{\\dagger}_{(\\eta,0)\\frac{1}{2}}\\Big|\\Big|\\Big|[f],\\alpha,(\\lambda,\\mu),S\\Big\\rangle^2 = n\\frac{\\text{dim}[f]}{\\text{dim}[f']}\n",
    "$$"
   ]
  },
  {
   "cell_type": "code",
   "execution_count": 1,
   "id": "292e2dc0",
   "metadata": {},
   "outputs": [],
   "source": [
    "%run SU3_implementations.ipynb"
   ]
  },
  {
   "cell_type": "code",
   "execution_count": 140,
   "id": "6351a8da",
   "metadata": {},
   "outputs": [],
   "source": [
    "# Number of particles\n",
    "eta = 2\n",
    "\n",
    "fbra = [2,2]\n",
    "fket = [2,1]\n",
    "\n",
    "n = sum(fbra)\n",
    "\n",
    "dimbra = UNdim(eta, fbra)\n",
    "dimket = UNdim(eta, fket)\n",
    "\n",
    "irrepsbra = UNtoU3(eta, fbra)\n",
    "irrepsket = UNtoU3(eta, fket)"
   ]
  },
  {
   "cell_type": "code",
   "execution_count": 141,
   "id": "99524123",
   "metadata": {
    "scrolled": true
   },
   "outputs": [
    {
     "name": "stdout",
     "output_type": "stream",
     "text": [
      "['FORTRAN STOP', '', ' ENTERING *** REDUCED MATRIX ELEMENTS (RMEGEN) ***', '', ' Enter input file unit: ', ' =>   15', ' ', ' Enter input file name: ', ' =>    pyid                ', ' =>    hwsw.pyid           ', ' =>    opbw.pyid           ', ' =>    rmew.pyid           ', ' =>    hwsir.pyid          ', ' ', ' Enter log file unit number:', '       0: none', '     1-3: some intermediate results', '     >=7: all intermediate results', ' =>    0', ' ', ' Enter number of multiplicity for one level:', ' =>    2', ' Enter operator structure:', '       0: read everything from the file', '       1: read a+ only from the file', '     >=2: generate everything on the fly', ' ', ' =>    3', ' Enter # of a+_s, a_s:', ' =>    1    0', ' ', ' Enter the tensor character of operators:', '       0: L=0 --> scalar', '       1: L=1 --> vector', '    else: all tensors', ' =>    3', ' ', ' Do you want limited numbers of (lm mu)?', ' (0 for no, 1 for yes)', ' =>    0', ' ', ' Enter minimum (lm mu):', ' =>    0    0', ' ', ' Enter maximum (lm mu):', ' => 1000 1000', ' ', ' lm = mu ?', ' =>    0', ' ', '', ' Statistics from trees         :      Nodes       Data', '        operators ibtree       :          0          0', '        operators ictree       :          0          0', '        states    istree       :         12         16      16', ' ', ' *--------------  --------------*                                    ', '   4   2   2   2   1   1   2   1', ' *--------------  --------------*                                    ', '', ' Statistics from trees         :      Nodes       Data', '        operators ibtree       :          0          0', '        operators ictree       :          0          0', '        rmes      irmtree      :          0          0']\n",
      "Unable to calculate matrix element <...||| {a+a}... |||...>.\n"
     ]
    }
   ],
   "source": [
    "rmes_sq = []\n",
    "\n",
    "for i in range(len(irrepsket)):\n",
    "    cfp = SU3rme([fbra, irrepsbra.iloc[0][\"lam\"], irrepsbra.iloc[0][\"mu\"]], [fket, irrepsket.iloc[i][\"lam\"], irrepsket.iloc[i][\"mu\"]], eta, \"id\")\n",
    "    if cfp != None:\n",
    "        rmes_sq.append(cfp**2)\n",
    "        \n",
    "s_rmes = sum(rmes_sq)"
   ]
  },
  {
   "cell_type": "code",
   "execution_count": 142,
   "id": "c7efb3c4",
   "metadata": {},
   "outputs": [
    {
     "name": "stdout",
     "output_type": "stream",
     "text": [
      "Left hand side of the equation:  4.000000000107812\n",
      "Right hand side of the equation:  2.6666666666666665\n"
     ]
    }
   ],
   "source": [
    "print(\"Left hand side of the equation: \", s_rmes)\n",
    "print(\"Right hand side of the equation: \", n*dimket/dimbra)"
   ]
  },
  {
   "cell_type": "code",
   "execution_count": null,
   "id": "18850d26",
   "metadata": {},
   "outputs": [],
   "source": []
  },
  {
   "cell_type": "code",
   "execution_count": null,
   "id": "eedd4fe1",
   "metadata": {},
   "outputs": [],
   "source": []
  },
  {
   "cell_type": "code",
   "execution_count": null,
   "id": "5bbd2d13",
   "metadata": {},
   "outputs": [],
   "source": []
  },
  {
   "cell_type": "code",
   "execution_count": null,
   "id": "01329c76",
   "metadata": {},
   "outputs": [],
   "source": []
  },
  {
   "cell_type": "code",
   "execution_count": null,
   "id": "20673ee1",
   "metadata": {},
   "outputs": [],
   "source": []
  },
  {
   "cell_type": "code",
   "execution_count": null,
   "id": "476a889d",
   "metadata": {},
   "outputs": [],
   "source": []
  },
  {
   "cell_type": "code",
   "execution_count": 127,
   "id": "95ecb103",
   "metadata": {},
   "outputs": [
    {
     "data": {
      "text/plain": [
       "462.0"
      ]
     },
     "execution_count": 127,
     "metadata": {},
     "output_type": "execute_result"
    }
   ],
   "source": [
    "import math\n",
    "Omega = int((eta+1)*(eta+2)/2)\n",
    "math.factorial(Omega+n-1)/(math.factorial(Omega-1)*math.factorial(n))"
   ]
  },
  {
   "cell_type": "code",
   "execution_count": 86,
   "id": "6b88f2cf",
   "metadata": {},
   "outputs": [
    {
     "data": {
      "text/plain": [
       "28.0"
      ]
     },
     "execution_count": 86,
     "metadata": {},
     "output_type": "execute_result"
    }
   ],
   "source": [
    "math.factorial(Omega+n-1-1)/(math.factorial(n-1-1)*math.factorial(Omega))"
   ]
  },
  {
   "cell_type": "code",
   "execution_count": 98,
   "id": "50a7500a",
   "metadata": {},
   "outputs": [
    {
     "data": {
      "text/plain": [
       "6"
      ]
     },
     "execution_count": 98,
     "metadata": {},
     "output_type": "execute_result"
    }
   ],
   "source": [
    "dimbra"
   ]
  },
  {
   "cell_type": "code",
   "execution_count": 99,
   "id": "658202d1",
   "metadata": {},
   "outputs": [
    {
     "data": {
      "text/plain": [
       "8"
      ]
     },
     "execution_count": 99,
     "metadata": {},
     "output_type": "execute_result"
    }
   ],
   "source": [
    "dimket"
   ]
  },
  {
   "cell_type": "code",
   "execution_count": 100,
   "id": "b41b188b",
   "metadata": {},
   "outputs": [
    {
     "data": {
      "text/plain": [
       "5.333333333333333"
      ]
     },
     "execution_count": 100,
     "metadata": {},
     "output_type": "execute_result"
    }
   ],
   "source": [
    "4*dimket/dimbra"
   ]
  },
  {
   "cell_type": "code",
   "execution_count": 101,
   "id": "d8d4cff2",
   "metadata": {},
   "outputs": [
    {
     "data": {
      "text/plain": [
       "3.0000000001078124"
      ]
     },
     "execution_count": 101,
     "metadata": {},
     "output_type": "execute_result"
    }
   ],
   "source": [
    "1.7320508076**2"
   ]
  },
  {
   "cell_type": "code",
   "execution_count": 145,
   "id": "27e7905b",
   "metadata": {},
   "outputs": [
    {
     "data": {
      "text/html": [
       "<div>\n",
       "<style scoped>\n",
       "    .dataframe tbody tr th:only-of-type {\n",
       "        vertical-align: middle;\n",
       "    }\n",
       "\n",
       "    .dataframe tbody tr th {\n",
       "        vertical-align: top;\n",
       "    }\n",
       "\n",
       "    .dataframe thead th {\n",
       "        text-align: right;\n",
       "    }\n",
       "</style>\n",
       "<table border=\"1\" class=\"dataframe\">\n",
       "  <thead>\n",
       "    <tr style=\"text-align: right;\">\n",
       "      <th></th>\n",
       "      <th>lam</th>\n",
       "      <th>mu</th>\n",
       "      <th>mult</th>\n",
       "      <th>dim</th>\n",
       "      <th>C2</th>\n",
       "      <th>C3</th>\n",
       "    </tr>\n",
       "  </thead>\n",
       "  <tbody>\n",
       "    <tr>\n",
       "      <th>0</th>\n",
       "      <td>4</td>\n",
       "      <td>1</td>\n",
       "      <td>1</td>\n",
       "      <td>35</td>\n",
       "      <td>36</td>\n",
       "      <td>324</td>\n",
       "    </tr>\n",
       "    <tr>\n",
       "      <th>1</th>\n",
       "      <td>2</td>\n",
       "      <td>2</td>\n",
       "      <td>1</td>\n",
       "      <td>27</td>\n",
       "      <td>24</td>\n",
       "      <td>0</td>\n",
       "    </tr>\n",
       "    <tr>\n",
       "      <th>2</th>\n",
       "      <td>1</td>\n",
       "      <td>1</td>\n",
       "      <td>1</td>\n",
       "      <td>8</td>\n",
       "      <td>9</td>\n",
       "      <td>0</td>\n",
       "    </tr>\n",
       "  </tbody>\n",
       "</table>\n",
       "</div>"
      ],
      "text/plain": [
       "   lam  mu  mult  dim  C2   C3\n",
       "0    4   1     1   35  36  324\n",
       "1    2   2     1   27  24    0\n",
       "2    1   1     1    8   9    0"
      ]
     },
     "execution_count": 145,
     "metadata": {},
     "output_type": "execute_result"
    }
   ],
   "source": [
    "irrepsket"
   ]
  },
  {
   "cell_type": "code",
   "execution_count": 147,
   "id": "611040e2",
   "metadata": {},
   "outputs": [
    {
     "data": {
      "text/plain": [
       "105"
      ]
     },
     "execution_count": 147,
     "metadata": {},
     "output_type": "execute_result"
    }
   ],
   "source": [
    "dimbra"
   ]
  },
  {
   "cell_type": "code",
   "execution_count": null,
   "id": "737f3bcd",
   "metadata": {},
   "outputs": [],
   "source": []
  }
 ],
 "metadata": {
  "kernelspec": {
   "display_name": "Python 3 (ipykernel)",
   "language": "python",
   "name": "python3"
  },
  "language_info": {
   "codemirror_mode": {
    "name": "ipython",
    "version": 3
   },
   "file_extension": ".py",
   "mimetype": "text/x-python",
   "name": "python",
   "nbconvert_exporter": "python",
   "pygments_lexer": "ipython3",
   "version": "3.9.12"
  }
 },
 "nbformat": 4,
 "nbformat_minor": 5
}
