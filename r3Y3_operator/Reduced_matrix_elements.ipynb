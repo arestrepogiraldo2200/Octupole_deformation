{
 "cells": [
  {
   "cell_type": "code",
   "execution_count": 38,
   "id": "2d3399e9",
   "metadata": {},
   "outputs": [],
   "source": [
    "import numpy as np\n",
    "from sympy.physics.quantum.cg import CG\n",
    "from sympy.physics.wigner import wigner_9j\n",
    "%run SU3_implementations.ipynb"
   ]
  },
  {
   "cell_type": "code",
   "execution_count": 39,
   "id": "e1e36db4",
   "metadata": {},
   "outputs": [],
   "source": [
    "# Function to compute the unitary 9-j \n",
    "def unitary_9j(j1,j2,j3,j4,j5,j6,j7,j8,j9):\n",
    "    try:\n",
    "        return float(wigner_9j(j1,j2,j3,j4,j5,j6,j7,j8,j9).doit())*np.sqrt((2*j3+1)*(2*j7+1)*(2*j8+1)*(2*j6+1))\n",
    "    except:\n",
    "        print(\"It was not possible to compute the 9-j coefficient\")\n",
    "        return 0"
   ]
  },
  {
   "cell_type": "code",
   "execution_count": 40,
   "id": "f188b03d",
   "metadata": {},
   "outputs": [],
   "source": [
    "# Function to compute two-shell one-body {a+a} triple-barred matrix elements <...||| {a+a}... |||...> \n",
    "#                                                    from Restrepo, et. al, (2024), ArrXiv 2405.04679\n",
    "# Arguments:\n",
    "# bra: [[f'-], λ'-, μ'-, [f'+], λ'+, μ'+, ρ', λ', μ', S'-, S'+, S'] \n",
    "# ket: [[f-], λ-, μ-, [f+], λ+, μ+, ρ, λ, μ, S-, S+, S] \n",
    "# op: [η', η, λ_o, μ_o, S_o] \n",
    "# rhob: Multiplicity of the triple-barred matrix element\n",
    "# ========> NOTE: The ρ labels must start in 0, as ρ = 0,1,2,...\n",
    "\n",
    "def ts_ob_matrix_element(bra, ket, op, rhob):\n",
    "    \n",
    "    # Extract the labels   \n",
    "    fm, lm, mm, fp, lp, mp, rho, l, m, Sm, Sp, S = ket\n",
    "    fmq, lmq, mmq, fpq, lpq, mpq, rhoq, lq, mq, Smq, Spq, Sq = bra\n",
    "    etaq, eta, lo, mo, So = op\n",
    "    \n",
    "    # Algebraic coefficient\n",
    "    coeff = (-1)**(eta+1/2+Sp+Spq+lpq-lp+mpq-mp)*np.sqrt( SU3dim(lp, mp) / SU3dim(lpq, mpq) )*np.sqrt( (2*Sp + 1)/(2*Spq + 1) )\n",
    "    \n",
    "    # Compute the unitary 9-j spin coefficient\n",
    "    coeff_9j = unitary_9j(Sm, 1/2, Smq, Sp, 1/2, Spq, S, So, Sq)\n",
    "    \n",
    "    # Compute 9-(λ,μ) coefficient involved\n",
    "    SU3Coeffs9lammu = SU39lammu(lm, mm, etaq, 0  , lmq, mmq,\n",
    "                                lp, mp, 0   , eta, lpq, mpq,\n",
    "                                l , m , lo  , mo , lq , mq )  \n",
    "        \n",
    "    # Filter 9-(λ,μ) coefficients by the values of ρ\n",
    "    SU3Coeffs9lammuFilter = SU3Coeffs9lammu[(SU3Coeffs9lammu[\"rho13\"] == rho) & (SU3Coeffs9lammu[\"rho1234\"] == rhoq) & (SU3Coeffs9lammu[\"rho1324\"] == rhob)]\n",
    "          \n",
    "    # Triple barred matrix element of lower shell\n",
    "    SU3rme_lower = SU3rme([fmq,lmq,mmq],[fm,lm,mm],etaq)\n",
    "        \n",
    "    # Triple barred matrix element of upper shell\n",
    "    SU3rme_upper = SU3rme([fp,lp,mp],[fpq,lpq,mpq],eta)\n",
    "\n",
    "    # Compute the full expression\n",
    "    return coeff*coeff_9j*float(SU3Coeffs9lammuFilter[\"value\"])*SU3rme_lower*SU3rme_upper"
   ]
  },
  {
   "cell_type": "code",
   "execution_count": 41,
   "id": "a05d15cf",
   "metadata": {},
   "outputs": [],
   "source": [
    "# Function to compute double barred matrix element of neutron-proton operator \n",
    "#                               from Troltenier, et. al, (1995), Nuc. Phys. A 586\n",
    "# Arguments:\n",
    "# op_type: \"n\" or \"p\"\n",
    "# bra: [[f'_π-],λ'_π-, μ'_π-, [f'_π+], λ'_π+, μ'_π+, ρ'_π, λ'_π, μ'_π, [f'_ν-], λ'_ν-, μ'_ν-, [f'_ν+], λ'_ν+, μ'_ν+, ρ'_ν, λ'_ν, μ'_ν, ρ', λ', μ', K', L', S'_π-, S'_π+, S'_ν-, S'_ν+, S'_π, S'_ν, S', J'] \n",
    "# ket: [[f_π-],λ_π-, μ_π-,[f_π+], λ_π+, μ_π+, ρ_π, λ_π, μ_π, [f_ν-], λ_ν-, μ_ν-, [f_ν+], λ_ν+, μ_ν+, ρ_ν, λ_ν, μ_ν, ρ, λ, μ, K, L, S_π-, S_π+, S_ν-, S_ν+, S_π, S_ν, S, J] \n",
    "# op: [η'_π, η_π, η'_ν, η_ν, λ_πo, μ_πo, λ_νo, μ_νo, ρ_o, λ_o, μ_o, K_o, L_o, S_πo, S_νo, S_o, J_o] \n",
    "# ========> NOTE: The K labels must start in 1, as K = 1,2,3,...\n",
    "# ========> NOTE: The ρ labels must start in 0, as ρ = 0,1,2,...\n",
    "\n",
    "def db_matrix_element(op_type, bra, ket, op):\n",
    "    \n",
    "    # Extract the labels\n",
    "    fpm, lpm, mpm, fpp, lpp, mpp , rhop, lp, mp, fnm, lnm, mnm, fnp, lnp, mnp, rhon, ln, mn, rho, l, m, k, L, Spm, Spp, Snm, Snp, Sp, Sn, S, J = ket\n",
    "    fpmq, lpmq, mpmq, fppq, lppq, mppq, rhopq, lpq, mpq, fnmq, lnmq, mnmq, fnpq, lnpq, mnpq, rhonq,lnq, mnq, rhoq, lq, mq, kq, Lq, Spmq, Sppq, Snmq, Snpq, Spq, Snq, Sq, Jq = bra\n",
    "    etapq, etap, etanq, etan, lpo, mpo, lno, mno, rhoo, lo, mo, ko, Lo, Spo, Sno, So, Jo = op\n",
    "\n",
    "    # Compute the two unitary 9-j coefficients\n",
    "    coeff_9j_1 = unitary_9j(L, Lo, Lq, S, So, Sq, J, Jo, Jq)\n",
    "    coeff_9j_2 = unitary_9j(Sp, Spo, Spq, Sn, Sno, Snq, S, So, Sq)\n",
    "    \n",
    "    # Compute all Wigner coefficients involved\n",
    "    SU3Coeffs = SU3WignerCoeff(l, m, L, lo, mo, Lo, lq, mq, Lq) \n",
    "    \n",
    "    # Filter over K, K' and Ko\n",
    "    SU3CoeffsKFilter = SU3Coeffs[(SU3Coeffs[\"k1\"] == k) & (SU3Coeffs[\"k2\"] == ko) & (SU3Coeffs[\"k3\"] == kq)]\n",
    "    \n",
    "    # Compute all 9-(λ,μ) coefficients involved\n",
    "    SU3Coeffs9lammu = SU39lammu(lp, mp, lpo, mpo, lpq, mpq,\n",
    "                                ln, mn, lno, mno, lnq, mnq,\n",
    "                                l , m , lo , mo , lq , mq )\n",
    "    \n",
    "    # In case the SU(3) irreps do not couple\n",
    "    if len(SU3Coeffs9lammu) == 0:\n",
    "        return 0\n",
    "\n",
    "    # Filter 9-(λ,μ) coefficients by the values of ρ, ρ', ρ_o\n",
    "    SU3Coeffs9lammuFilter = SU3Coeffs9lammu[(SU3Coeffs9lammu[\"rho13\"] == rho) & (SU3Coeffs9lammu[\"rho1234\"] == rhoq) & (SU3Coeffs9lammu[\"rho24\"] == rhoo)]\n",
    "\n",
    "    # Identify the values of the ρ\n",
    "    rhobs  = [int(i[3:])-1 for i in (list(SU3Coeffs.columns)) if i[:3] == \"rho\"]\n",
    "    rhopis = list(SU3Coeffs9lammuFilter['rho12'].unique())\n",
    "    rhonus = list(SU3Coeffs9lammuFilter['rho34'].unique())\n",
    "    \n",
    "    # Summation of eq. 10 in Troltenier, et. al, (1995), Nuc. Phys. A 586\n",
    "    summation = 0\n",
    "    for rhob in rhobs:\n",
    "        for rhopi in rhopis:\n",
    "            for rhonu in rhonus:\n",
    "                \n",
    "                # Extract SU(3) Wigner coefficient\n",
    "                SU3Coeffrhos  = float(SU3CoeffsKFilter[f\"rho{rhob+1}\"])\n",
    "                \n",
    "                # Extract SU(3) 9-(λ,μ) coefficient\n",
    "                SU39lammurhos = float(SU3Coeffs9lammuFilter[(SU3Coeffs9lammuFilter[\"rho12\"] == rhopi) & (SU3Coeffs9lammuFilter[\"rho34\"] == rhonu) & (SU3Coeffs9lammuFilter[\"rho1324\"] == rhob)][\"value\"])\n",
    "                \n",
    "                # Compute the proper matrix element depending on the operator type\n",
    "                if (op_type == \"p\"):\n",
    "                    #Compute proton triple-barred matrix element \n",
    "                    SU3rme = ts_ob_matrix_element([fpmq, lpmq, mpmq, fppq, lppq, mppq, rhopq, lpq, mpq, Spmq, Sppq, Spq],[fpm, lpm, mpm, fpp, lpp, mpp, rhop, lp, mp, Spm, Spp, Sp],[etapq, etap, lpo, mpo, Spo], rhopi)\n",
    "\n",
    "                if (op_type == \"n\"):\n",
    "                    #Compute neutron triple-barred matrix element \n",
    "                    SU3rme = ts_ob_matrix_element([fnmq, lnmq, mnmq, fnpq, lnpq, mnpq, rhonq, lnq, mnq, Snmq, Snpq, Snq],[fnm, lnm, mnm, fnp, lnp, mnp, rhon, ln, mn, Snm, Snp, Sn],[etanq, etan, lno, mno, Sno], rhonu)\n",
    "\n",
    "                summation += SU3Coeffrhos*SU39lammurhos*SU3rme\n",
    "    \n",
    "    return summation"
   ]
  },
  {
   "cell_type": "markdown",
   "id": "3f1ba5e0",
   "metadata": {},
   "source": [
    "# Examples"
   ]
  },
  {
   "cell_type": "code",
   "execution_count": 53,
   "id": "87283d3e",
   "metadata": {
    "scrolled": false
   },
   "outputs": [
    {
     "data": {
      "text/plain": [
       "-0.1017955838328152"
      ]
     },
     "execution_count": 53,
     "metadata": {},
     "output_type": "execute_result"
    }
   ],
   "source": [
    "db_matrix_element(\"p\", [[2,2,2,2],26,4,[0],0,0,0,26,4,[2,2,2,2],34,4,[0],0,0,0,34,4,0,60,8,1,4,0,0,0,0,0,0,0,4], [[2,2,2,1],25,2,[1],6,0,0,31,2,[2,2,2,2],34,4,[0],0,0,0,34,4,0,65,6,1,3,1/2,1/2,0,0,0,0,0,3], [5,6,0,0,3,4,0,0,0,3,4,1,1,0,0,0,1])"
   ]
  },
  {
   "cell_type": "code",
   "execution_count": 54,
   "id": "8c05cd7a",
   "metadata": {},
   "outputs": [
    {
     "data": {
      "text/plain": [
       "-0.08977526609317181"
      ]
     },
     "execution_count": 54,
     "metadata": {},
     "output_type": "execute_result"
    }
   ],
   "source": [
    "db_matrix_element(\"n\", [[2,2,2,2],26,4,[0],0,0,0,26,4,[2,2,2,2],34,4,[0],0,0,0,34,4,0,60,8,1,4,0,0,0,0,0,0,0,4], [[2,2,2,2],26,4,[0],0,0,0,26,4,[2,2,2,1],32,2,[1],7,0,0,39,2,0,65,6,1,3,0,0,1/2,1/2,0,0,0,3], [0,0,6,7,0,0,3,4,0,3,4,1,1,0,0,0,1])"
   ]
  },
  {
   "cell_type": "code",
   "execution_count": 58,
   "id": "c524f05f",
   "metadata": {},
   "outputs": [
    {
     "data": {
      "text/plain": [
       "-0.82886246529111"
      ]
     },
     "execution_count": 58,
     "metadata": {},
     "output_type": "execute_result"
    }
   ],
   "source": [
    "ts_ob_matrix_element([[2,2,2,2],26,4,[0],0,0,0,26,4,0,0,0], [[2,2,2,1],25,2,[1],6,0,0,31,2,1/2,1/2,0], [5,6,3,4,0], 0)"
   ]
  },
  {
   "cell_type": "code",
   "execution_count": 59,
   "id": "7594fa24",
   "metadata": {},
   "outputs": [
    {
     "data": {
      "text/plain": [
       "-0.6928789768388224"
      ]
     },
     "execution_count": 59,
     "metadata": {},
     "output_type": "execute_result"
    }
   ],
   "source": [
    "ts_ob_matrix_element([[2,2,2,2],34,4,[0],0,0,0,34,4,0,0,0], [[2,2,2,1],32,2,[1],7,0,0,39,2,1/2,1/2,0], [6,7,3,4,0], 0)"
   ]
  },
  {
   "cell_type": "markdown",
   "id": "02ea2407",
   "metadata": {},
   "source": [
    "# Example of B(E1) $3^-\\rightarrow2^+$  transition as in Restrepo, et. al, (2024), ArrXiv 2405.04679"
   ]
  },
  {
   "cell_type": "code",
   "execution_count": 43,
   "id": "0572e2e0",
   "metadata": {},
   "outputs": [
    {
     "name": "stdout",
     "output_type": "stream",
     "text": [
      "5 6\n",
      " ***** XEWU3 DIMENSION OVERFLOW ==============================================================\n",
      "4 5\n",
      " ***** XEWU3 DIMENSION OVERFLOW ==============================================================\n",
      " ***** XEWU3 DIMENSION OVERFLOW ==============================================================\n",
      "3 4\n",
      " ***** XEWU3 DIMENSION OVERFLOW ==============================================================\n",
      "2 3\n",
      "1 2\n",
      "0 1\n"
     ]
    }
   ],
   "source": [
    "pp = []\n",
    "for i in range(5,-1,-1):\n",
    "    print(i,i+1)\n",
    "    pp.append(db_matrix_element(\"p\", [[2,2,2,2],26,4,[0],0,0,0,26,4,[2,2,2,2],34,4,[0],0,0,0,34,4,0,60,8,1,2,0,0,0,0,0,0,0,2], [[2,2,2,1],25,2,[1],6,0,0,31,2,[2,2,2,2],34,4,[0],0,0,0,34,4,0,65,6,1,3,1/2,1/2,0,0,0,0,0,3], [5,6,0,0,i,i+1,0,0,0,i,i+1,1,1,0,0,0,1]))"
   ]
  },
  {
   "cell_type": "code",
   "execution_count": 44,
   "id": "8d7913b0",
   "metadata": {},
   "outputs": [
    {
     "data": {
      "text/plain": [
       "[-0.033513440212452755,\n",
       " -0.1494608629931636,\n",
       " 0.08190408303924243,\n",
       " 0.1803423683435272,\n",
       " 0,\n",
       " 0]"
      ]
     },
     "execution_count": 44,
     "metadata": {},
     "output_type": "execute_result"
    }
   ],
   "source": [
    "pp"
   ]
  },
  {
   "cell_type": "code",
   "execution_count": 60,
   "id": "dd3cae43",
   "metadata": {},
   "outputs": [
    {
     "name": "stdout",
     "output_type": "stream",
     "text": [
      "6 7\n",
      " ***** XEWU3 DIMENSION OVERFLOW ==============================================================\n",
      " ***** XEWU3 DIMENSION OVERFLOW ==============================================================\n",
      " ***** XEWU3 DIMENSION OVERFLOW ==============================================================\n",
      "5 6\n",
      " ***** XEWU3 DIMENSION OVERFLOW ==============================================================\n",
      " ***** XEWU3 DIMENSION OVERFLOW ==============================================================\n",
      "4 5\n",
      " ***** XEWU3 DIMENSION OVERFLOW ==============================================================\n",
      "3 4\n",
      "2 3\n",
      "1 2\n",
      "0 1\n"
     ]
    }
   ],
   "source": [
    "nn = []\n",
    "for i in range(6,-1,-1):\n",
    "    print(i,i+1)\n",
    "    nn.append(db_matrix_element(\"n\", [[2,2,2,2],26,4,[0],0,0,0,26,4,[2,2,2,2],34,4,[0],0,0,0,34,4,0,60,8,1,2,0,0,0,0,0,0,0,2], [[2,2,2,2],26,4,[0],0,0,0,26,4,[2,2,2,1],32,2,[1],7,0,0,39,2,0,65,6,1,3,0,0,1/2,1/2,0,0,0,3], [0,0,6,7,0,0,i,i+1,0,i,i+1,1,1,0,0,0,1]))"
   ]
  },
  {
   "cell_type": "code",
   "execution_count": 61,
   "id": "12a97593",
   "metadata": {},
   "outputs": [
    {
     "data": {
      "text/plain": [
       "[0.04128890687506161,\n",
       " -0.04739516608902348,\n",
       " -0.15510285891122647,\n",
       " 0.0722326113334292,\n",
       " 0.14386345168053072,\n",
       " 0,\n",
       " 0]"
      ]
     },
     "execution_count": 61,
     "metadata": {},
     "output_type": "execute_result"
    }
   ],
   "source": [
    "nn"
   ]
  },
  {
   "cell_type": "code",
   "execution_count": 50,
   "id": "58819459",
   "metadata": {},
   "outputs": [],
   "source": [
    "ppexp = np.array([-0.5245, 0.2910, 0.7517, -0.6500, -2.4657, 2.4376])\n",
    "nnexp = np.array([-0.4823, -0.3451, 0.5421, 0.7759, -0.9169, -2.9365, 3.0565])"
   ]
  },
  {
   "cell_type": "code",
   "execution_count": 51,
   "id": "1b927926",
   "metadata": {},
   "outputs": [],
   "source": [
    "# Parameters\n",
    "a =  2.2703772518796668 \n",
    "b =  -1.175719088119022"
   ]
  },
  {
   "cell_type": "code",
   "execution_count": 52,
   "id": "21367d95",
   "metadata": {},
   "outputs": [
    {
     "data": {
      "text/plain": [
       "0.00021478262812364883"
      ]
     },
     "execution_count": 52,
     "metadata": {},
     "output_type": "execute_result"
    }
   ],
   "source": [
    "(2*2+1)/(2*3+1)*( 2.4644*(a*sum(ppexp*pp) + b*sum(nnexp*nn)) )**2\n",
    "# The value obtained before is 0.00021518739819449415  e²fm²"
   ]
  },
  {
   "cell_type": "markdown",
   "id": "5648a936",
   "metadata": {},
   "source": [
    "# Example of B(E3) $3^-\\rightarrow0^+$ transition"
   ]
  },
  {
   "cell_type": "code",
   "execution_count": null,
   "id": "17071e80",
   "metadata": {},
   "outputs": [],
   "source": []
  },
  {
   "cell_type": "code",
   "execution_count": null,
   "id": "1e92b070",
   "metadata": {},
   "outputs": [],
   "source": []
  },
  {
   "cell_type": "code",
   "execution_count": null,
   "id": "9af4db75",
   "metadata": {},
   "outputs": [],
   "source": []
  },
  {
   "cell_type": "code",
   "execution_count": null,
   "id": "79bd8547",
   "metadata": {},
   "outputs": [],
   "source": []
  }
 ],
 "metadata": {
  "kernelspec": {
   "display_name": "Python 3 (ipykernel)",
   "language": "python",
   "name": "python3"
  },
  "language_info": {
   "codemirror_mode": {
    "name": "ipython",
    "version": 3
   },
   "file_extension": ".py",
   "mimetype": "text/x-python",
   "name": "python",
   "nbconvert_exporter": "python",
   "pygments_lexer": "ipython3",
   "version": "3.9.12"
  }
 },
 "nbformat": 4,
 "nbformat_minor": 5
}
