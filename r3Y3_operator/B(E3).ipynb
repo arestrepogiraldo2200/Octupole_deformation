{
 "cells": [
  {
   "cell_type": "markdown",
   "id": "5648a936",
   "metadata": {},
   "source": [
    "# B(E3) $3^-\\rightarrow0^+$ transition\n",
    "\n",
    "The octupole transition operator is\n",
    "$$\n",
    "T^3_{\\mu}(E) = b_0^3\\Big(e_{\\pi}Q^3_{\\mu\\pi} +e_{\\nu}Q^3_{\\mu\\pi}\\Big)\n",
    "$$\n",
    "\n",
    "where\n",
    "$$\n",
    "Q^3_{\\mu\\sigma} = \\sum_{i=1}^{Z(N)}r^3_{\\sigma}(i)Y^3_\\mu(\\Omega(i))\n",
    "$$\n",
    "\n",
    "The excited state considering contributions from both proton and neutrons is\n",
    "\n",
    "$$\n",
    "|\\Psi\\rangle = \\sqrt{\\alpha}|\\Psi_\\pi\\rangle + \\sqrt{1-\\alpha}|\\Psi_\\nu\\rangle\n",
    "$$\n",
    "\n",
    "The reduced transition probability is given by\n",
    "\n",
    "$$\n",
    "B(E3; 3^-\\rightarrow 0^+) = \\frac{1}{7}|\\langle\\Psi_{J=0}||\\hspace{1mm} T^3(E) \\hspace{1mm}||\\Psi'_{J=3}\\rangle|^2\n",
    "$$\n",
    "\n",
    "with\n",
    "$$\n",
    "\\langle\\Psi||\\hspace{1mm} T^3(E) \\hspace{1mm}||\\Psi'\\rangle = b_0^3\\Big(a\\langle\\Psi_{\\pi,J=0}||\\hspace{1mm}Q^3_{\\pi} \\hspace{1mm}||\\Psi'_{\\pi,J=3}\\rangle +b\\langle\\Psi_{\\nu,J=0}||\\hspace{1mm}Q^3_{\\nu}\\hspace{1mm}||\\Psi'_{\\nu,J=3}\\rangle\\Big)\n",
    "$$\n",
    "\n",
    "where the $\\langle\\Psi_{J=0}||\\hspace{1mm}Q^3_{\\sigma} \\hspace{1mm}||\\Psi'_{J=3}\\rangle$ are computed using the  codes in the $SU(3)$ reduced matrix elements implementations. $a$ and $b$ are parameters which involve the effective charges and the superposition parameter $\\alpha$. \n",
    "\n",
    "The following relation can be derived\n",
    "\n",
    "$$\n",
    "B(E3; 3^-\\rightarrow 0^+) = \\frac{1}{49}B(E3;0^+ \\rightarrow  3^-) \n",
    "$$\n",
    "\n",
    "In the literature the following collective equation can be found (Kibédi and Spear, Atomic Data and Nuclear Data Tables 80, 35-82 (2002))\n",
    "\n",
    "$$\n",
    "B(E3; 0^+ \\rightarrow 3^-) = \\Big(\\frac{3ZeR^3\\beta_3}{4\\pi}\\Big)^2\n",
    "$$\n",
    "\n",
    "or an extension (Greiner, Nuclear models eq 6.249 and Leander Reflection-asymmetric rotor model of odd A -219—229 nuclei)\n",
    "\n",
    "$$\n",
    "B(E3; 0^+ \\rightarrow 3^-) = \\Big(\\frac{3ZeR^3\\beta_3}{4\\pi}\\Big)^2\\Big(1+\\frac{2\\sqrt{5}}{3\\sqrt{\\pi}}\\beta_2\\Big)^2\n",
    "$$\n",
    "\n",
    "Where $R=1.2A^{1/3}\\hspace{1mm}\\text{fm}$. Assuming $b \\approx -a/2$ he following relation can be obtained\n",
    "\n",
    "$$\n",
    "a = \\frac{3ZA{r_0}^3\\beta_3}{4\\sqrt{7}\\pi|\\langle\\Psi_{J=0}||\\hspace{1mm} T^3(E) \\hspace{1mm}||\\Psi'_{J=3}\\rangle|}\n",
    "$$\n"
   ]
  },
  {
   "cell_type": "code",
   "execution_count": 3,
   "id": "fe542682",
   "metadata": {},
   "outputs": [],
   "source": [
    "%run Matrix_Elements_Implementations.ipynb"
   ]
  },
  {
   "cell_type": "code",
   "execution_count": 4,
   "id": "2b90ee1b",
   "metadata": {},
   "outputs": [
    {
     "name": "stdout",
     "output_type": "stream",
     "text": [
      " ***** XEWU3 DIMENSION OVERFLOW ==============================================================\n",
      " ***** XEWU3 DIMENSION OVERFLOW ==============================================================\n",
      " ***** XEWU3 DIMENSION OVERFLOW ==============================================================\n",
      " ***** XEWU3 DIMENSION OVERFLOW ==============================================================\n",
      " ***** XEWU3 DIMENSION OVERFLOW ==============================================================\n",
      " ***** XEWU3 DIMENSION OVERFLOW ==============================================================\n",
      " ***** XEWU3 DIMENSION OVERFLOW ==============================================================\n",
      " ***** XEWU3 DIMENSION OVERFLOW ==============================================================\n",
      " ***** XEWU3 DIMENSION OVERFLOW ==============================================================\n"
     ]
    }
   ],
   "source": [
    "pp = []\n",
    "for i in range(5,0,-1):\n",
    "    for k in range(1,3):\n",
    "        #print(i,i+1, k)\n",
    "        pp.append(db_matrix_element(\"p\", [[2,2,2,2],26,4,[0],0,0,0,26,4,[2,2,2,2],34,4,[0],0,0,0,34,4,0,60,8,1,0,0,0,0,0,0,0,0,0], [[2,2,2,1],25,2,[1],6,0,0,31,2,[2,2,2,2],34,4,[0],0,0,0,34,4,0,65,6,1,3,1/2,1/2,0,0,0,0,0,3], [5,6,0,0,i,i+1,0,0,0,i,i+1,k,3,0,0,0,3], \"BE3p\"))\n",
    "        \n",
    "        # No K multiplicity for (1,2)\n",
    "        if i == 1:\n",
    "            break"
   ]
  },
  {
   "cell_type": "code",
   "execution_count": 5,
   "id": "6f05c47a",
   "metadata": {},
   "outputs": [
    {
     "data": {
      "text/plain": [
       "array([-0.12690025,  0.01340199, -0.0945117 ,  0.10904615,  0.33166112,\n",
       "        0.        ,  0.21586594,  0.        ,  0.        ])"
      ]
     },
     "execution_count": 5,
     "metadata": {},
     "output_type": "execute_result"
    }
   ],
   "source": [
    "pp = np.array(pp)\n",
    "pp"
   ]
  },
  {
   "cell_type": "code",
   "execution_count": 6,
   "id": "9af4db75",
   "metadata": {},
   "outputs": [
    {
     "name": "stdout",
     "output_type": "stream",
     "text": [
      " ***** XEWU3 DIMENSION OVERFLOW ==============================================================\n",
      " ***** XEWU3 DIMENSION OVERFLOW ==============================================================\n",
      " ***** XEWU3 DIMENSION OVERFLOW ==============================================================\n",
      " ***** XEWU3 DIMENSION OVERFLOW ==============================================================\n",
      " ***** XEWU3 DIMENSION OVERFLOW ==============================================================\n",
      " ***** XEWU3 DIMENSION OVERFLOW ==============================================================\n"
     ]
    }
   ],
   "source": [
    "nn = []\n",
    "for i in range(6,0,-1):\n",
    "    for k in range(1,3):\n",
    "        #print(i,i+1, k)\n",
    "        nn.append(db_matrix_element(\"n\", [[2,2,2,2],26,4,[0],0,0,0,26,4,[2,2,2,2],34,4,[0],0,0,0,34,4,0,60,8,1,0,0,0,0,0,0,0,0,0], [[2,2,2,2],26,4,[0],0,0,0,26,4,[2,2,2,1],32,2,[1],7,0,0,39,2,0,65,6,1,3,0,0,1/2,1/2,0,0,0,3], [0,0,6,7,0,0,i,i+1,0,i,i+1,k,3,0,0,0,3], \"BE3n\"))        \n",
    "        \n",
    "        # No K multiplicity for (1,2)\n",
    "        if i == 1:\n",
    "            break"
   ]
  },
  {
   "cell_type": "code",
   "execution_count": 7,
   "id": "9159b338",
   "metadata": {},
   "outputs": [
    {
     "data": {
      "text/plain": [
       "array([ 0.01825074, -0.03950154, -0.17946407,  0.01895327, -0.09807942,\n",
       "        0.11316253,  0.29249762,  0.        ,  0.17220146,  0.        ,\n",
       "        0.        ])"
      ]
     },
     "execution_count": 7,
     "metadata": {},
     "output_type": "execute_result"
    }
   ],
   "source": [
    "nn = np.array(nn)\n",
    "nn"
   ]
  },
  {
   "cell_type": "code",
   "execution_count": 8,
   "id": "09ea2dce",
   "metadata": {},
   "outputs": [],
   "source": [
    "# Proton expansion \n",
    "p_exp = np.array([9.751540, -9.977757, -5.148428, 5.869337, -7.272730, 13.101688, 16.065801, -7.160685, 0.267618])\n",
    "\n",
    "#5.0\t6.0\t1.0\t 9.751540\n",
    "#        2.0\t-9.977757\n",
    "#4.0\t5.0\t1.0\t-5.148428\n",
    "#        2.0\t 5.869337\n",
    "#3.0\t4.0\t1.0\t-7.272730\n",
    "#        2.0\t 13.101688\n",
    "#2.0\t3.0\t1.0\t 16.065801\n",
    "#        2.0\t-7.160685\n",
    "#1.0\t2.0\t1.0\t 0.267618"
   ]
  },
  {
   "cell_type": "code",
   "execution_count": 9,
   "id": "afaf81c9",
   "metadata": {},
   "outputs": [],
   "source": [
    "# Proton expansion \n",
    "n_exp = np.array([ 2.209156, -16.022495, 1.603821, -8.195877, -6.615524, 15.102062, -2.677183, 15.848214, 22.113754, -14.143197, -5.352645 ])\n",
    "\n",
    "#6.0\t7.0\t1.0\t 2.209156\n",
    "#        2.0\t-16.022495\n",
    "#5.0\t6.0\t1.0\t 1.603821\n",
    "#        2.0\t-8.195877  \n",
    "#4.0\t5.0\t1.0\t-6.615524\n",
    "#        2.0\t 15.102062 \n",
    "#3.0\t4.0\t1.0\t-2.677183\n",
    "#        2.0\t 15.848214    \n",
    "#2.0\t3.0\t1.0\t 22.113754\n",
    "#        2.0\t-14.143197   \n",
    "#1.0\t2.0\t1.0\t-5.352645"
   ]
  },
  {
   "cell_type": "code",
   "execution_count": 10,
   "id": "466b667e",
   "metadata": {},
   "outputs": [
    {
     "name": "stdout",
     "output_type": "stream",
     "text": [
      "a ≈  16.10666624468876\n",
      "\n",
      "B(E3;3⁻->0⁺) =  519.34180713033 e²fm⁶ = 0.00051934180713033 e²b³ =  0.17424920412482406 W.u.\n",
      "B(E3;0⁺->3⁻) =  25447.74854938617 e²fm⁶ = 0.02544774854938617 e²b³ =  8.538211002116379 W.u.\n",
      "\n",
      "β3 =  -0.019181343634295037\n",
      "ε3 =  0.014386007725721277\n"
     ]
    }
   ],
   "source": [
    "# Assuming b ≈ -a/2 and the goodness of the collective equation in Kibédi and Spear,\n",
    "#                              Atomic Data and Nuclear Data Tables 80, 35-82 (2002)\n",
    "# Assuming also the value of β_3 = -0.153 from FRDM\n",
    "\n",
    "a2 = 1/(7*(2.4644**3*( sum(p_exp*pp) - 1/2*sum(n_exp*nn)) )**2) * (3*90*1.2**3*224*(-0.153))**2/(4*np.pi)**2\n",
    "a = np.sqrt(a2)\n",
    "b = -a/10\n",
    "\n",
    "# Weisskopf unit\n",
    "WU_E3 = 5.940*10**(-8)*224**2*100**3\n",
    "BE30 = (2*0+1)/(2*3+1)*(2.4644**3*( a*sum(p_exp*pp) + b*sum(n_exp*nn)) )**2\n",
    "BE03 = ((2*3+1)/(2*0+1))**2*BE30\n",
    "beta3 = -(4*np.pi)/(3*90*224*1.2**3)*(BE03)**(1/2)    # r_0 = 1.2 fm\n",
    "\n",
    "print(\"a ≈ \", a)\n",
    "print(\"\\nB(E3;3⁻->0⁺) = \", BE30, \"e²fm⁶ =\",BE30*10**-6, \"e²b³ = \", BE30/WU_E3, \"W.u.\")\n",
    "print(\"B(E3;0⁺->3⁻) = \", BE03 ,\"e²fm⁶ =\",BE03*10**-6, \"e²b³ = \", BE03/WU_E3, \"W.u.\")\n",
    "print(\"\\nβ3 = \", beta3)            #                        FRDM: -0.153\n",
    "print(\"ε3 = \", -0.75*beta3)      # Nilsson book equation. FRDM: 0.11"
   ]
  },
  {
   "cell_type": "code",
   "execution_count": 11,
   "id": "88a869d9",
   "metadata": {},
   "outputs": [],
   "source": [
    "# MUST FIND A BETTER ARGUMENT FOR REDUCING b(a)\n",
    "# Theortetical value in J. Phys. G: Nucl. Part. Phys. 43 (2016) 073002 of about 60 W.u for 0 -> 3 transition"
   ]
  },
  {
   "cell_type": "code",
   "execution_count": 12,
   "id": "748dcc88",
   "metadata": {},
   "outputs": [
    {
     "name": "stdout",
     "output_type": "stream",
     "text": [
      "B(E3;0⁺->3⁻) =  2127660.5743528446 e²fm⁶\n",
      "B(E3;0⁺->3⁻) =  2.1276605743528445 e²b³\n",
      "B(E3;0⁺->3⁻) =  0.0007138712051265889 W.u.\n",
      "B(E3;3⁻->0⁺) =  1.4568800104624265e-05 W.u.\n"
     ]
    }
   ],
   "source": [
    "# Extended expression\n",
    "b3 = -0.153\n",
    "b2 = 0.174\n",
    "BE3 = ((3*90*1.2**3*224*b3)/(4*np.pi))**2*(1+(2*np.sqrt(5))/(3*np.sqrt(np.pi))*b2)**2\n",
    "print(\"B(E3;0⁺->3⁻) = \",BE3, \"e²fm⁶\")\n",
    "print(\"B(E3;0⁺->3⁻) = \",BE3*10**-6, \"e²b³\")\n",
    "print(\"B(E3;0⁺->3⁻) = \",BE3*10**-6/WU_E3, \"W.u.\")\n",
    "print(\"B(E3;3⁻->0⁺) = \",BE3*10**-6/WU_E3/49, \"W.u.\")"
   ]
  },
  {
   "cell_type": "code",
   "execution_count": null,
   "id": "f2910fca",
   "metadata": {},
   "outputs": [],
   "source": []
  },
  {
   "cell_type": "code",
   "execution_count": null,
   "id": "0b9506de",
   "metadata": {},
   "outputs": [],
   "source": []
  },
  {
   "cell_type": "code",
   "execution_count": null,
   "id": "a8cee999",
   "metadata": {},
   "outputs": [],
   "source": []
  }
 ],
 "metadata": {
  "kernelspec": {
   "display_name": "Python 3 (ipykernel)",
   "language": "python",
   "name": "python3"
  },
  "language_info": {
   "codemirror_mode": {
    "name": "ipython",
    "version": 3
   },
   "file_extension": ".py",
   "mimetype": "text/x-python",
   "name": "python",
   "nbconvert_exporter": "python",
   "pygments_lexer": "ipython3",
   "version": "3.9.12"
  }
 },
 "nbformat": 4,
 "nbformat_minor": 5
}
