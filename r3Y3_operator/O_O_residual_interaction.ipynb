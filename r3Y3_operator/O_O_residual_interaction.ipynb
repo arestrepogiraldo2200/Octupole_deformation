{
 "cells": [
  {
   "cell_type": "markdown",
   "id": "c81ec9f7",
   "metadata": {},
   "source": [
    "# Residual O$\\cdot$O interaction\n",
    "\n",
    "The total octupole operator has a contribution both from protons ($\\pi$) and neutrons ($\\nu$) expressed as \n",
    "\n",
    "$$O = O_{\\pi}+O_{\\nu}$$\n",
    "\n",
    "Each contribution can be expanded in $SU(3)$ tensors as \n",
    "\n",
    "$$\n",
    "O_{\\sigma M_o}^{\\hspace{2mm}L_o=J_o=3} = \\sum_{(\\lambda_o,\\mu_o),K_o,\\eta,\\eta'}\\mathcal{V}_{\\sigma}(\\lambda_o,\\mu_o,K_o,\\eta,\\eta')\\big\\{a^{\\dagger}_{(\\eta',0)}\\tilde{a}_{(0,\\eta)}\\big\\}_{\\sigma\\hspace{20mm}M_o}^{(\\lambda_o,\\mu_o),K_o,L_o=J_o=3}\n",
    "$$\n",
    "\n",
    "where $\\sigma= \\pi,\\nu$ and $\\eta \\neq \\eta'$ since odd-L operators change parity. Thus the octupole-octupole interaction can be written as \n",
    "\n",
    "$$\n",
    "O\\cdot O = -\\sqrt{7}\\sum_{M_o}\\langle 3 ,M_o, 3, -M_o |0,0\\rangle\\sum_{\\substack{\\sigma, \\sigma'\\\\(\\lambda_o,\\mu_o),K_o,\\eta,\\eta'\\\\(\\lambda_o',\\mu_o'),K_o',\\eta'',\\eta'''}}\\mathcal{V}_{\\sigma}(\\lambda_o,\\mu_o,K_o,\\eta,\\eta')\\hspace{1mm}\\mathcal{V}_{\\sigma'}(\\lambda_o',\\mu_o',K_o',\\eta'',\\eta''')\\\\ \\hspace{80mm}\\times\n",
    "\\big\\{a^{\\dagger}_{(\\eta',0)}\\tilde{a}_{(0,\\eta)}\\big\\}_{\\sigma\\hspace{20mm}M_o}^{(\\lambda_o,\\mu_o),K_o,L_o=J_o=3}\n",
    "\\big\\{a^{\\dagger}_{(\\eta''',0)}\\tilde{a}_{(0,\\eta'')}\\big\\}_{\\sigma'\\hspace{17mm}-M_o}^{(\\lambda_o',\\mu_o'),K_o',L_o=J_o=3}\n",
    "$$\n",
    "\n",
    "$$\\\\= \\sum_{\\substack{M_o, \\sigma, \\sigma'\\\\(\\lambda_o,\\mu_o),K_o,\\eta,\\eta'\\\\(\\lambda_o',\\mu_o'),K_o',\\eta'',\\eta'''}}(-1)^{M_o}\\mathcal{V}_{\\sigma}(\\lambda_o,\\mu_o,K_o,\\eta,\\eta')\\hspace{1mm}\\mathcal{V}_{\\sigma'}(\\lambda_o',\\mu_o',K_o',\\eta'',\\eta''')\n",
    "\\big\\{a^{\\dagger}_{(\\eta',0)}\\tilde{a}_{(0,\\eta)}\\big\\}_{\\sigma\\hspace{20mm}M_o}^{(\\lambda_o,\\mu_o),K_o,L_o=J_o=3}\n",
    "\\big\\{a^{\\dagger}_{(\\eta''',0)}\\tilde{a}_{(0,\\eta'')}\\big\\}_{\\sigma'\\hspace{17mm}-M_o}^{(\\lambda_o',\\mu_o'),K_o',L_o=J_o=3}\n",
    "$$\n",
    "\n",
    "\n",
    "The two-shell states are given by\n",
    "\n",
    "$$\n",
    "|\\Psi_{\\pi+\\nu}\\rangle = \\Bigg|\\Big\\{[1^{N_\\pi}], [f_{\\pi-}]\\otimes[f_{\\pi+}], \\alpha_{\\pi-}(\\lambda,\\mu)_{\\pi-}\\otimes \\alpha_{\\pi+}(\\lambda,\\mu)_{\\pi+}, \\rho_{\\pi}(\\lambda,\\mu)_{\\pi}, S_{\\pi-}\\otimes S_{\\pi+}, S_{\\pi}\\Big\\} \\\\ \\otimes \\Big\\{[1^{N_\\nu}], [f_{\\nu-}]\\otimes[f_{\\nu+}],  \\alpha_{\\nu-}(\\lambda,\\mu)_{\\nu-}\\otimes \\alpha_{\\nu+}(\\lambda,\\mu)_{\\nu+}, \\rho_{\\nu}(\\lambda,\\mu)_{\\nu}, S_{\\nu-}\\otimes S_{\\nu+}, S_{\\nu}\\Big\\},\\\\\n",
    "\\rho_{\\pi+\\nu}(\\lambda,\\mu)_{\\pi+\\nu}, K_{\\pi+\\nu}, L_{\\pi+\\nu}, S_{\\pi+\\nu}; J_{\\pi+\\nu}, M_{\\pi+\\nu} \\Bigg\\rangle\n",
    "$$\n",
    "\n",
    "and the matrix elements of $O\\cdot O$ are \n",
    "\n",
    "$$\n",
    "\\langle\\Psi_{\\pi+\\nu}|O\\cdot O|\\Psi'_{\\pi+\\nu}\\rangle \n",
    "= \\sum_{\\substack{M_o, \\sigma, \\sigma'\\\\(\\lambda_o,\\mu_o),K_o,\\eta,\\eta'\\\\(\\lambda_o',\\mu_o'),K_o',\\eta'',\\eta'''}}(-1)^{M_o}\\mathcal{V}_{\\sigma}(\\lambda_o,\\mu_o,K_o,\\eta,\\eta')\\hspace{1mm}\\mathcal{V}_{\\sigma'}(\\lambda_o',\\mu_o',K_o',\\eta'',\\eta''')\n",
    "\\\\ \\times \\Big\\langle\\Psi_{\\pi+\\nu}\\Big|\n",
    "\\big\\{a^{\\dagger}_{(\\eta',0)}\\tilde{a}_{(0,\\eta)}\\big\\}_{\\sigma\\hspace{20mm}M_o}^{(\\lambda_o,\\mu_o),K_o,L_o=J_o=3}\n",
    "\\big\\{a^{\\dagger}_{(\\eta''',0)}\\tilde{a}_{(0,\\eta'')}\\big\\}_{\\sigma'\\hspace{17mm}-M_o}^{(\\lambda_o',\\mu_o'),K_o',L_o=J_o=3}\n",
    "\\Big|\\Psi'_{\\pi+\\nu}\\Big\\rangle\n",
    "\\\\= \\sum_{\\substack{M_o, \\sigma, \\sigma'\\\\(\\lambda_o,\\mu_o),K_o,\\eta,\\eta'\\\\(\\lambda_o',\\mu_o'),K_o',\\eta'',\\eta'''\\\\ \\Psi''_{\\pi+\\nu}}}(-1)^{M_o}\\mathcal{V}_{\\sigma}(\\lambda_o,\\mu_o,K_o,\\eta,\\eta')\\hspace{1mm}\\mathcal{V}_{\\sigma'}(\\lambda_o',\\mu_o',K_o',\\eta'',\\eta''')\n",
    "\\\\ \\times \\Big\\langle\\Psi_{\\pi+\\nu}\\Big|\n",
    "\\big\\{a^{\\dagger}_{(\\eta',0)}\\tilde{a}_{(0,\\eta)}\\big\\}_{\\sigma\\hspace{20mm}M_o}^{(\\lambda_o,\\mu_o),K_o,L_o=J_o=3}\n",
    "\\Big|\\Psi''_{\\pi+\\nu}\\Big\\rangle \\Big\\langle\\Psi''_{\\pi+\\nu}\\Big| \\big\\{a^{\\dagger}_{(\\eta''',0)}\\tilde{a}_{(0,\\eta'')}\\big\\}_{\\sigma'\\hspace{17mm}-M_o}^{(\\lambda_o',\\mu_o'),K_o',L_o=J_o=3}\n",
    "\\Big|\\Psi'_{\\pi+\\nu}\\Big\\rangle\n",
    "\\\\= \\sum_{\\substack{M_o, \\sigma, \\sigma'\\\\(\\lambda_o,\\mu_o),K_o,\\eta,\\eta'\\\\(\\lambda_o',\\mu_o'),K_o',\\eta'',\\eta'''\\\\ \\Psi''_{\\pi+\\nu}}}(-1)^{M_o}\\mathcal{V}_{\\sigma}(\\lambda_o,\\mu_o,K_o,\\eta,\\eta')\\hspace{1mm}\\mathcal{V}_{\\sigma'}(\\lambda_o',\\mu_o',K_o',\\eta'',\\eta''')\n",
    "\\\\\\times\\langle J'',M'',3,M_o|J,M\\rangle \\langle J',M',3,-M_o|J'',M''\\rangle\n",
    "\\\\ \\times \\Big\\langle\\Psi_{\\pi+\\nu}\\Big|\\Big|\n",
    "\\big\\{a^{\\dagger}_{(\\eta',0)}\\tilde{a}_{(0,\\eta)}\\big\\}_{\\sigma\\hspace{20mm}M_o}^{(\\lambda_o,\\mu_o),K_o,L_o=J_o=3}\n",
    "\\Big|\\Big|\\Psi''_{\\pi+\\nu}\\Big\\rangle \\Big\\langle\\Psi''_{\\pi+\\nu}\\Big|\\Big| \\big\\{a^{\\dagger}_{(\\eta''',0)}\\tilde{a}_{(0,\\eta'')}\\big\\}_{\\sigma'\\hspace{17mm}-M_o}^{(\\lambda_o',\\mu_o'),K_o',L_o=J_o=3}\n",
    "\\Big|\\Big|\\Psi'_{\\pi+\\nu}\\Big\\rangle$$\n",
    "\n",
    "Where the identity $\\sum_{\\Psi''_{\\pi+\\nu}}|\\Psi''_{\\pi+\\nu}\\rangle\\langle\\Psi''_{\\pi+\\nu}|$ has been introduced. The reduced matrix elements can be computed with the equations in Troltenier, et. al, (1995), Nuc. Phys. A 586 and Restrepo, et. al, (2024), ArXiv 2405.04679 for which computer programs have been developed. Several selection rules can also be applied."
   ]
  },
  {
   "cell_type": "code",
   "execution_count": null,
   "id": "1174a61e",
   "metadata": {},
   "outputs": [],
   "source": [
    "%run Matrix_Elements_Implementations.ipynb"
   ]
  },
  {
   "cell_type": "code",
   "execution_count": null,
   "id": "6d30ec7e",
   "metadata": {},
   "outputs": [],
   "source": [
    "def O_O_MatrixElement():"
   ]
  },
  {
   "cell_type": "code",
   "execution_count": null,
   "id": "076d73dd",
   "metadata": {},
   "outputs": [],
   "source": []
  }
 ],
 "metadata": {
  "kernelspec": {
   "display_name": "Python 3 (ipykernel)",
   "language": "python",
   "name": "python3"
  },
  "language_info": {
   "codemirror_mode": {
    "name": "ipython",
    "version": 3
   },
   "file_extension": ".py",
   "mimetype": "text/x-python",
   "name": "python",
   "nbconvert_exporter": "python",
   "pygments_lexer": "ipython3",
   "version": "3.9.12"
  }
 },
 "nbformat": 4,
 "nbformat_minor": 5
}
