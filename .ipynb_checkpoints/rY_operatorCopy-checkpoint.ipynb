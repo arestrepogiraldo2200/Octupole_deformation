{
 "cells": [
  {
   "cell_type": "markdown",
   "id": "05b428f4",
   "metadata": {},
   "source": [
    "# $rY^{1}_\\mu(\\Omega)$ operator expansion in $SU(3)$ tensors"
   ]
  },
  {
   "cell_type": "markdown",
   "id": "eb1789d7",
   "metadata": {},
   "source": [
    "$$\n",
    "\\left[r_{\\sigma}Y^{1}_\\mu(\\hat{r}_{\\sigma})\\right]_{\\hspace{7mm}M_{J_o}}^{L_o=J_o=1} = \\sum_{l,m_l,l',m_{l'},m_s,m_{s'}}\\Big\\langle \\eta',l',m_{l'},\\frac{1}{2},m_{s'}\\Big| r_{\\sigma}Y^{1}_\\mu(\\hat{r}_{\\sigma}) \\Big| \\eta,l,m_{l},\\frac{1}{2},m_{s} \\Big\\rangle a^{\\dagger}_{l',m_{l'},\\frac{1}{2},m_{s'}}a_{l,m_l,\\frac{1}{2},m_{s}}\n",
    "\\\\ = \\sum_{l,m_l,l',m_{l'},m_s,m_{s'}}\n",
    "\\Big\\langle \\eta',l',\\frac{1}{2}\\Big|\\Big| r_{\\sigma}Y^{1}(\\hat{r}_{\\sigma}) \\Big|\\Big| \\eta,l,\\frac{1}{2}\\Big\\rangle \n",
    "\\frac{\\langle l,m_l; 1,\\mu | l',m_{l'} \\rangle }{\\sqrt{2l'+1}}\n",
    "\\frac{\\langle \\frac{1}{2},m_s; 0,0 | \\frac{1}{2},m_{s'} \\rangle }{\\sqrt{2}}\n",
    "a^{\\dagger}_{l',m_{l'},\\frac{1}{2},m_{s'}}a_{l,m_l,\\frac{1}{2},m_{s}}\n",
    "\\\\ = \\sum_{l,m_l,l',m_{l'},m_s,m_{s'}}\n",
    "\\Big\\langle \\eta',l',\\frac{1}{2}\\Big|\\Big| r_{\\sigma}Y^{1}(\\hat{r}_{\\sigma}) \\Big|\\Big| \\eta,l,\\frac{1}{2}\\Big\\rangle \n",
    "(-1)^{l-m_l}\\frac{\\sqrt{2l'+1}}{\\sqrt{3}}\\frac{\\langle l',m_{l'}; l,-m_l | 1,\\mu \\rangle }{\\sqrt{2l'+1}}\n",
    "(-1)^{\\frac{1}{2}-m_s}\\sqrt{2}\\frac{\\langle  \\frac{1}{2},m_{s'}; \\frac{1}{2},-m_s | 0,0  \\rangle }{\\sqrt{2}}\n",
    "a^{\\dagger}_{l',m_{l'},\\frac{1}{2},m_{s'}}a_{l,m_l,\\frac{1}{2},m_{s}}\n",
    "\\\\ = \\sum_{l,m_l,l',m_{l'},m_s,m_{s'}}\n",
    "(-1)^{\\eta}\\frac{\\Big\\langle \\eta',l',\\frac{1}{2}\\Big|\\Big| r_{\\sigma}Y^{1}(\\hat{r}_{\\sigma}) \\Big|\\Big| \\eta,l,\\frac{1}{2}\\Big\\rangle}{\\sqrt{3}}\n",
    "\\langle l',m_{l'}; l,-m_l | 1,\\mu \\rangle \n",
    "\\langle  \\frac{1}{2},m_{s'}; \\frac{1}{2},-m_s | 0,0  \\rangle\n",
    "a^{\\dagger}_{(\\eta',0),l',m_{l'},\\frac{1}{2},m_{s'}}\\tilde{a}_{(0,\\eta),l,-m_l,\\frac{1}{2},-m_{s}}\n",
    "\\\\ = \\sum_{l,l'}\n",
    "(-1)^{\\eta}\\frac{\\Big\\langle \\eta',l',\\frac{1}{2}\\Big|\\Big| r_{\\sigma}Y^{1}(\\hat{r}_{\\sigma}) \\Big|\\Big| \\eta,l,\\frac{1}{2}\\Big\\rangle}{\\sqrt{3}}\n",
    "\\Big\\{a^{\\dagger}_{(\\eta',0),l',\\frac{1}{2}}\\tilde{a}_{(0,\\eta),l,\\frac{1}{2}}\\Big\\}^{L_o=J_o=1}_{\\hspace{7mm}M_{J_o}}\n",
    "\\\\=\\frac{(-1)^{\\eta}}{\\sqrt{3}}\\sum_{(\\lambda_o, \\mu_o)}\\sum_{l,l'}\\Big\\langle \\eta',l',\\frac{1}{2}\\Big|\\Big| r_{\\sigma}Y^{1}(\\hat{r}_{\\sigma}) \\Big|\\Big| \\eta,l,\\frac{1}{2}\\Big\\rangle \\langle (\\eta',0),0,l'; (0,\\eta),0,l||(\\lambda_o,\\mu_o),k_o,1 \\rangle_{\\rho_o=1}\\Big\\{a^{\\dagger}_{(\\eta',0)\\frac{1}{2}}\\times \\tilde{a}_{(0,\\eta)\\frac{1}{2}}\\Big\\}^{\\rho_o=1(\\lambda_o,\\mu_o)k_oL_o=J_o=1}_{\\hspace{26mm}M_{J_o}}\n",
    "$$"
   ]
  },
  {
   "cell_type": "markdown",
   "id": "9f1b0dca",
   "metadata": {},
   "source": [
    "# Program to compute $rY^{1}_\\mu(\\Omega)$ operator expansion in $SU(3)$ tensors for actinides\n",
    "\n",
    "The expansion is given by\n",
    "\n",
    "$$\\left[r_{\\sigma}Y^{1}_\\mu(\\hat{r}_{\\sigma})\\right]_{\\hspace{7mm}M_{J_o}}^{L_o=J_o=1} = \\frac{(-1)^{\\eta}}{\\sqrt{3}}\\sum_{(\\lambda_o,\\mu_o)k_o}\\sum_{l,l'}\\Big\\langle \\eta',l',\\frac{1}{2} \\Big|\\Big| r_{\\sigma}Y^{1}(\\hat{r}_{\\sigma}) \\Big|\\Big| \\eta,l,\\frac{1}{2}\\Big\\rangle\\\\ \\times\\langle (\\eta',0),0,l'; (0,\\eta),0,l||(\\lambda_o,\\mu_o),k_o,1 \\rangle_{\\rho_o=1}\\Big\\{a^{\\dagger}_{(\\eta',0)\\frac{1}{2}}\\times \\tilde{a}_{(0,\\eta)\\frac{1}{2}}\\Big\\}^{\\rho_o=1(\\lambda_o,\\mu_o)k_oL_o=J_o=1}_{\\hspace{26mm}M_{J_o}}$$\n",
    "\n",
    "where $\\sigma = \\pi, \\nu$, the operator acts on two shells $\\eta,\\eta'$ and the Edmunds convention on Wigner-Eckart theorem is used."
   ]
  },
  {
   "cell_type": "code",
   "execution_count": 2,
   "id": "854554b4",
   "metadata": {},
   "outputs": [],
   "source": [
    "# Libraries\n",
    "import numpy as np\n",
    "import pandas as pd"
   ]
  },
  {
   "cell_type": "code",
   "execution_count": 3,
   "id": "c0ffd1f6",
   "metadata": {},
   "outputs": [],
   "source": [
    "# Coefficients and reduced matrix elements\n",
    "SU3coeffs = pd.read_csv(\"./adat_coupling_coeffs_actinides/coeffs.csv\")\n",
    "rYrmes = pd.read_csv(\"./rY_double_bar_rmes_actinides/rY_double_bar_rmes.csv\")\n",
    "couplings = pd.read_csv(\"./adat_couplings_actinides/couplings.csv\")"
   ]
  },
  {
   "cell_type": "code",
   "execution_count": 4,
   "id": "4b99b5bd",
   "metadata": {},
   "outputs": [],
   "source": [
    "def SU3_rY_expansion(eta1, eta2):\n",
    "    \n",
    "    # Orbital angular momentum values in each shell\n",
    "    L1 = [l for l in range(eta1,-1,-2)]\n",
    "    L2 = [l for l in range(eta2,-1,-2)]\n",
    "    \n",
    "    # Double bar reduced matrix elements < η1, l1 || rY^1(Ω) || η2, l2 >\n",
    "    tensor_rYrmes = rYrmes[(rYrmes[\"eta1\"]==eta1) & (rYrmes[\"eta2\"]==eta2)]\n",
    "        \n",
    "    # Extraction of (λ_o, μ_o) irreps of the (η1, 0)x(0, η2) couplings\n",
    "    tensor_irreps = couplings[(couplings[\"lam1\"]==eta1) & (couplings[\"mu2\"]==eta2)][[\"lam\",\"mu\"]].to_numpy()\n",
    "        \n",
    "    # Extraction of < (η1, 0), 0, l1; (0, η2),0, l2|| (λ_o, μ_o),K_o, l_o > coefficients\n",
    "    tensor_coeffs = pd.DataFrame()\n",
    "    for irrep in tensor_irreps:\n",
    "        tensor_coeffs = pd.concat([tensor_coeffs,SU3coeffs[(SU3coeffs[\"lam1\"]==eta1) & (SU3coeffs[\"mu2\"]==eta2) &\n",
    "                                                (SU3coeffs[\"lam3\"]==irrep[0]) & (SU3coeffs[\"mu3\"]==irrep[1])]])\n",
    "        \n",
    "    # Calculation of sum over l1 and l2 \n",
    "    expansion = []\n",
    "        \n",
    "    for irrep in tensor_irreps:\n",
    "        \n",
    "        s = 0\n",
    "        \n",
    "        # Sum over l1 and l2\n",
    "        for l1 in L1:\n",
    "            for l2 in L2:\n",
    "                \n",
    "                # Gets rY double bar reduced matrix element\n",
    "                GETrYrme = tensor_rYrmes[(tensor_rYrmes[\"l1\"]==l1) & (tensor_rYrmes[\"l2\"]==l2)]\n",
    "                rYrme = 0 if GETrYrme.empty else float(GETrYrme[\"rme\"])\n",
    "                \n",
    "                #if rYrme == 0:\n",
    "                #    print(\"< \",eta1,\",\",l1,\"|| rY ||\",eta2,\",\",l2,\"> = 0\")\n",
    "                \n",
    "                # Gets coefficient\n",
    "                GETrYcoeff = tensor_coeffs[(tensor_coeffs[\"l1\"]==l1) & (tensor_coeffs[\"l2\"]==l2) &\n",
    "                                        (tensor_coeffs[\"lam3\"]==irrep[0]) & (tensor_coeffs[\"mu3\"]==irrep[1])]\n",
    "                rYcoeff = 0 if GETrYcoeff.empty else float(GETrYcoeff[\"coeff\"])\n",
    "                \n",
    "                #if rYcoeff == 0:\n",
    "                #    print(\"<(\",eta1,\",0),\",l1,\";(0,\",eta2,\"), \",l2,\" ||(\",irrep[0],\",\",irrep[1],\"), 1 > = 0\")\n",
    "                \n",
    "                # Sumation\n",
    "                s += rYrme*rYcoeff\n",
    "                \n",
    "        expansion.append([(-1)**eta2*s/np.sqrt(3), irrep])\n",
    "        \n",
    "    return expansion\n",
    "\n",
    "def print_format(expansion):\n",
    "    \n",
    "    string = \"\"\n",
    "    \n",
    "    for term in expansion:\n",
    "        if term[0] <= 0:\n",
    "            string += \" {0}{{a+a}}({1},{2})\".format(round(term[0],4), term[1][0], term[1][1]) \n",
    "        else:\n",
    "            string += \" + {0}{{a+a}}({1},{2})\".format(round(term[0],4), term[1][0], term[1][1])\n",
    "            \n",
    "    print(string)"
   ]
  },
  {
   "cell_type": "markdown",
   "id": "87579f97",
   "metadata": {},
   "source": [
    "# Proton operator\n",
    "\n",
    "This operator destroys a proton in $\\eta = 6$ and creates one proton in $\\eta' = 5$. The expansion is given by\n",
    "\n",
    "$$\\left[r_{\\pi}Y^{1}_\\mu(\\hat{r}_{\\pi})\\right]_{\\hspace{7mm}M_{J_o}}^{L_o=J_o=1} = \\frac{1}{\\sqrt{3}}\\sum_{(\\lambda_o,\\mu_o)k_o}\\sum_{l,l'}\\Big\\langle \\eta' = 5,l',\\frac{1}{2} \\Big|\\Big| r_{\\pi}Y^{1}(\\hat{r}_{\\pi}) \\Big|\\Big| \\eta = 6,l,\\frac{1}{2}\\Big\\rangle \\\\ \\times\\langle (5,0),0,l'; (0,6),0,l||(\\lambda_o,\\mu_o),k_o,1 \\rangle_{\\rho_o=1}\\Big\\{a^{\\dagger}_{(5,0)\\frac{1}{2}}\\times \\tilde{a}_{(0,6)\\frac{1}{2}}\\Big\\}^{\\rho_o=1(\\lambda_o,\\mu_o)k_oL_o=J_o=1}_{\\hspace{26mm}M_{J_o}}$$"
   ]
  },
  {
   "cell_type": "code",
   "execution_count": 5,
   "id": "8679e434",
   "metadata": {},
   "outputs": [
    {
     "name": "stdout",
     "output_type": "stream",
     "text": [
      "[[-0.3709121274256688, array([5, 6])], [0.20574642859123457, array([4, 5])], [0.5315093604157286, array([3, 4])], [-0.4596360788911335, array([2, 3])], [-1.7435442029972494, array([1, 2])], [1.7236270942936072, array([0, 1])]] \n",
      "\n",
      " -0.3709{a+a}(5,6) + 0.2057{a+a}(4,5) + 0.5315{a+a}(3,4) -0.4596{a+a}(2,3) -1.7435{a+a}(1,2) + 1.7236{a+a}(0,1)\n"
     ]
    }
   ],
   "source": [
    "protonrY = SU3_rY_expansion(5,6)\n",
    "print(protonrY,  \"\\n\")\n",
    "print_format(protonrY)"
   ]
  },
  {
   "cell_type": "markdown",
   "id": "359c6e58",
   "metadata": {},
   "source": [
    "# Neutron operator\n",
    "\n",
    "This operator destroys a proton in $\\eta = 7$ and creates one proton in $\\eta' = 6$. The expansion is given by\n",
    "\n",
    "$$\\left[r_{\\nu}Y^{1}_\\mu(\\hat{r}_{\\nu})\\right]_{\\hspace{7mm}M_{J_o}}^{L_o=J_o=1} = -\\frac{1}{\\sqrt{3}}\\sum_{(\\lambda_o,\\mu_o)k_o}\\sum_{l,l'}\\Big\\langle \\eta' = 6,l',\\frac{1}{2} \\Big|\\Big| r_{\\nu}Y^{1}(\\hat{r}_{\\nu}) \\Big|\\Big| \\eta = 7,l,\\frac{1}{2}\\Big\\rangle\\\\ \\times\\langle (6,0),0,l'; (0,7),0,l||(\\lambda_o,\\mu_o),k_o,1 \\rangle_{\\rho_o=1}\\Big\\{a^{\\dagger}_{(6,0)\\frac{1}{2}}\\times \\tilde{a}_{(0,7)\\frac{1}{2}}\\Big\\}^{\\rho_o=1(\\lambda_o,\\mu_o)k_oL_o=J_o=1}_{\\hspace{26mm}M_{J_o}}$$"
   ]
  },
  {
   "cell_type": "code",
   "execution_count": 6,
   "id": "45a80626",
   "metadata": {},
   "outputs": [
    {
     "name": "stdout",
     "output_type": "stream",
     "text": [
      "[[-0.34101916024129764, array([6, 7])], [-0.24401383796675546, array([5, 6])], [0.38332444381144287, array([4, 5])], [0.5486539571391357, array([3, 4])], [-0.6483787072210015, array([2, 3])], [-2.076417292237013, array([1, 2])], [2.1612625533664307, array([0, 1])]] \n",
      "\n",
      " -0.341{a+a}(6,7) -0.244{a+a}(5,6) + 0.3833{a+a}(4,5) + 0.5487{a+a}(3,4) -0.6484{a+a}(2,3) -2.0764{a+a}(1,2) + 2.1613{a+a}(0,1)\n"
     ]
    }
   ],
   "source": [
    "neutronrY = SU3_rY_expansion(6,7)\n",
    "print(neutronrY,  \"\\n\")\n",
    "print_format(neutronrY)"
   ]
  }
 ],
 "metadata": {
  "kernelspec": {
   "display_name": "Python 3 (ipykernel)",
   "language": "python",
   "name": "python3"
  },
  "language_info": {
   "codemirror_mode": {
    "name": "ipython",
    "version": 3
   },
   "file_extension": ".py",
   "mimetype": "text/x-python",
   "name": "python",
   "nbconvert_exporter": "python",
   "pygments_lexer": "ipython3",
   "version": "3.9.12"
  }
 },
 "nbformat": 4,
 "nbformat_minor": 5
}
